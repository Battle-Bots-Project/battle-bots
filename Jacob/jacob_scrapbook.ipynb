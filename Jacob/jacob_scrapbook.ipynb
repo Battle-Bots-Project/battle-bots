{
 "cells": [
  {
   "cell_type": "code",
   "execution_count": 1,
   "id": "925396ce-d3c4-44eb-bd26-1e2b55e4bab7",
   "metadata": {},
   "outputs": [],
   "source": [
    "from selenium import webdriver"
   ]
  },
  {
   "cell_type": "code",
   "execution_count": 11,
   "id": "fab7497b-4374-471b-8ea8-dfdfcece5e6d",
   "metadata": {},
   "outputs": [],
   "source": [
    "from selenium import webdriver\n",
    "\n",
    "chrome_driver_path = \"/Users/jp/Downloads/chromedriver_mac64/chromedriver\"\n",
    "options = webdriver.ChromeOptions()\n",
    "options.add_argument('--disable-extensions')\n",
    "options.add_argument('--disable-gpu')\n",
    "options.add_argument('--no-sandbox')\n",
    "options.add_argument('--headless')\n"
   ]
  },
  {
   "cell_type": "code",
   "execution_count": null,
   "id": "d5115e0e-e2bd-4aae-af0a-32c222e4c3fd",
   "metadata": {},
   "outputs": [],
   "source": [
    "from selenium import webdriver\n",
    "from selenium.webdriver.chrome.options import Options\n",
    "\n",
    "options = Options()\n",
    "options.headless = True\n",
    "options.add_argument(\"--window-size=1920,1200\")\n",
    "\n",
    "driver = webdriver.Chrome(options=options, executable_path=chrome_driver_path)\n",
    "driver.get(\"https://battlebots.fandom.com/wiki/Category:Heavyweight_Robots?from=Huntsman\")\n",
    "#print(driver.page_source)\n",
    "\n",
    "driver.quit()"
   ]
  },
  {
   "cell_type": "code",
   "execution_count": null,
   "id": "359591d3-8e69-4d22-ab34-b3bd672868eb",
   "metadata": {},
   "outputs": [],
   "source": []
  }
 ],
 "metadata": {
  "kernelspec": {
   "display_name": "Python 3 (ipykernel)",
   "language": "python",
   "name": "python3"
  },
  "language_info": {
   "codemirror_mode": {
    "name": "ipython",
    "version": 3
   },
   "file_extension": ".py",
   "mimetype": "text/x-python",
   "name": "python",
   "nbconvert_exporter": "python",
   "pygments_lexer": "ipython3",
   "version": "3.9.13"
  }
 },
 "nbformat": 4,
 "nbformat_minor": 5
}
