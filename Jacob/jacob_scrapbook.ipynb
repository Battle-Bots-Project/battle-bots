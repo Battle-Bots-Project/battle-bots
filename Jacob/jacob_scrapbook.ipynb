{
 "cells": [
  {
   "cell_type": "code",
   "execution_count": 160,
   "id": "925396ce-d3c4-44eb-bd26-1e2b55e4bab7",
   "metadata": {},
   "outputs": [],
   "source": [
    "from selenium import webdriver\n",
    "import pandas as pd \n",
    "from selenium.webdriver.chrome.options import Options\n"
   ]
  },
  {
   "cell_type": "code",
   "execution_count": 165,
   "id": "8ce9a8bf-3748-4f78-ade3-073474578e10",
   "metadata": {},
   "outputs": [],
   "source": [
    "from selenium import webdriver\n",
    "\n",
    "chrome_driver_path = \"/Users/jp/Downloads/chromedriver_mac64/chromedriver\"\n",
    "options = webdriver.ChromeOptions()\n",
    "options.add_argument('--disable-extensions')\n",
    "options.add_argument('--disable-gpu')\n",
    "options.add_argument('--no-sandbox')\n",
    "options.add_argument('--headless')\n",
    "\n",
    "\n",
    "\n",
    "options = Options()\n",
    "options.headless = True\n",
    "options.add_argument(\"--window-size=1920,1200\")\n",
    "\n",
    "driver = webdriver.Chrome(options=options, executable_path=chrome_driver_path)\n",
    "driver.get(\"https://battlebots.fandom.com/wiki/Bad_Kitty\")\n",
    "#print(driver.page_source)\n",
    "\n"
   ]
  },
  {
   "cell_type": "code",
   "execution_count": null,
   "id": "359591d3-8e69-4d22-ab34-b3bd672868eb",
   "metadata": {},
   "outputs": [],
   "source": [
    "lst = ['reboot_seasons','team', 'other_events','power','weapons']\n",
    "\n",
    "\n",
    "header = []\n",
    "content = []\n",
    "\n",
    "for i in lst:\n",
    "    # Find all elements that have data-source=i\n",
    "    items = driver.find_elements_by_css_selector(f\"[data-source={i}]\")\n",
    "\n",
    "    # Print the header and content of each item\n",
    "    for item in items:\n",
    "        header_items = item.find_element_by_tag_name(\"h3\").text\n",
    "        content_items = item.find_element_by_tag_name(\"div\").text\n",
    "        header.append(header_items)\n",
    "        content.append(content_items)\n",
    "\n",
    "# Close the browser\n",
    "driver.quit()\n",
    "\n",
    "# Print the header and content lists\n",
    "print(header)\n",
    "print(content)\n"
   ]
  },
  {
   "cell_type": "code",
   "execution_count": 142,
   "id": "ab54a14d-be75-4a64-9b59-840efd54b1fa",
   "metadata": {},
   "outputs": [
    {
     "data": {
      "text/plain": [
       "['Reboot Seasons', 'Team', 'Other Events', 'Power', 'Weapons']"
      ]
     },
     "execution_count": 142,
     "metadata": {},
     "output_type": "execute_result"
    }
   ],
   "source": [
    "header"
   ]
  },
  {
   "cell_type": "code",
   "execution_count": 143,
   "id": "0dd96031-a482-4a9a-8f95-879934a77142",
   "metadata": {},
   "outputs": [
    {
     "data": {
      "text/plain": [
       "['World Championship V',\n",
       " 'AutoVoltz Robotics',\n",
       " 'BattleBots: Bounty Hunters',\n",
       " '5450mAh 22.2V 120C LiPo batteries',\n",
       " 'Vertical spinner']"
      ]
     },
     "execution_count": 143,
     "metadata": {},
     "output_type": "execute_result"
    }
   ],
   "source": [
    "content"
   ]
  },
  {
   "cell_type": "code",
   "execution_count": null,
   "id": "ce3c9340-0a1c-42a1-93cf-881be6fa37c2",
   "metadata": {},
   "outputs": [],
   "source": [
    "# Find the h2 tag with data-source=\"robot_name\" and append it to the header list\n",
    "h2_robot_name = driver.find_element_by_css_selector(\"h2[data-source='robot_name']\").text\n",
    "header.append(h2_robot_name)\n",
    "\n",
    "lst = ['reboot_seasons', 'team', 'other_events', 'power', 'weapons']\n",
    "content = []\n",
    "\n",
    "for i in lst:\n",
    "    # Find all elements that have data-source=i\n",
    "    items = driver.find_elements_by_css_selector(f\"[data-source='{i}']\")\n",
    "\n",
    "    # Print the content of each item\n",
    "    for item in items:\n",
    "        content_items = item.find_element_by_tag_name(\"div\").text\n",
    "        content.append(content_items)\n",
    "\n",
    "# Close the browser\n",
    "driver.quit()\n",
    "\n",
    "# Print the header and content lists\n",
    "print(header)\n",
    "print(content)\n"
   ]
  },
  {
   "cell_type": "code",
   "execution_count": 166,
   "id": "59b53309-4ec2-4590-8df4-755102a525f6",
   "metadata": {},
   "outputs": [
    {
     "name": "stdout",
     "output_type": "stream",
     "text": [
      "['Reboot Seasons', 'Team', 'Weapons']\n",
      "['World Championship II', 'Team Think Tank', 'Vertical spinner']\n",
      "      header           label                  value\n",
      "0  Bad Kitty  Reboot Seasons  World Championship II\n"
     ]
    }
   ],
   "source": [
    "import pandas as pd\n",
    "from selenium import webdriver\n",
    "import time\n",
    "\n",
    "\n",
    "\n",
    "# Wait for the page to fully load\n",
    "time.sleep(2)\n",
    "\n",
    "lst = ['reboot_seasons','team', 'other_events','power','weapons']\n",
    "\n",
    "header = []\n",
    "content = []\n",
    "\n",
    "for i in lst:\n",
    "    # Find all elements that have data-source=i\n",
    "    items = driver.find_elements_by_css_selector(f\"[data-source={i}]\")\n",
    "\n",
    "    # Print the header and content of each item\n",
    "    for item in items:\n",
    "        header_items = item.find_element_by_tag_name(\"h3\").text\n",
    "        content_items = item.find_element_by_tag_name(\"div\").text\n",
    "        header.append(header_items)\n",
    "        content.append(content_items)\n",
    "\n",
    "# Find all h2 and h3 tags with class=\"pi-item pi-item-spacing pi-title pi-secondary-background\"\n",
    "h2_tags = driver.find_elements_by_css_selector(\"h2.pi-item.pi-item-spacing.pi-title.pi-secondary-background, h3.pi-item.pi-item-spacing.pi-title.pi-secondary-background\")\n",
    "\n",
    "# Iterate over the h2 and h3 tags\n",
    "data_list = []\n",
    "for h_tag in h2_tags:\n",
    "    # Find the section tag that follows the h2 or h3 tag\n",
    "    section_tag = h_tag.find_element_by_xpath(\"following-sibling::section\")\n",
    "\n",
    "    # Find the div tags within the section tag\n",
    "    div_tags = section_tag.find_elements_by_xpath(\".//div[@data-source]\")\n",
    "\n",
    "    # Extract the data from the div tags into a list of dictionaries\n",
    "    for div_tag in div_tags:\n",
    "        data_dict = {\n",
    "            \"header\": h_tag.text,\n",
    "            \"label\": div_tag.find_element_by_css_selector(\"h3\").text,\n",
    "            \"value\": div_tag.find_element_by_css_selector(\"div\").text\n",
    "        }\n",
    "        data_list.append(data_dict)\n",
    "\n",
    "# Convert the list of dictionaries into a DataFrame\n",
    "df = pd.DataFrame(data_list)\n",
    "\n",
    "# Close the browser\n",
    "\n",
    "driver.quit()\n",
    "\n",
    "# Print the header and content lists\n",
    "print(header)\n",
    "print(content)\n",
    "\n",
    "# Print the DataFrame\n",
    "print(df)\n",
    "\n"
   ]
  },
  {
   "cell_type": "code",
   "execution_count": null,
   "id": "5e1493db-c96b-4f53-bb62-6c74473395b5",
   "metadata": {},
   "outputs": [],
   "source": []
  }
 ],
 "metadata": {
  "kernelspec": {
   "display_name": "Python 3 (ipykernel)",
   "language": "python",
   "name": "python3"
  },
  "language_info": {
   "codemirror_mode": {
    "name": "ipython",
    "version": 3
   },
   "file_extension": ".py",
   "mimetype": "text/x-python",
   "name": "python",
   "nbconvert_exporter": "python",
   "pygments_lexer": "ipython3",
   "version": "3.9.13"
  }
 },
 "nbformat": 4,
 "nbformat_minor": 5
}
