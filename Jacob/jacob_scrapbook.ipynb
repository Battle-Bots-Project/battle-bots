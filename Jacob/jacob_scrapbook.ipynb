{
 "cells": [
  {
   "cell_type": "code",
   "execution_count": 14,
   "id": "925396ce-d3c4-44eb-bd26-1e2b55e4bab7",
   "metadata": {},
   "outputs": [],
   "source": [
    "from selenium import webdriver"
   ]
  },
  {
   "cell_type": "code",
   "execution_count": 34,
   "id": "fab7497b-4374-471b-8ea8-dfdfcece5e6d",
   "metadata": {},
   "outputs": [],
   "source": [
    "from selenium import webdriver\n",
    "\n",
    "chrome_driver_path = \"/Users/jp/Downloads/chromedriver_mac64/chromedriver\"\n",
    "options = webdriver.ChromeOptions()\n",
    "options.add_argument('--disable-extensions')\n",
    "options.add_argument('--disable-gpu')\n",
    "options.add_argument('--no-sandbox')\n",
    "options.add_argument('--headless')\n"
   ]
  },
  {
   "cell_type": "code",
   "execution_count": 41,
   "id": "d5115e0e-e2bd-4aae-af0a-32c222e4c3fd",
   "metadata": {},
   "outputs": [],
   "source": [
    "from selenium import webdriver\n",
    "from selenium.webdriver.chrome.options import Options\n",
    "\n",
    "options = Options()\n",
    "options.headless = True\n",
    "options.add_argument(\"--window-size=1920,1200\")\n",
    "\n",
    "driver = webdriver.Chrome(options=options, executable_path=chrome_driver_path)\n",
    "driver.get(\"https://battlebots.fandom.com/wiki/ATOM94\")\n",
    "#print(driver.page_source)\n",
    "\n"
   ]
  },
  {
   "cell_type": "code",
   "execution_count": 42,
   "id": "359591d3-8e69-4d22-ab34-b3bd672868eb",
   "metadata": {},
   "outputs": [],
   "source": [
    "from selenium import webdriver\n",
    "lst=['reboot_seasons','team', 'other_events','power','weapons']\n",
    "for i in lst:\n",
    "    # Find all elements that have data-source=\"source1\"\n",
    "    #print(i)\n",
    "    items = driver.find_elements_by_css_selector(f\"[data-source={i}]\")\n",
    "\n",
    "# Print the header and content of each item\n",
    "header=[]\n",
    "content=[]\n",
    "for item in items:\n",
    "    header_items = item.find_element_by_tag_name(\"h3\").text\n",
    "    content_items = item.find_element_by_tag_name(\"div\").text\n",
    "    header.append(header_items)\n",
    "    content.append(content_items)\n",
    "\n",
    "# Close the browser\n",
    "driver.quit()\n"
   ]
  },
  {
   "cell_type": "code",
   "execution_count": 43,
   "id": "ab54a14d-be75-4a64-9b59-840efd54b1fa",
   "metadata": {},
   "outputs": [
    {
     "data": {
      "text/plain": [
       "['Weapons']"
      ]
     },
     "execution_count": 43,
     "metadata": {},
     "output_type": "execute_result"
    }
   ],
   "source": [
    "header"
   ]
  },
  {
   "cell_type": "code",
   "execution_count": 44,
   "id": "0dd96031-a482-4a9a-8f95-879934a77142",
   "metadata": {},
   "outputs": [
    {
     "data": {
      "text/plain": [
       "['Vertical spinner']"
      ]
     },
     "execution_count": 44,
     "metadata": {},
     "output_type": "execute_result"
    }
   ],
   "source": [
    "content"
   ]
  },
  {
   "cell_type": "code",
   "execution_count": null,
   "id": "ce3c9340-0a1c-42a1-93cf-881be6fa37c2",
   "metadata": {},
   "outputs": [],
   "source": []
  }
 ],
 "metadata": {
  "kernelspec": {
   "display_name": "Python 3 (ipykernel)",
   "language": "python",
   "name": "python3"
  },
  "language_info": {
   "codemirror_mode": {
    "name": "ipython",
    "version": 3
   },
   "file_extension": ".py",
   "mimetype": "text/x-python",
   "name": "python",
   "nbconvert_exporter": "python",
   "pygments_lexer": "ipython3",
   "version": "3.9.13"
  }
 },
 "nbformat": 4,
 "nbformat_minor": 5
}
