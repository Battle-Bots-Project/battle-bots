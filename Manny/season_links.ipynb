{
 "cells": [
  {
   "cell_type": "code",
   "execution_count": 1,
   "id": "6bc54e37",
   "metadata": {},
   "outputs": [],
   "source": [
    "import pandas as pd\n",
    "from selenium import webdriver"
   ]
  },
  {
   "cell_type": "code",
   "execution_count": 3,
   "id": "b683ac04",
   "metadata": {},
   "outputs": [],
   "source": [
    "base_link = \"https://battlebots.com/robots/\"\n",
    "current_link = \"https://battlebots.com/season-1-robots/\""
   ]
  },
  {
   "cell_type": "code",
   "execution_count": 4,
   "id": "adc80ac2",
   "metadata": {},
   "outputs": [],
   "source": [
    "driver = webdriver.Chrome()"
   ]
  },
  {
   "cell_type": "code",
   "execution_count": 5,
   "id": "063e4ca9",
   "metadata": {},
   "outputs": [],
   "source": [
    "driver.get(base_link)"
   ]
  },
  {
   "cell_type": "markdown",
   "id": "8404c365",
   "metadata": {},
   "source": [
    "### Cookies Overlay"
   ]
  },
  {
   "cell_type": "code",
   "execution_count": 6,
   "id": "1bee459a",
   "metadata": {},
   "outputs": [],
   "source": [
    "# cookies alert window popup, close button\n",
    "cookies_button = driver.find_element_by_class_name(\"cmplz-close\")"
   ]
  },
  {
   "cell_type": "code",
   "execution_count": 7,
   "id": "bf2ce268",
   "metadata": {},
   "outputs": [],
   "source": [
    "# click close button\n",
    "cookies_button.click()"
   ]
  },
  {
   "cell_type": "markdown",
   "id": "9709f258",
   "metadata": {},
   "source": [
    "### Elements In `\"row\"` Class"
   ]
  },
  {
   "cell_type": "code",
   "execution_count": 8,
   "id": "656d0b1e",
   "metadata": {},
   "outputs": [],
   "source": [
    "# seasons\n",
    "seasons = driver.find_elements_by_class_name(\"row\")"
   ]
  },
  {
   "cell_type": "markdown",
   "id": "76f48e64",
   "metadata": {},
   "source": [
    "### List of Elements by Class `\"row\"` items [0]-[3] are empty"
   ]
  },
  {
   "cell_type": "code",
   "execution_count": 9,
   "id": "8cd38675",
   "metadata": {},
   "outputs": [
    {
     "name": "stdout",
     "output_type": "stream",
     "text": [
      "World Championship VII\n",
      "2021 season\n"
     ]
    }
   ],
   "source": [
    "print(seasons[4].text)"
   ]
  },
  {
   "cell_type": "markdown",
   "id": "d5e0e7fb",
   "metadata": {},
   "source": [
    "### Every element list item has 2 Season Links"
   ]
  },
  {
   "cell_type": "code",
   "execution_count": 10,
   "id": "bda82a35",
   "metadata": {},
   "outputs": [
    {
     "name": "stdout",
     "output_type": "stream",
     "text": [
      "2020 season\n",
      "2019 season\n"
     ]
    }
   ],
   "source": [
    "print(seasons[5].text)"
   ]
  },
  {
   "cell_type": "markdown",
   "id": "ef75aa45",
   "metadata": {},
   "source": [
    "### Except last Item"
   ]
  },
  {
   "cell_type": "code",
   "execution_count": 11,
   "id": "5cb03123",
   "metadata": {},
   "outputs": [
    {
     "name": "stdout",
     "output_type": "stream",
     "text": [
      "2015 season\n"
     ]
    }
   ],
   "source": [
    "print(seasons[7].text)"
   ]
  },
  {
   "cell_type": "markdown",
   "id": "f71149b8",
   "metadata": {},
   "source": [
    "# Example"
   ]
  },
  {
   "cell_type": "markdown",
   "id": "be09cb67",
   "metadata": {},
   "source": [
    "### Child Element by `CSS Selector`"
   ]
  },
  {
   "cell_type": "code",
   "execution_count": 12,
   "id": "619ae065",
   "metadata": {},
   "outputs": [],
   "source": [
    "link = seasons[4].find_elements_by_css_selector(\"a\")"
   ]
  },
  {
   "cell_type": "code",
   "execution_count": 13,
   "id": "0499d52a",
   "metadata": {},
   "outputs": [
    {
     "name": "stdout",
     "output_type": "stream",
     "text": [
      "World Championship VII\n",
      "2021 season\n"
     ]
    }
   ],
   "source": [
    "print(seasons[4].text)"
   ]
  },
  {
   "cell_type": "markdown",
   "id": "655371ca",
   "metadata": {},
   "source": [
    "#### Child Element attribute `href`"
   ]
  },
  {
   "cell_type": "code",
   "execution_count": 14,
   "id": "329abe6d",
   "metadata": {},
   "outputs": [],
   "source": [
    "href = link[0].get_attribute(\"href\")"
   ]
  },
  {
   "cell_type": "code",
   "execution_count": 15,
   "id": "95a72655",
   "metadata": {},
   "outputs": [
    {
     "name": "stdout",
     "output_type": "stream",
     "text": [
      "https://battlebots.com/world-championship-vii-robots/\n"
     ]
    }
   ],
   "source": [
    "print(href)"
   ]
  },
  {
   "cell_type": "code",
   "execution_count": 16,
   "id": "bfbcbf0c",
   "metadata": {},
   "outputs": [
    {
     "name": "stdout",
     "output_type": "stream",
     "text": [
      "https://battlebots.com/2021-season-robots/\n"
     ]
    }
   ],
   "source": [
    "href = link[2].get_attribute(\"href\")\n",
    "print(href)"
   ]
  },
  {
   "cell_type": "markdown",
   "id": "934c9ea2",
   "metadata": {},
   "source": [
    "#### 2 Elements in 1"
   ]
  },
  {
   "cell_type": "code",
   "execution_count": 17,
   "id": "6d7eef85",
   "metadata": {},
   "outputs": [],
   "source": [
    "link = seasons[4].find_elements_by_css_selector(\"a\")"
   ]
  },
  {
   "cell_type": "markdown",
   "id": "0443902f",
   "metadata": {},
   "source": [
    "### Each Season has 4 Links"
   ]
  },
  {
   "cell_type": "code",
   "execution_count": 18,
   "id": "e9ed309c",
   "metadata": {},
   "outputs": [
    {
     "name": "stdout",
     "output_type": "stream",
     "text": [
      "https://battlebots.com/world-championship-vii-robots/\n",
      "https://battlebots.com/world-championship-vii-robots/\n",
      "https://battlebots.com/2021-season-robots/\n",
      "https://battlebots.com/2021-season-robots/\n"
     ]
    }
   ],
   "source": [
    "for i in link:\n",
    "    print(i.get_attribute('href'))"
   ]
  },
  {
   "cell_type": "markdown",
   "id": "3b64e25d",
   "metadata": {},
   "source": [
    "### Iterating Through Each `\"row\"` Class Element Missing Nested Seasons"
   ]
  },
  {
   "cell_type": "code",
   "execution_count": 19,
   "id": "2d660341",
   "metadata": {},
   "outputs": [
    {
     "name": "stdout",
     "output_type": "stream",
     "text": [
      "https://battlebots.com/world-championship-vii-robots/\n",
      "https://battlebots.com/2020-season-robots/\n",
      "https://battlebots.com/2018-season-robots/\n",
      "https://battlebots.com/season-1-robots/\n"
     ]
    }
   ],
   "source": [
    "seasons = driver.find_elements_by_class_name(\"row\")\n",
    "for i in range(4,7+1):\n",
    "    link = seasons[i].find_element_by_css_selector(\"a\")\n",
    "    print(link.get_attribute(\"href\"))"
   ]
  },
  {
   "cell_type": "markdown",
   "id": "864dafd2",
   "metadata": {},
   "source": [
    "# Final List of Links"
   ]
  },
  {
   "cell_type": "code",
   "execution_count": 20,
   "id": "37286740",
   "metadata": {},
   "outputs": [
    {
     "name": "stdout",
     "output_type": "stream",
     "text": [
      "https://battlebots.com/world-championship-vii-robots/\n",
      "https://battlebots.com/2021-season-robots/\n",
      "https://battlebots.com/2020-season-robots/\n",
      "https://battlebots.com/2019-season-robots/\n",
      "https://battlebots.com/2018-season-robots/\n",
      "https://battlebots.com/season-2-robots/\n",
      "https://battlebots.com/season-1-robots/\n"
     ]
    }
   ],
   "source": [
    "seasons = driver.find_elements_by_class_name(\"row\")\n",
    "\n",
    "for i in range(4, 7):\n",
    "    for j in range(2):\n",
    "        link = seasons[i].find_elements_by_tag_name(\"a\")[j+1].get_attribute(\"href\")\n",
    "        print(link)\n",
    "\n",
    "link = seasons[7].find_element_by_tag_name(\"a\").get_attribute(\"href\")\n",
    "print(link)"
   ]
  },
  {
   "cell_type": "markdown",
   "id": "23ed1947",
   "metadata": {},
   "source": [
    "# Season Links Function"
   ]
  },
  {
   "cell_type": "code",
   "execution_count": 21,
   "id": "caa70472",
   "metadata": {},
   "outputs": [],
   "source": [
    "def get_season_links(driver):\n",
    "    class_element = driver.find_elements_by_class_name(\"row\")\n",
    "    links = []\n",
    "    for i in range(4, 7):\n",
    "        for j in range(2):\n",
    "            season = class_element[i].find_elements_by_tag_name(\"a\")[j+1].get_attribute(\"href\")\n",
    "            links.append(season)\n",
    "\n",
    "    season = class_element[7].find_element_by_tag_name(\"a\").get_attribute(\"href\")\n",
    "    links.append(season)\n",
    "    return links"
   ]
  },
  {
   "cell_type": "code",
   "execution_count": 22,
   "id": "12678767",
   "metadata": {},
   "outputs": [],
   "source": [
    "season_links = get_season_links(driver)"
   ]
  },
  {
   "cell_type": "code",
   "execution_count": 23,
   "id": "27b7a6a1",
   "metadata": {},
   "outputs": [
    {
     "name": "stdout",
     "output_type": "stream",
     "text": [
      "https://battlebots.com/world-championship-vii-robots/\n",
      "https://battlebots.com/2021-season-robots/\n",
      "https://battlebots.com/2020-season-robots/\n",
      "https://battlebots.com/2019-season-robots/\n",
      "https://battlebots.com/2018-season-robots/\n",
      "https://battlebots.com/season-2-robots/\n",
      "https://battlebots.com/season-1-robots/\n"
     ]
    }
   ],
   "source": [
    "for i in season_links:\n",
    "    print(i)"
   ]
  }
 ],
 "metadata": {
  "kernelspec": {
   "display_name": "Python 3 (ipykernel)",
   "language": "python",
   "name": "python3"
  },
  "language_info": {
   "codemirror_mode": {
    "name": "ipython",
    "version": 3
   },
   "file_extension": ".py",
   "mimetype": "text/x-python",
   "name": "python",
   "nbconvert_exporter": "python",
   "pygments_lexer": "ipython3",
   "version": "3.9.13"
  }
 },
 "nbformat": 4,
 "nbformat_minor": 5
}
