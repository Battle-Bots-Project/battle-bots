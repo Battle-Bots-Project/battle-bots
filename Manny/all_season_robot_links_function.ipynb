{
 "cells": [
  {
   "cell_type": "code",
   "execution_count": 14,
   "id": "6bc54e37",
   "metadata": {},
   "outputs": [],
   "source": [
    "import pandas as pd  \n",
    "from selenium import webdriver\n",
    "import json"
   ]
  },
  {
   "cell_type": "markdown",
   "id": "9986a208",
   "metadata": {},
   "source": [
    "# Cookies Popup Function"
   ]
  },
  {
   "cell_type": "code",
   "execution_count": 2,
   "id": "42b248ff",
   "metadata": {},
   "outputs": [],
   "source": [
    "def get_rid_of_cookies_popup(driver):\n",
    "    # cookies alert window popup, close button\n",
    "    cookies_button = driver.find_element_by_class_name(\"cmplz-close\")\n",
    "    \n",
    "    # click close button\n",
    "    cookies_button.click()"
   ]
  },
  {
   "cell_type": "markdown",
   "id": "23ed1947",
   "metadata": {},
   "source": [
    "# Season Links Function"
   ]
  },
  {
   "cell_type": "code",
   "execution_count": 3,
   "id": "caa70472",
   "metadata": {},
   "outputs": [],
   "source": [
    "def get_season_links():\n",
    "    # start scraper with link\n",
    "    base_link = \"https://battlebots.com/robots/\"\n",
    "    driver = webdriver.Chrome()\n",
    "    driver.get(base_link)\n",
    "    \n",
    "    # get all season elements to list\n",
    "    class_element = driver.find_elements_by_class_name(\"row\")\n",
    "    links = []\n",
    "    for i in range(4, 7):\n",
    "        for j in range(2):\n",
    "            season = class_element[i].find_elements_by_tag_name(\"a\")[j+1].get_attribute(\"href\")\n",
    "            links.append(season)\n",
    "\n",
    "    season = class_element[7].find_element_by_tag_name(\"a\").get_attribute(\"href\")\n",
    "    links.append(season)\n",
    "    \n",
    "    # close scraper browser\n",
    "    driver.quit()\n",
    "    \n",
    "    return links"
   ]
  },
  {
   "cell_type": "code",
   "execution_count": 4,
   "id": "12678767",
   "metadata": {},
   "outputs": [],
   "source": [
    "season_links = get_season_links()"
   ]
  },
  {
   "cell_type": "markdown",
   "id": "308bc20f",
   "metadata": {},
   "source": [
    "# Robots for Season 1 (last item in Season Links List)"
   ]
  },
  {
   "cell_type": "code",
   "execution_count": null,
   "id": "0fd22ded",
   "metadata": {},
   "outputs": [],
   "source": [
    "robot_1 = \"https://battlebots.com/robot/beta/\"\n",
    "driver.get(robot_1)"
   ]
  },
  {
   "cell_type": "code",
   "execution_count": null,
   "id": "dddc0480",
   "metadata": {},
   "outputs": [],
   "source": [
    "table_elements = driver.find_elements_by_css_selector(\"table.bb-table\")"
   ]
  },
  {
   "cell_type": "code",
   "execution_count": null,
   "id": "983dbd01",
   "metadata": {},
   "outputs": [],
   "source": [
    "stats_history_html = table_elements[0].get_attribute(\"outerHTML\")\n",
    "match_history_html = table_elements[1].get_attribute(\"outerHTML\")"
   ]
  },
  {
   "cell_type": "code",
   "execution_count": null,
   "id": "024c056c",
   "metadata": {},
   "outputs": [],
   "source": [
    "stats_history_df = pd.read_html(stats_history_html)\n",
    "match_history_df = pd.read_html(match_history_html)"
   ]
  },
  {
   "cell_type": "code",
   "execution_count": null,
   "id": "defbca5e",
   "metadata": {},
   "outputs": [],
   "source": [
    "stats_history_df=stats_history_df[0]\n",
    "match_history_df=match_history_df[0]"
   ]
  },
  {
   "cell_type": "code",
   "execution_count": null,
   "id": "fba8ba2e",
   "metadata": {},
   "outputs": [],
   "source": [
    "stats_history_df"
   ]
  },
  {
   "cell_type": "code",
   "execution_count": null,
   "id": "9017f342",
   "metadata": {},
   "outputs": [],
   "source": [
    "match_history_df"
   ]
  },
  {
   "cell_type": "code",
   "execution_count": 5,
   "id": "525bbec7",
   "metadata": {},
   "outputs": [],
   "source": [
    "def get_season_robot_links(season_link):\n",
    "    # start scraper with link\n",
    "    driver = webdriver.Chrome()\n",
    "    driver.get(season_link)\n",
    "    \n",
    "    links = []\n",
    "    # go to season link\n",
    "    driver.get(season_link)\n",
    "    \n",
    "    # get all robot overlay elements to list\n",
    "    thumbnail_overlay_elements = driver.find_elements_by_css_selector(\".portfolio-item-wrapper\")\n",
    "    \n",
    "    # iterate through list of robot elements\n",
    "    for thumbnail_overlay_element in thumbnail_overlay_elements:\n",
    "        link_element = thumbnail_overlay_element.find_element_by_css_selector(\"a.button\")\n",
    "        link = link_element.get_attribute(\"href\")\n",
    "        links.append(link)\n",
    "    \n",
    "    # close scraper browser\n",
    "    driver.quit()\n",
    "    \n",
    "    return links"
   ]
  },
  {
   "cell_type": "code",
   "execution_count": 6,
   "id": "3d5c7e88",
   "metadata": {},
   "outputs": [],
   "source": [
    "season_1_robot_links = get_season_robot_links(season_links[6])"
   ]
  },
  {
   "cell_type": "code",
   "execution_count": 7,
   "id": "fef3724b",
   "metadata": {},
   "outputs": [
    {
     "data": {
      "text/plain": [
       "['https://battlebots.com/robot/beta/',\n",
       " 'https://battlebots.com/robot/bite-force/',\n",
       " 'https://battlebots.com/robot/bronco/',\n",
       " 'https://battlebots.com/robot/bull-dog/',\n",
       " 'https://battlebots.com/robot/captain-shrederator/',\n",
       " 'https://battlebots.com/robot/chomp/',\n",
       " 'https://battlebots.com/robot/chronic/',\n",
       " 'https://battlebots.com/robot/complete-control/',\n",
       " 'https://battlebots.com/robot/counter-revolution/',\n",
       " 'https://battlebots.com/robot/ghost-raptor/',\n",
       " 'https://battlebots.com/robot/hypershock/',\n",
       " 'https://battlebots.com/robot/icewave/',\n",
       " 'https://battlebots.com/robot/lock-jaw/',\n",
       " 'https://battlebots.com/robot/mohawk/',\n",
       " 'https://battlebots.com/robot/nightmare/',\n",
       " 'https://battlebots.com/robot/overdrive/',\n",
       " 'https://battlebots.com/robot/overhaul/',\n",
       " 'https://battlebots.com/robot/plan-x/',\n",
       " 'https://battlebots.com/robot/radioactive/',\n",
       " 'https://battlebots.com/robot/razorback/',\n",
       " 'https://battlebots.com/robot/splatter/',\n",
       " 'https://battlebots.com/robot/stinger/',\n",
       " 'https://battlebots.com/robot/sweet-revenge/',\n",
       " 'https://battlebots.com/robot/tombstone/',\n",
       " 'https://battlebots.com/robot/warhead/',\n",
       " 'https://battlebots.com/robot/warrior-clan/',\n",
       " 'https://battlebots.com/robot/witch-doctor/',\n",
       " 'https://battlebots.com/robot/wrecks/']"
      ]
     },
     "execution_count": 7,
     "metadata": {},
     "output_type": "execute_result"
    }
   ],
   "source": [
    "season_1_robot_links"
   ]
  },
  {
   "cell_type": "code",
   "execution_count": 8,
   "id": "2d4f9593",
   "metadata": {},
   "outputs": [],
   "source": [
    "def get_all_season_robot_links():\n",
    "    # Get the list of season links.\n",
    "    season_links = get_season_links()\n",
    "\n",
    "    # Dictionary to store robot links for each season.\n",
    "    all_season_robot_links = {}\n",
    "\n",
    "    # Iterate through the season links.\n",
    "    for season_link in season_links:\n",
    "        # Extract the season name from the URL.\n",
    "        season_name = season_link.split('/')[-2]\n",
    "\n",
    "        # Get the list of robot links for the current season.\n",
    "        robot_links = get_season_robot_links(season_link)\n",
    "\n",
    "        # Add the robot links to the dictionary with the season name as the key.\n",
    "        all_season_robot_links[season_name] = robot_links\n",
    "\n",
    "    return all_season_robot_links"
   ]
  },
  {
   "cell_type": "code",
   "execution_count": 9,
   "id": "7f7e5f3d",
   "metadata": {},
   "outputs": [],
   "source": [
    "all_season_robot_links = get_all_season_robot_links()"
   ]
  },
  {
   "cell_type": "code",
   "execution_count": 19,
   "id": "64e57eb1",
   "metadata": {
    "scrolled": true
   },
   "outputs": [
    {
     "data": {
      "text/plain": [
       "dict"
      ]
     },
     "execution_count": 19,
     "metadata": {},
     "output_type": "execute_result"
    }
   ],
   "source": [
    "type(all_season_robot_links)"
   ]
  },
  {
   "cell_type": "code",
   "execution_count": 11,
   "id": "f0e671a5",
   "metadata": {},
   "outputs": [
    {
     "name": "stdout",
     "output_type": "stream",
     "text": [
      "Season: world-championship-vii-robots\n",
      "Robot links: ['https://battlebots.com/robot/banshee-wcvii/', 'https://battlebots.com/robot/beta-wcvii/', 'https://battlebots.com/robot/big-dill-wcvii/', 'https://battlebots.com/robot/black-dragon-wcvii/', 'https://battlebots.com/robot/blip-wcvii/', 'https://battlebots.com/robot/bloodsport-wcvii/', 'https://battlebots.com/robot/captain-shredderator-wcvii/', 'https://battlebots.com/robot/claw-viper-wcvii/', 'https://battlebots.com/robot/cobalt-wcvii/', 'https://battlebots.com/robot/copperhead-wcvii/', 'https://battlebots.com/robot/deathroll-wcvii/', 'https://battlebots.com/robot/doom-wcvii/', 'https://battlebots.com/robot/doomba-wcvii/', 'https://battlebots.com/robot/double-tap-wcvii/', 'https://battlebots.com/robot/dragon-king-wcvii/', 'https://battlebots.com/robot/emulsifier-wcvii/', 'https://battlebots.com/robot/end-game-wcvii/', 'https://battlebots.com/robot/free-shipping-wcvii/', 'https://battlebots.com/robot/fusion-wcvii/', 'https://battlebots.com/robot/gigabyte-wcvii/', 'https://battlebots.com/robot/glitch-wcvii/', 'https://battlebots.com/robot/gruff-wcvii/', 'https://battlebots.com/robot/hijinx-wcvii/', 'https://battlebots.com/robot/horizon-wcvii/', 'https://battlebots.com/robot/huge-wcvii/', 'https://battlebots.com/robot/hydra-wcvii/', 'https://battlebots.com/robot/hypershock-wcvii/', 'https://battlebots.com/robot/jackpot-wcvii/', 'https://battlebots.com/robot/kraken-wcvii/', 'https://battlebots.com/robot/lock-jaw-wcvii/', 'https://battlebots.com/robot/lucky-wcvii/', 'https://battlebots.com/robot/madcatter-wcvii/', 'https://battlebots.com/robot/malice-wcvii/', 'https://battlebots.com/robot/mammoth-wcvii/', 'https://battlebots.com/robot/minotaur-wcvii/', 'https://battlebots.com/robot/monsoon-wcvii/', 'https://battlebots.com/robot/ominous-wcvii/', 'https://battlebots.com/robot/overhaul-wcvii/', 'https://battlebots.com/robot/quantum-wcvii/', 'https://battlebots.com/robot/ribbot-wcvii/', 'https://battlebots.com/robot/ripperoni-wcvii/', 'https://battlebots.com/robot/riptide-wcvii/', 'https://battlebots.com/robot/rotator-wcvii/', 'https://battlebots.com/robot/rusty-jr-wcvii/', 'https://battlebots.com/robot/sawblaze-wcvii/', 'https://battlebots.com/robot/shatter-wcvii/', 'https://battlebots.com/robot/shreddit-bro-wcvii/', 'https://battlebots.com/robot/skorpios-wcvii/', 'https://battlebots.com/robot/slammo-wcvii/', 'https://battlebots.com/robot/starchild-wcvii/', 'https://battlebots.com/robot/switchback-wcvii/', 'https://battlebots.com/robot/tantrum-wcvii/', 'https://battlebots.com/robot/terrortops-wcvii/', 'https://battlebots.com/robot/triton-wcvii/', 'https://battlebots.com/robot/valkyrie-wcvii/', 'https://battlebots.com/robot/whiplash-wcvii/', 'https://battlebots.com/robot/witch-doctor-wcvii/']\n",
      "\n",
      "Season: 2021-season-robots\n",
      "Robot links: ['https://battlebots.com/robot/big-dill-2021/', 'https://battlebots.com/robot/black-dragon-2021/', 'https://battlebots.com/robot/blacksmith-2021/', 'https://battlebots.com/robot/blade-2021/', 'https://battlebots.com/robot/blip-2021/', 'https://battlebots.com/robot/bloodsport-2021/', 'https://battlebots.com/robot/captain-shrederator-2021/', 'https://battlebots.com/robot/claw-viper-2021/', 'https://battlebots.com/robot/cobalt-2021/', 'https://battlebots.com/robot/copperhead-2021/', 'https://battlebots.com/robot/deadlift-2021/', 'https://battlebots.com/robot/deep-six-2021/', 'https://battlebots.com/robot/defender-2021/', 'https://battlebots.com/robot/double-jeopardy-2021/', 'https://battlebots.com/robot/dragon-slayer-2021/', 'https://battlebots.com/robot/duck-2021/', 'https://battlebots.com/robot/end-game-2021/', 'https://battlebots.com/robot/free-shipping-2021/', 'https://battlebots.com/robot/fusion-2021/', 'https://battlebots.com/robot/ghost-raptor-2021/', 'https://battlebots.com/robot/gigabyte-2021/', 'https://battlebots.com/robot/glitch-2021/', 'https://battlebots.com/robot/gruff-2021/', 'https://battlebots.com/robot/hijinx-2021/', 'https://battlebots.com/robot/huge-2021/', 'https://battlebots.com/robot/hydra-2021/', 'https://battlebots.com/robot/hypershock-2021/', 'https://battlebots.com/robot/icewave-2021/', 'https://battlebots.com/robot/jackpot-2021/', 'https://battlebots.com/robot/pardon-my-french-2021/', 'https://battlebots.com/robot/jager-2021/', 'https://battlebots.com/robot/kraken-2021/', 'https://battlebots.com/robot/lock-jaw-2021/', 'https://battlebots.com/robot/lucky-2021/', 'https://battlebots.com/robot/madcatter-2021/', 'https://battlebots.com/robot/malice-2021/', 'https://battlebots.com/robot/mammoth-2021/', 'https://battlebots.com/robot/minotaur-2021/', 'https://battlebots.com/robot/overhaul-2021/', 'https://battlebots.com/robot/p1-2021/', 'https://battlebots.com/robot/pain-train-2021/', 'https://battlebots.com/robot/perfect-phoenix-2021/', 'https://battlebots.com/robot/rampage-2021/', 'https://battlebots.com/robot/retrograde-2021/', 'https://battlebots.com/robot/ribbot-2021/', 'https://battlebots.com/robot/riptide-2021/', 'https://battlebots.com/robot/rotator-2021/', 'https://battlebots.com/robot/rusty-2021/', 'https://battlebots.com/robot/sawblaze-2021/', 'https://battlebots.com/robot/shatter-2021/', 'https://battlebots.com/robot/skorpios-2021/', 'https://battlebots.com/robot/slammo-2021/', 'https://battlebots.com/robot/smeeeeeeeeeeeeeeeeee-2021/', 'https://battlebots.com/robot/subzero-2021/', 'https://battlebots.com/robot/switchback-2021/', 'https://battlebots.com/robot/tantrum-2021/', 'https://battlebots.com/robot/tombstone-2021/', 'https://battlebots.com/robot/triple-crown-2021/', 'https://battlebots.com/robot/uppercut-2021/', 'https://battlebots.com/robot/valkyrie-2021/', 'https://battlebots.com/robot/whiplash-2021/', 'https://battlebots.com/robot/witch-doctor-2021/', 'https://battlebots.com/robot/yeti-2021/']\n",
      "\n",
      "Season: 2020-season-robots\n",
      "Robot links: ['https://battlebots.com/robot/aegis-2020/', 'https://battlebots.com/robot/atom94-2020/', 'https://battlebots.com/robot/axe-backwards-2020/', 'https://battlebots.com/robot/axolotl-2020/', 'https://battlebots.com/robot/bale-spear-2020/', 'https://battlebots.com/robot/beta-2020/', 'https://battlebots.com/robot/big-dill-2020/', 'https://battlebots.com/robot/black-dragon-2020/', 'https://battlebots.com/robot/black-widow-2020/', 'https://battlebots.com/robot/bloodsport-2020/', 'https://battlebots.com/robot/bronco-2020/', 'https://battlebots.com/robot/captain-shrederator-2020/', 'https://battlebots.com/robot/chomp-2020/', 'https://battlebots.com/robot/chronos-2020/', 'https://battlebots.com/robot/claw-viper-2020/', 'https://battlebots.com/robot/copperhead-2020/', 'https://battlebots.com/robot/deadlift-2020/', 'https://battlebots.com/robot/end-game-2020/', 'https://battlebots.com/robot/extinguisher-2020/', 'https://battlebots.com/robot/fusion-2020/', 'https://battlebots.com/robot/gamma-9-2020/', 'https://battlebots.com/robot/gemini-2020/', 'https://battlebots.com/robot/ghost-raptor-2020/', 'https://battlebots.com/robot/gigabyte-2020/', 'https://battlebots.com/robot/grabot-2020/', 'https://battlebots.com/robot/gruff-2020/', 'https://battlebots.com/robot/hijinx-2020/', 'https://battlebots.com/robot/huge-2020/', 'https://battlebots.com/robot/hydra-2020/', 'https://battlebots.com/robot/hypershock-2020/', 'https://battlebots.com/robot/icewave-2020/', 'https://battlebots.com/robot/jackpot-2020/', 'https://battlebots.com/robot/kraken-2020/', 'https://battlebots.com/robot/lock-jaw-2020/', 'https://battlebots.com/robot/madcatter-2020/', 'https://battlebots.com/robot/malice-2020/', 'https://battlebots.com/robot/mammoth-2020/', 'https://battlebots.com/robot/p1-2020/', 'https://battlebots.com/robot/pain-train-2020/', 'https://battlebots.com/robot/perfect-phoenix-2020/', 'https://battlebots.com/robot/rampage-2020/', 'https://battlebots.com/robot/ribbot-2020/', 'https://battlebots.com/robot/rotator-2020/', 'https://battlebots.com/robot/rusty-2020/', 'https://battlebots.com/robot/sawblaze-2020/', 'https://battlebots.com/robot/sharko-2020/', 'https://battlebots.com/robot/shatter-2020/', 'https://battlebots.com/robot/skorpios-2020/', 'https://battlebots.com/robot/slammow-2020/', 'https://battlebots.com/robot/slap-box-2020/', 'https://battlebots.com/robot/smeeeeeeeeeeeeeeeeee-2020/', 'https://battlebots.com/robot/son-of-whyachi-sow-2020/', 'https://battlebots.com/robot/sporkinok-2020/', 'https://battlebots.com/robot/subzero-2020/', 'https://battlebots.com/robot/tantrum-2020/', 'https://battlebots.com/robot/tombstone-2020/', 'https://battlebots.com/robot/tracer-2020/', 'https://battlebots.com/robot/uppercut-2020/', 'https://battlebots.com/robot/valkyrie-2020/', 'https://battlebots.com/robot/war-ez-2020/', 'https://battlebots.com/robot/whiplash-2020/', 'https://battlebots.com/robot/witch-doctor-2020/']\n",
      "\n",
      "Season: 2019-season-robots\n",
      "Robot links: ['https://battlebots.com/robot/axe-backwards-2019/', 'https://battlebots.com/robot/battlesaw-2019/', 'https://battlebots.com/robot/bite-force-2019/', 'https://battlebots.com/robot/black-dragon-2019/', 'https://battlebots.com/robot/blacksmith-2019/', 'https://battlebots.com/robot/bloodsport-2019/', 'https://battlebots.com/robot/bombshell-2019/', 'https://battlebots.com/robot/breaker-box-2019/', 'https://battlebots.com/robot/bronco-2019/', 'https://battlebots.com/robot/captain-shrederator-2019/', 'https://battlebots.com/robot/chronos-2019/', 'https://battlebots.com/robot/cobalt-2019/', 'https://battlebots.com/robot/copperhead-2019/', 'https://battlebots.com/robot/daisy-cutter-2019/', 'https://battlebots.com/robot/deathroll-2019/', 'https://battlebots.com/robot/deep-six-2019/', 'https://battlebots.com/robot/double-jeopardy-2019/', 'https://battlebots.com/robot/duck-2019/', 'https://battlebots.com/robot/electric-ray-2019/', 'https://battlebots.com/robot/end-game-2019/', 'https://battlebots.com/robot/extinguisher-2019/', 'https://battlebots.com/robot/falcon-2019/', 'https://battlebots.com/robot/the-four-horsemen-2019/', 'https://battlebots.com/robot/foxtrot-2019/', 'https://battlebots.com/robot/free-shipping-2019/', 'https://battlebots.com/robot/gemini-2019/', 'https://battlebots.com/robot/gigabyte-2019/', 'https://battlebots.com/robot/gruff-2019/', 'https://battlebots.com/robot/huge-2019/', 'https://battlebots.com/robot/hydra-2019/', 'https://battlebots.com/robot/hypershock-2019/', 'https://battlebots.com/robot/jasper-2019/', 'https://battlebots.com/robot/kingpin-2019/', 'https://battlebots.com/robot/kraken-2019/', 'https://battlebots.com/robot/lock-jaw-2019/', 'https://battlebots.com/robot/lucky-2019/', 'https://battlebots.com/robot/madcatter-2019/', 'https://battlebots.com/robot/mammoth-2019/', 'https://battlebots.com/robot/marvin-2019/', 'https://battlebots.com/robot/minotaur-2019/', 'https://battlebots.com/robot/monsoon-2019/', 'https://battlebots.com/robot/nelly-the-ellybot-2019/', 'https://battlebots.com/robot/nightmare-2019/', 'https://battlebots.com/robot/p1-2019/', 'https://battlebots.com/robot/petunia-2019/', 'https://battlebots.com/robot/quantum-2019/', 'https://battlebots.com/robot/ragnarok-2019/', 'https://battlebots.com/robot/railgun-max/', 'https://battlebots.com/robot/rainbow-2019/', 'https://battlebots.com/robot/ribbot-2019/', 'https://battlebots.com/robot/rotator-2019/', 'https://battlebots.com/robot/sawblaze-2019/', 'https://battlebots.com/robot/sharkoprion-2019/', 'https://battlebots.com/robot/shatter-2019/', 'https://battlebots.com/robot/shellshock-2019/', 'https://battlebots.com/robot/sidewinder-2019/', 'https://battlebots.com/robot/skorpios-2019/', 'https://battlebots.com/robot/son-of-whyachi-2019/', 'https://battlebots.com/robot/subzero-2019/', 'https://battlebots.com/robot/tantrum-2019/', 'https://battlebots.com/robot/texas-twister-2019/', 'https://battlebots.com/robot/tombstone-2019/', 'https://battlebots.com/robot/uppercut-2019/', 'https://battlebots.com/robot/valkyrie-2019/', 'https://battlebots.com/robot/wanhoo-2019/', 'https://battlebots.com/robot/war-hawk-2019/', 'https://battlebots.com/robot/whiplash-2019/', 'https://battlebots.com/robot/25345/', 'https://battlebots.com/robot/yeti-2019/']\n",
      "\n",
      "Season: 2018-season-robots\n",
      "Robot links: ['https://battlebots.com/robot/axe-backwards-s3/', 'https://battlebots.com/robot/bale-spear-s3/', 'https://battlebots.com/robot/basilisk-2/', 'https://battlebots.com/robot/battle-royale-with-cheese-s3/', 'https://battlebots.com/robot/bite-force-2018/', 'https://battlebots.com/robot/blacksmith-2018/', 'https://battlebots.com/robot/bombshell-2/', 'https://battlebots.com/robot/bronco-3/', 'https://battlebots.com/robot/brutus-2018/', 'https://battlebots.com/robot/captain-shrederator-3/', 'https://battlebots.com/robot/chomp-s3/', 'https://battlebots.com/robot/deviled-egg-2018/', 'https://battlebots.com/robot/double-dutch/', 'https://battlebots.com/robot/double-jeopardy-2018/', 'https://battlebots.com/robot/duck/', 'https://battlebots.com/robot/end-game/', 'https://battlebots.com/robot/free-shipping-2018/', 'https://battlebots.com/robot/gamma-9-s3/', 'https://battlebots.com/robot/gemini-2/', 'https://battlebots.com/robot/gigabyte/', 'https://battlebots.com/robot/huge-s3/', 'https://battlebots.com/robot/hypershock-2018/', 'https://battlebots.com/robot/hypothermia-s3/', 'https://battlebots.com/robot/icewave-3/', 'https://battlebots.com/robot/kraken-s3/', 'https://battlebots.com/robot/lock-jaw-2018/', 'https://battlebots.com/robot/lucky/', 'https://battlebots.com/robot/mecha-rampage/', 'https://battlebots.com/robot/minotaur-s3/', 'https://battlebots.com/robot/mohawk-s3/', 'https://battlebots.com/robot/monsoon-s3/', 'https://battlebots.com/robot/overhaul-2018/', 'https://battlebots.com/robot/parallax-s3/', 'https://battlebots.com/robot/petunia/', 'https://battlebots.com/robot/predator-s3/', 'https://battlebots.com/robot/reality/', 'https://battlebots.com/robot/red-devil-2018/', 'https://battlebots.com/robot/rotato%d1%8f-s3/', 'https://battlebots.com/robot/sawblaze-s3/', 'https://battlebots.com/robot/sharkoprion-2018/', 'https://battlebots.com/robot/skorpios-2/', 'https://battlebots.com/robot/son-of-whyachi-2018/', 'https://battlebots.com/robot/subzero-2018/', 'https://battlebots.com/robot/tantrum/', 'https://battlebots.com/robot/the-four-horsemen-s3/', 'https://battlebots.com/robot/tombstone-2018/', 'https://battlebots.com/robot/ultimo-destructo-2018/', 'https://battlebots.com/robot/valkyrie-s3/', 'https://battlebots.com/robot/vanquish-s3/', 'https://battlebots.com/robot/war-hawk/', 'https://battlebots.com/robot/warhead-3/', 'https://battlebots.com/robot/warrior-dragon-2018/', 'https://battlebots.com/robot/whiplash-s3/', 'https://battlebots.com/robot/witch-doctor-2018/', 'https://battlebots.com/robot/yeti-2/']\n",
      "\n",
      "Season: season-2-robots\n",
      "Robot links: ['https://battlebots.com/robot/ambush-s2/', 'https://battlebots.com/robot/bad-kitty/', 'https://battlebots.com/robot/basilisk/', 'https://battlebots.com/robot/beta-2/', 'https://battlebots.com/robot/bite-force-2/', 'https://battlebots.com/robot/black-ice/', 'https://battlebots.com/robot/blacksmith/', 'https://battlebots.com/robot/bombshell/', 'https://battlebots.com/robot/bronco-2/', 'https://battlebots.com/robot/brutus/', 'https://battlebots.com/robot/bucktooth-burl-s2/', 'https://battlebots.com/robot/captain-shrederator-2/', 'https://battlebots.com/robot/chomp-2/', 'https://battlebots.com/robot/chromefly-s2/', 'https://battlebots.com/robot/cobalt-s2/', 'https://battlebots.com/robot/complete-control-2/', 'https://battlebots.com/robot/creepy-crawlies/', 'https://battlebots.com/robot/death-roll-s2/', 'https://battlebots.com/robot/the-dentist/', 'https://battlebots.com/robot/the-disk-o-inferno/', 'https://battlebots.com/robot/escape-velocity/', 'https://battlebots.com/robot/gemini/', 'https://battlebots.com/robot/ghost-raptor-2/', 'https://battlebots.com/robot/hellachopper/', 'https://battlebots.com/robot/hypershock-2/', 'https://battlebots.com/robot/icewave-2/', 'https://battlebots.com/robot/invader/', 'https://battlebots.com/robot/lock-jaw-2/', 'https://battlebots.com/robot/lucky-s2/', 'https://battlebots.com/robot/lycan/', 'https://battlebots.com/robot/mega-tento/', 'https://battlebots.com/robot/minotaur-s2/', 'https://battlebots.com/robot/moebius-s2/', 'https://battlebots.com/robot/mohawk-s2/', 'https://battlebots.com/robot/nightmare-2/', 'https://battlebots.com/robot/obwalden-overlord-s2/', 'https://battlebots.com/robot/overdrive-2/', 'https://battlebots.com/robot/overhaul-2/', 'https://battlebots.com/robot/photon-storm-s2/', 'https://battlebots.com/robot/poison-arrow-s2/', 'https://battlebots.com/robot/preying-mantis/', 'https://battlebots.com/robot/razorback-2/', 'https://battlebots.com/robot/red-devil-s2/', 'https://battlebots.com/robot/the-ringmaster/', 'https://battlebots.com/robot/road-rash/', 'https://battlebots.com/robot/rotator/', 'https://battlebots.com/robot/sawblaze/', 'https://battlebots.com/robot/skorpios/', 'https://battlebots.com/robot/sow/', 'https://battlebots.com/robot/splatter-2/', 'https://battlebots.com/robot/stinger-2/', 'https://battlebots.com/robot/subzero/', 'https://battlebots.com/robot/tombstone-2/', 'https://battlebots.com/robot/ultraviolent/', 'https://battlebots.com/robot/ultimo-destructo/', 'https://battlebots.com/robot/warhead-2/', 'https://battlebots.com/robot/warrior-clan-2/', 'https://battlebots.com/robot/witch-doctor-2/', 'https://battlebots.com/robot/wrecks-2/', 'https://battlebots.com/robot/yeti/']\n",
      "\n",
      "Season: season-1-robots\n",
      "Robot links: ['https://battlebots.com/robot/beta/', 'https://battlebots.com/robot/bite-force/', 'https://battlebots.com/robot/bronco/', 'https://battlebots.com/robot/bull-dog/', 'https://battlebots.com/robot/captain-shrederator/', 'https://battlebots.com/robot/chomp/', 'https://battlebots.com/robot/chronic/', 'https://battlebots.com/robot/complete-control/', 'https://battlebots.com/robot/counter-revolution/', 'https://battlebots.com/robot/ghost-raptor/', 'https://battlebots.com/robot/hypershock/', 'https://battlebots.com/robot/icewave/', 'https://battlebots.com/robot/lock-jaw/', 'https://battlebots.com/robot/mohawk/', 'https://battlebots.com/robot/nightmare/', 'https://battlebots.com/robot/overdrive/', 'https://battlebots.com/robot/overhaul/', 'https://battlebots.com/robot/plan-x/', 'https://battlebots.com/robot/radioactive/', 'https://battlebots.com/robot/razorback/', 'https://battlebots.com/robot/splatter/', 'https://battlebots.com/robot/stinger/', 'https://battlebots.com/robot/sweet-revenge/', 'https://battlebots.com/robot/tombstone/', 'https://battlebots.com/robot/warhead/', 'https://battlebots.com/robot/warrior-clan/', 'https://battlebots.com/robot/witch-doctor/', 'https://battlebots.com/robot/wrecks/']\n",
      "\n"
     ]
    }
   ],
   "source": [
    "# test ouput of dictionary, cleaner\n",
    "for season_name, robot_links in all_season_robot_links.items():\n",
    "    print(f\"Season: {season_name}\")\n",
    "    print(f\"Robot links: {robot_links}\\n\")"
   ]
  },
  {
   "cell_type": "code",
   "execution_count": 12,
   "id": "c3723319",
   "metadata": {},
   "outputs": [],
   "source": [
    "def save_to_json(data, file_name):\n",
    "    with open(file_name, 'w') as file:\n",
    "        json.dump(data, file)"
   ]
  },
  {
   "cell_type": "code",
   "execution_count": 13,
   "id": "d271b182",
   "metadata": {},
   "outputs": [],
   "source": [
    "def load_from_json(file_name):\n",
    "    with open(file_name, 'r') as file:\n",
    "        data = json.load(file)\n",
    "    return data"
   ]
  },
  {
   "cell_type": "code",
   "execution_count": 15,
   "id": "44a52c2c",
   "metadata": {},
   "outputs": [],
   "source": [
    "# Save the dictionary to a JSON file.\n",
    "file_name = 'all_season_robot_links.json'\n",
    "save_to_json(all_season_robot_links, file_name)"
   ]
  },
  {
   "cell_type": "code",
   "execution_count": 16,
   "id": "9736283d",
   "metadata": {},
   "outputs": [],
   "source": [
    "# Load the dictionary back from the JSON file.\n",
    "loaded_data = load_from_json(file_name)"
   ]
  },
  {
   "cell_type": "code",
   "execution_count": 17,
   "id": "43cec2a2",
   "metadata": {},
   "outputs": [
    {
     "name": "stdout",
     "output_type": "stream",
     "text": [
      "True\n"
     ]
    }
   ],
   "source": [
    "# Check if the loaded data is the same as the original data.\n",
    "print(loaded_data == all_season_robot_links)  # Should print True"
   ]
  },
  {
   "cell_type": "code",
   "execution_count": null,
   "id": "1ad38c8f",
   "metadata": {},
   "outputs": [],
   "source": []
  }
 ],
 "metadata": {
  "kernelspec": {
   "display_name": "Python 3 (ipykernel)",
   "language": "python",
   "name": "python3"
  },
  "language_info": {
   "codemirror_mode": {
    "name": "ipython",
    "version": 3
   },
   "file_extension": ".py",
   "mimetype": "text/x-python",
   "name": "python",
   "nbconvert_exporter": "python",
   "pygments_lexer": "ipython3",
   "version": "3.9.13"
  }
 },
 "nbformat": 4,
 "nbformat_minor": 5
}
