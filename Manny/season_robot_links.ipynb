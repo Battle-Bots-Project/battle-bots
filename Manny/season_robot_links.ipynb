{
 "cells": [
  {
   "cell_type": "code",
   "execution_count": 1,
   "id": "6bc54e37",
   "metadata": {},
   "outputs": [],
   "source": [
    "import pandas as pd  \n",
    "from selenium import webdriver"
   ]
  },
  {
   "cell_type": "code",
   "execution_count": 2,
   "id": "b683ac04",
   "metadata": {},
   "outputs": [],
   "source": [
    "base_link = \"https://battlebots.com/robots/\""
   ]
  },
  {
   "cell_type": "code",
   "execution_count": 14,
   "id": "adc80ac2",
   "metadata": {},
   "outputs": [],
   "source": [
    "driver = webdriver.Chrome()"
   ]
  },
  {
   "cell_type": "code",
   "execution_count": 4,
   "id": "063e4ca9",
   "metadata": {},
   "outputs": [],
   "source": [
    "driver.get(base_link)"
   ]
  },
  {
   "cell_type": "markdown",
   "id": "9986a208",
   "metadata": {},
   "source": [
    "# Cookies Popup Function"
   ]
  },
  {
   "cell_type": "code",
   "execution_count": 5,
   "id": "42b248ff",
   "metadata": {},
   "outputs": [],
   "source": [
    "def get_rid_of_cookies_popup(driver):\n",
    "    # cookies alert window popup, close button\n",
    "    cookies_button = driver.find_element_by_class_name(\"cmplz-close\")\n",
    "    \n",
    "    # click close button\n",
    "    cookies_button.click()"
   ]
  },
  {
   "cell_type": "code",
   "execution_count": 6,
   "id": "e8060f46",
   "metadata": {},
   "outputs": [],
   "source": [
    "get_rid_of_cookies_popup(driver)"
   ]
  },
  {
   "cell_type": "markdown",
   "id": "23ed1947",
   "metadata": {},
   "source": [
    "# Season Links Function"
   ]
  },
  {
   "cell_type": "code",
   "execution_count": 7,
   "id": "caa70472",
   "metadata": {},
   "outputs": [],
   "source": [
    "def get_season_links(driver):\n",
    "    class_element = driver.find_elements_by_class_name(\"row\")\n",
    "    links = []\n",
    "    for i in range(4, 7):\n",
    "        for j in range(2):\n",
    "            season = class_element[i].find_elements_by_tag_name(\"a\")[j+1].get_attribute(\"href\")\n",
    "            links.append(season)\n",
    "\n",
    "    season = class_element[7].find_element_by_tag_name(\"a\").get_attribute(\"href\")\n",
    "    links.append(season)\n",
    "    return links"
   ]
  },
  {
   "cell_type": "code",
   "execution_count": 8,
   "id": "12678767",
   "metadata": {},
   "outputs": [],
   "source": [
    "season_links = get_season_links(driver)"
   ]
  },
  {
   "cell_type": "code",
   "execution_count": 9,
   "id": "27b7a6a1",
   "metadata": {},
   "outputs": [
    {
     "name": "stdout",
     "output_type": "stream",
     "text": [
      "https://battlebots.com/world-championship-vii-robots/\n",
      "https://battlebots.com/2021-season-robots/\n",
      "https://battlebots.com/2020-season-robots/\n",
      "https://battlebots.com/2019-season-robots/\n",
      "https://battlebots.com/2018-season-robots/\n",
      "https://battlebots.com/season-2-robots/\n",
      "https://battlebots.com/season-1-robots/\n"
     ]
    }
   ],
   "source": [
    "for i in season_links:\n",
    "    print(i)"
   ]
  },
  {
   "cell_type": "markdown",
   "id": "308bc20f",
   "metadata": {},
   "source": [
    "# Robots for Season 1 (last item in Season Links List)"
   ]
  },
  {
   "cell_type": "code",
   "execution_count": 15,
   "id": "e7ca59e8",
   "metadata": {},
   "outputs": [],
   "source": [
    "driver.get(season_links[6])"
   ]
  },
  {
   "cell_type": "code",
   "execution_count": 16,
   "id": "93328902",
   "metadata": {},
   "outputs": [],
   "source": [
    "get_rid_of_cookies_popup(driver)"
   ]
  },
  {
   "cell_type": "code",
   "execution_count": 28,
   "id": "4b3cf84d",
   "metadata": {},
   "outputs": [],
   "source": [
    "thumbnail_overlay_elements = driver.find_elements_by_css_selector(\".portfolio-item-wrapper\")"
   ]
  },
  {
   "cell_type": "code",
   "execution_count": 31,
   "id": "0dfc422d",
   "metadata": {},
   "outputs": [
    {
     "name": "stdout",
     "output_type": "stream",
     "text": [
      "BETA (2015)\n",
      "Link = https://battlebots.com/robot/beta/\n",
      "Bite Force (2015)\n",
      "Link = https://battlebots.com/robot/bite-force/\n",
      "Bronco (2015)\n",
      "Link = https://battlebots.com/robot/bronco/\n",
      "Bull Dog (2015)\n",
      "Link = https://battlebots.com/robot/bull-dog/\n",
      "Captain Shrederator (2015)\n",
      "Link = https://battlebots.com/robot/captain-shrederator/\n",
      "Chomp (2015)\n",
      "Link = https://battlebots.com/robot/chomp/\n",
      "Chronic (2015)\n",
      "Link = https://battlebots.com/robot/chronic/\n",
      "Complete Control Mk V (2015)\n",
      "Link = https://battlebots.com/robot/complete-control/\n",
      "Counter Revolution (2015)\n",
      "Link = https://battlebots.com/robot/counter-revolution/\n",
      "Ghost Raptor (2015)\n",
      "Link = https://battlebots.com/robot/ghost-raptor/\n",
      "HyperShock (2015)\n",
      "Link = https://battlebots.com/robot/hypershock/\n",
      "Icewave (2015)\n",
      "Link = https://battlebots.com/robot/icewave/\n",
      "Lock-Jaw (2015)\n",
      "Link = https://battlebots.com/robot/lock-jaw/\n",
      "Mohawk (2015)\n",
      "Link = https://battlebots.com/robot/mohawk/\n",
      "Nightmare (2015)\n",
      "Link = https://battlebots.com/robot/nightmare/\n",
      "OverDrive (2015)\n",
      "Link = https://battlebots.com/robot/overdrive/\n",
      "Overhaul (2015)\n",
      "Link = https://battlebots.com/robot/overhaul/\n",
      "Plan X (2015)\n",
      "Link = https://battlebots.com/robot/plan-x/\n",
      "Radioactive (2015)\n",
      "Link = https://battlebots.com/robot/radioactive/\n",
      "Razorback (2015)\n",
      "Link = https://battlebots.com/robot/razorback/\n",
      "Splatter (2015)\n",
      "Link = https://battlebots.com/robot/splatter/\n",
      "Stinger: The Killer Bee (2015)\n",
      "Link = https://battlebots.com/robot/stinger/\n",
      "Sweet Revenge (2015)\n",
      "Link = https://battlebots.com/robot/sweet-revenge/\n",
      "Tombstone (2015)\n",
      "Link = https://battlebots.com/robot/tombstone/\n",
      "Warhead (2015)\n",
      "Link = https://battlebots.com/robot/warhead/\n",
      "Warrior Clan (2015)\n",
      "Link = https://battlebots.com/robot/warrior-clan/\n",
      "Witch Doctor (2015)\n",
      "Link = https://battlebots.com/robot/witch-doctor/\n",
      "Wrecks (2015)\n",
      "Link = https://battlebots.com/robot/wrecks/\n"
     ]
    }
   ],
   "source": [
    "for thumbnail_overlay_element in thumbnail_overlay_elements:\n",
    "    title_element = thumbnail_overlay_element.find_element_by_css_selector(\".title\")\n",
    "    print(title_element.text)\n",
    "    beta_link_element = thumbnail_overlay_element.find_element_by_css_selector(\"a.button\")\n",
    "    beta_link = beta_link_element.get_attribute(\"href\")\n",
    "    print(f\"Link = {beta_link}\")"
   ]
  }
 ],
 "metadata": {
  "kernelspec": {
   "display_name": "Python 3 (ipykernel)",
   "language": "python",
   "name": "python3"
  },
  "language_info": {
   "codemirror_mode": {
    "name": "ipython",
    "version": 3
   },
   "file_extension": ".py",
   "mimetype": "text/x-python",
   "name": "python",
   "nbconvert_exporter": "python",
   "pygments_lexer": "ipython3",
   "version": "3.9.13"
  }
 },
 "nbformat": 4,
 "nbformat_minor": 5
}
