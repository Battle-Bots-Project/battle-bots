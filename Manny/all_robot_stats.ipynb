{
 "cells": [
  {
   "cell_type": "code",
   "execution_count": 1,
   "id": "e529cdec",
   "metadata": {},
   "outputs": [],
   "source": [
    "from acquire import *"
   ]
  },
  {
   "cell_type": "code",
   "execution_count": 2,
   "id": "9224fe10",
   "metadata": {},
   "outputs": [],
   "source": [
    "robot_links_dict = load_from_json(\"all_season_robot_links.json\")"
   ]
  },
  {
   "cell_type": "code",
   "execution_count": 8,
   "id": "a34905fe",
   "metadata": {},
   "outputs": [
    {
     "data": {
      "text/plain": [
       "dict_keys(['world-championship-vii-robots', '2021-season-robots', '2020-season-robots', '2019-season-robots', '2018-season-robots', 'season-2-robots', 'season-1-robots'])"
      ]
     },
     "execution_count": 8,
     "metadata": {},
     "output_type": "execute_result"
    }
   ],
   "source": [
    "robot_links_dict.keys()"
   ]
  },
  {
   "cell_type": "code",
   "execution_count": 10,
   "id": "0e88938f",
   "metadata": {},
   "outputs": [
    {
     "data": {
      "text/plain": [
       "'https://battlebots.com/robot/beta/'"
      ]
     },
     "execution_count": 10,
     "metadata": {},
     "output_type": "execute_result"
    }
   ],
   "source": [
    "robot_links_dict['season-1-robots'][0]"
   ]
  },
  {
   "cell_type": "code",
   "execution_count": 12,
   "id": "ac87cdf9",
   "metadata": {},
   "outputs": [],
   "source": [
    "# link from dictionary\n",
    "link = robot_links_dict['season-1-robots'][0]"
   ]
  },
  {
   "cell_type": "code",
   "execution_count": 13,
   "id": "f839c2a3",
   "metadata": {},
   "outputs": [],
   "source": [
    "# start scraper with link\n",
    "driver = webdriver.Chrome()\n",
    "driver.get(link)"
   ]
  },
  {
   "cell_type": "code",
   "execution_count": 5,
   "id": "f3912dbd",
   "metadata": {},
   "outputs": [],
   "source": [
    "get_rid_of_cookies_popup(driver)"
   ]
  },
  {
   "cell_type": "code",
   "execution_count": 14,
   "id": "f87b30ed",
   "metadata": {},
   "outputs": [],
   "source": [
    "table_elements = driver.find_elements_by_css_selector(\"table.bb-table\")\n",
    "stats_history_html = table_elements[0].get_attribute(\"outerHTML\")\n",
    "match_history_html = table_elements[1].get_attribute(\"outerHTML\")"
   ]
  },
  {
   "cell_type": "code",
   "execution_count": 16,
   "id": "63bb5345",
   "metadata": {},
   "outputs": [],
   "source": [
    "# link from dictionary\n",
    "link = \"https://battlebots.fandom.com/wiki/Category:Competitor_list_templates\"\n",
    "# start scraper with link\n",
    "driver = webdriver.Chrome()\n",
    "driver.get(link)"
   ]
  },
  {
   "cell_type": "code",
   "execution_count": 25,
   "id": "3719d70b",
   "metadata": {},
   "outputs": [
    {
     "name": "stdout",
     "output_type": "stream",
     "text": [
      "A\n",
      "Abrasion\n",
      "Aegis\n",
      "Ambush\n",
      "Annihilator\n",
      "Anubis\n",
      "ATOM94\n",
      "Axe Backwards\n",
      "Axolotl\n"
     ]
    }
   ],
   "source": [
    "member_elements = driver.find_elements_by_class_name(\"category-page__members-wrapper\")\n",
    "print(member_elements[1].text)"
   ]
  },
  {
   "cell_type": "code",
   "execution_count": 26,
   "id": "39a07a13",
   "metadata": {},
   "outputs": [],
   "source": [
    "links = []\n",
    "for member_element in member_elements:\n",
    "    a_elements = member_element.find_elements_by_css_selector(\".category-page__member-link\")\n",
    "    for a_element in a_elements:\n",
    "        links.append(a_element.get_attribute(\"href\"))"
   ]
  },
  {
   "cell_type": "code",
   "execution_count": 27,
   "id": "098813f2",
   "metadata": {
    "scrolled": true
   },
   "outputs": [
    {
     "name": "stdout",
     "output_type": "stream",
     "text": [
      "https://battlebots.fandom.com/wiki/Template:2015_Competitors\n",
      "https://battlebots.fandom.com/wiki/Template:2016_Competitors\n",
      "https://battlebots.fandom.com/wiki/Template:2018_Competitors\n",
      "https://battlebots.fandom.com/wiki/Template:2019_Competitors\n",
      "https://battlebots.fandom.com/wiki/Template:2020_Bounty_Hunters_Competitors\n",
      "https://battlebots.fandom.com/wiki/Template:2020_Competitors\n",
      "https://battlebots.fandom.com/wiki/Template:2021_Competitors\n",
      "https://battlebots.fandom.com/wiki/Template:2022_Competitors\n",
      "https://battlebots.fandom.com/wiki/Abrasion\n",
      "https://battlebots.fandom.com/wiki/Aegis\n",
      "https://battlebots.fandom.com/wiki/Ambush\n",
      "https://battlebots.fandom.com/wiki/Annihilator\n",
      "https://battlebots.fandom.com/wiki/Anubis\n",
      "https://battlebots.fandom.com/wiki/ATOM94\n",
      "https://battlebots.fandom.com/wiki/Axe_Backwards\n",
      "https://battlebots.fandom.com/wiki/Axolotl\n",
      "https://battlebots.fandom.com/wiki/Bad_Kitty\n",
      "https://battlebots.fandom.com/wiki/Bale_Spear\n",
      "https://battlebots.fandom.com/wiki/Banshee\n",
      "https://battlebots.fandom.com/wiki/Basilisk\n",
      "https://battlebots.fandom.com/wiki/Battle_Royale_With_Cheese\n",
      "https://battlebots.fandom.com/wiki/BattleBots_Wiki-Main_Page\n",
      "https://battlebots.fandom.com/wiki/BattleBots:_Champions\n",
      "https://battlebots.fandom.com/wiki/Template:BattleBots:_Champions_Competitors\n",
      "https://battlebots.fandom.com/wiki/BattleSaw\n",
      "https://battlebots.fandom.com/wiki/Beta\n",
      "https://battlebots.fandom.com/wiki/Big_Dill\n",
      "https://battlebots.fandom.com/wiki/Bigger_Brother\n",
      "https://battlebots.fandom.com/wiki/Bite_Force\n",
      "https://battlebots.fandom.com/wiki/Black_Dragon\n",
      "https://battlebots.fandom.com/wiki/Black_Ice\n",
      "https://battlebots.fandom.com/wiki/Black_Widow\n",
      "https://battlebots.fandom.com/wiki/Black_Widow_(Lightweight)\n",
      "https://battlebots.fandom.com/wiki/Blacksmith\n",
      "https://battlebots.fandom.com/wiki/Blade\n",
      "https://battlebots.fandom.com/wiki/Blip\n",
      "https://battlebots.fandom.com/wiki/Bloodsport\n",
      "https://battlebots.fandom.com/wiki/Blunt_Force_Trauma\n",
      "https://battlebots.fandom.com/wiki/Boltergeist\n",
      "https://battlebots.fandom.com/wiki/Bombshell\n",
      "https://battlebots.fandom.com/wiki/Bot_6\n",
      "https://battlebots.fandom.com/wiki/Breaker_Box\n",
      "https://battlebots.fandom.com/wiki/Bronco\n",
      "https://battlebots.fandom.com/wiki/Brutus\n",
      "https://battlebots.fandom.com/wiki/Bucktooth_Burl\n",
      "https://battlebots.fandom.com/wiki/Bull_Dog\n",
      "https://battlebots.fandom.com/wiki/Captain_Shrederator\n",
      "https://battlebots.fandom.com/wiki/Chomp\n",
      "https://battlebots.fandom.com/wiki/Chomp_(Season_3.0)\n",
      "https://battlebots.fandom.com/wiki/Chrome_Fly\n",
      "https://battlebots.fandom.com/wiki/Chronic\n",
      "https://battlebots.fandom.com/wiki/Chronos\n",
      "https://battlebots.fandom.com/wiki/Claw_Viper\n",
      "https://battlebots.fandom.com/wiki/Clockwork_L%27Orange\n",
      "https://battlebots.fandom.com/wiki/Cobalt\n",
      "https://battlebots.fandom.com/wiki/Complete_Control\n",
      "https://battlebots.fandom.com/wiki/Copperhead\n",
      "https://battlebots.fandom.com/wiki/Counter_Revolution\n",
      "https://battlebots.fandom.com/wiki/Creepy_Crawlies\n",
      "https://battlebots.fandom.com/wiki/Daisy_Cutter\n",
      "https://battlebots.fandom.com/wiki/Dawn_of_Destruction\n",
      "https://battlebots.fandom.com/wiki/Deadlift\n",
      "https://battlebots.fandom.com/wiki/DeathRoll\n",
      "https://battlebots.fandom.com/wiki/Deep_Six\n",
      "https://battlebots.fandom.com/wiki/Defender\n",
      "https://battlebots.fandom.com/wiki/Deviled_Egg\n",
      "https://battlebots.fandom.com/wiki/DooAll\n",
      "https://battlebots.fandom.com/wiki/DOOM\n",
      "https://battlebots.fandom.com/wiki/Doomba\n",
      "https://battlebots.fandom.com/wiki/Double_Dutch\n",
      "https://battlebots.fandom.com/wiki/Double_Jeopardy\n",
      "https://battlebots.fandom.com/wiki/Double_Tap\n",
      "https://battlebots.fandom.com/wiki/Dragon_King\n",
      "https://battlebots.fandom.com/wiki/Dragon_Slayer\n",
      "https://battlebots.fandom.com/wiki/DUCK!\n",
      "https://battlebots.fandom.com/wiki/Electric_Ray\n",
      "https://battlebots.fandom.com/wiki/Emulsifier\n",
      "https://battlebots.fandom.com/wiki/End_Game\n",
      "https://battlebots.fandom.com/wiki/Escape_Velocity\n",
      "https://battlebots.fandom.com/wiki/Extinguisher\n",
      "https://battlebots.fandom.com/wiki/Falcon\n",
      "https://battlebots.fandom.com/wiki/Ferocity\n",
      "https://battlebots.fandom.com/wiki/Foxtrot\n",
      "https://battlebots.fandom.com/wiki/Free_Shipping\n",
      "https://battlebots.fandom.com/wiki/Fusion\n",
      "https://battlebots.fandom.com/wiki/Gamma_9\n",
      "https://battlebots.fandom.com/wiki/Gammatron\n",
      "https://battlebots.fandom.com/wiki/Gemini\n",
      "https://battlebots.fandom.com/wiki/Ghost_Raptor\n",
      "https://battlebots.fandom.com/wiki/Gigabyte\n",
      "https://battlebots.fandom.com/wiki/Ginsu\n",
      "https://battlebots.fandom.com/wiki/Glitch\n",
      "https://battlebots.fandom.com/wiki/Glitter_Princess\n",
      "https://battlebots.fandom.com/wiki/Gloomweaver\n",
      "https://battlebots.fandom.com/wiki/GRABOT\n",
      "https://battlebots.fandom.com/wiki/GrassKicker\n",
      "https://battlebots.fandom.com/wiki/Gremlin_II\n",
      "https://battlebots.fandom.com/wiki/Gruff\n",
      "https://battlebots.fandom.com/wiki/Hack_%26_Slash\n",
      "https://battlebots.fandom.com/wiki/HellaChopper\n",
      "https://battlebots.fandom.com/wiki/HiJinx\n",
      "https://battlebots.fandom.com/wiki/Horizon\n",
      "https://battlebots.fandom.com/wiki/HUGE\n",
      "https://battlebots.fandom.com/wiki/Hydra\n",
      "https://battlebots.fandom.com/wiki/HyperShock\n",
      "https://battlebots.fandom.com/wiki/Hypothermia\n",
      "https://battlebots.fandom.com/wiki/Icewave\n",
      "https://battlebots.fandom.com/wiki/Icky_Thump\n",
      "https://battlebots.fandom.com/wiki/Insult_and_Injury\n",
      "https://battlebots.fandom.com/wiki/Invader\n",
      "https://battlebots.fandom.com/wiki/JackPot\n",
      "https://battlebots.fandom.com/wiki/Jasper\n",
      "https://battlebots.fandom.com/wiki/J%C3%A4ger\n",
      "https://battlebots.fandom.com/wiki/Kill-O-Amp\n",
      "https://battlebots.fandom.com/wiki/KillerHurtz\n",
      "https://battlebots.fandom.com/wiki/Kingpin\n",
      "https://battlebots.fandom.com/wiki/Knome_II\n",
      "https://battlebots.fandom.com/wiki/Kraken\n",
      "https://battlebots.fandom.com/wiki/Kritical_Mass_II\n",
      "https://battlebots.fandom.com/wiki/Krusty_Grab\n",
      "https://battlebots.fandom.com/wiki/Template:Las_Vegas_1999_Heavyweights\n",
      "https://battlebots.fandom.com/wiki/Template:Las_Vegas_1999_Superheavyweights\n",
      "https://battlebots.fandom.com/wiki/Lock-Jaw\n",
      "https://battlebots.fandom.com/wiki/Lucky\n",
      "https://battlebots.fandom.com/wiki/Lycan\n",
      "https://battlebots.fandom.com/wiki/MadCatter\n",
      "https://battlebots.fandom.com/wiki/Malice\n",
      "https://battlebots.fandom.com/wiki/Malicious_Mischief\n",
      "https://battlebots.fandom.com/wiki/Mammoth\n",
      "https://battlebots.fandom.com/wiki/Marvin\n",
      "https://battlebots.fandom.com/wiki/Mecha_Rampage\n",
      "https://battlebots.fandom.com/wiki/Mechadon\n",
      "https://battlebots.fandom.com/wiki/Mega_Tento\n",
      "https://battlebots.fandom.com/wiki/Minotaur\n",
      "https://battlebots.fandom.com/wiki/Minotaur_(1999)\n",
      "https://battlebots.fandom.com/wiki/Mjollnir\n",
      "https://battlebots.fandom.com/wiki/Mohawk\n",
      "https://battlebots.fandom.com/wiki/Monsoon\n",
      "https://battlebots.fandom.com/wiki/Monster\n",
      "https://battlebots.fandom.com/wiki/Mortis\n",
      "https://battlebots.fandom.com/wiki/Namreko_3000\n",
      "https://battlebots.fandom.com/wiki/Nelly_the_Ellybot\n",
      "https://battlebots.fandom.com/wiki/Nightmare\n",
      "https://battlebots.fandom.com/wiki/OJ\n",
      "https://battlebots.fandom.com/wiki/Ominous\n",
      "https://battlebots.fandom.com/wiki/Orion\n",
      "https://battlebots.fandom.com/wiki/OverDrive\n",
      "https://battlebots.fandom.com/wiki/Overhaul\n",
      "https://battlebots.fandom.com/wiki/P1\n",
      "https://battlebots.fandom.com/wiki/Pain_Saw\n",
      "https://battlebots.fandom.com/wiki/Pain_Train\n",
      "https://battlebots.fandom.com/wiki/Panic_Attack_3\n",
      "https://battlebots.fandom.com/wiki/Parallax\n",
      "https://battlebots.fandom.com/wiki/Pardon_My_French\n",
      "https://battlebots.fandom.com/wiki/Perfect_Phoenix\n",
      "https://battlebots.fandom.com/wiki/Petunia\n",
      "https://battlebots.fandom.com/wiki/Photon_Storm\n",
      "https://battlebots.fandom.com/wiki/Plan_X\n",
      "https://battlebots.fandom.com/wiki/Poison_Arrow\n",
      "https://battlebots.fandom.com/wiki/Predator\n",
      "https://battlebots.fandom.com/wiki/Pressure_Drop\n",
      "https://battlebots.fandom.com/wiki/Preying_Mantis\n",
      "https://battlebots.fandom.com/wiki/Punjar\n",
      "https://battlebots.fandom.com/wiki/Quantum\n",
      "https://battlebots.fandom.com/wiki/Radioactive\n",
      "https://battlebots.fandom.com/wiki/Ragnar%C3%B6k\n",
      "https://battlebots.fandom.com/wiki/Railgun_MAX\n",
      "https://battlebots.fandom.com/wiki/Rainbow\n",
      "https://battlebots.fandom.com/wiki/Rampage\n",
      "https://battlebots.fandom.com/wiki/Raven\n",
      "https://battlebots.fandom.com/wiki/Razer\n",
      "https://battlebots.fandom.com/wiki/Razorback\n",
      "https://battlebots.fandom.com/wiki/Re:MARS_all:STARS_BattleBots_Challenge_(2022)\n",
      "https://battlebots.fandom.com/wiki/Template:Re:MARS_all:STARS_BattleBots_Challenge_competing_robots_(2019)\n",
      "https://battlebots.fandom.com/wiki/Template:Re:MARS_all:STARS_BattleBots_Challenge_competing_robots_(2022)\n",
      "https://battlebots.fandom.com/wiki/Reactore\n",
      "https://battlebots.fandom.com/wiki/Reality\n",
      "https://battlebots.fandom.com/wiki/Red_Devil\n",
      "https://battlebots.fandom.com/wiki/Retrograde\n",
      "https://battlebots.fandom.com/wiki/Revision_Z\n",
      "https://battlebots.fandom.com/wiki/Rhino\n",
      "https://battlebots.fandom.com/wiki/Ribbot\n",
      "https://battlebots.fandom.com/wiki/Ripper\n",
      "https://battlebots.fandom.com/wiki/RIPperoni\n",
      "https://battlebots.fandom.com/wiki/Riptide\n",
      "https://battlebots.fandom.com/wiki/Road_Rash\n",
      "https://battlebots.fandom.com/wiki/ROTATOR\n",
      "https://battlebots.fandom.com/wiki/Rott-Bott\n",
      "https://battlebots.fandom.com/wiki/Rusty\n",
      "https://battlebots.fandom.com/wiki/S.L.A.M.\n",
      "https://battlebots.fandom.com/wiki/Sabretooth\n",
      "https://battlebots.fandom.com/wiki/SawBlaze\n",
      "https://battlebots.fandom.com/wiki/Scallywag\n",
      "https://battlebots.fandom.com/wiki/Template:Season_1.0_Heavyweight_Competitors\n",
      "https://battlebots.fandom.com/wiki/Template:Season_1.0_Lightweight_Competitors\n",
      "https://battlebots.fandom.com/wiki/Template:Season_1.0_Middleweight_Competitors\n",
      "https://battlebots.fandom.com/wiki/Template:Season_1.0_Superheavyweight_Competitors\n",
      "https://battlebots.fandom.com/wiki/Template:Season_2.0_Heavyweight_Competitors\n",
      "https://battlebots.fandom.com/wiki/Template:Season_2.0_Lightweight_Competitors\n",
      "https://battlebots.fandom.com/wiki/Template:Season_2.0_Middleweight_Competitors\n"
     ]
    }
   ],
   "source": [
    "# Print the links\n",
    "for link in links:\n",
    "    print(link)"
   ]
  },
  {
   "cell_type": "code",
   "execution_count": null,
   "id": "7a208bf7",
   "metadata": {},
   "outputs": [],
   "source": [
    "def get_all_wiki_robot_links():\n",
    "    # link for wiki\n",
    "    link = \"https://battlebots.fandom.com/wiki/Category:Competitor_list_templates\"\n",
    "    \n",
    "    # start scraper with link\n",
    "    driver = webdriver.Chrome()\n",
    "    \n",
    "    # go to link\n",
    "    driver.get(link)\n",
    "    \n",
    "    # isolate alphabet letter element\n",
    "    member_elements = driver.find_elements_by_class_name(\"category-page__members-wrapper\")\n",
    "\n",
    "    # temporary list\n",
    "    links = []\n",
    "    \n",
    "    # iterate through all the alplhabet class member and extract `css` element which has link\n",
    "    for member_element in member_elements:\n",
    "        a_elements = member_element.find_elements_by_css_selector(\".category-page__member-link\")\n",
    "        \n",
    "        # get the link in every alphabet `css` element link\n",
    "        for a_element in a_elements:\n",
    "            \n",
    "            # append to the empty list\n",
    "            links.append(a_element.get_attribute(\"href\"))\n",
    "            \n",
    "    return links"
   ]
  }
 ],
 "metadata": {
  "kernelspec": {
   "display_name": "Python 3 (ipykernel)",
   "language": "python",
   "name": "python3"
  },
  "language_info": {
   "codemirror_mode": {
    "name": "ipython",
    "version": 3
   },
   "file_extension": ".py",
   "mimetype": "text/x-python",
   "name": "python",
   "nbconvert_exporter": "python",
   "pygments_lexer": "ipython3",
   "version": "3.9.13"
  }
 },
 "nbformat": 4,
 "nbformat_minor": 5
}
