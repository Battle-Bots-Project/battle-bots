{
 "cells": [
  {
   "cell_type": "code",
   "execution_count": 1,
   "id": "d6f4e066",
   "metadata": {},
   "outputs": [],
   "source": [
    "import acquire\n",
    "import prepare"
   ]
  },
  {
   "cell_type": "markdown",
   "id": "260de2a3",
   "metadata": {},
   "source": [
    "# Read Pickles"
   ]
  },
  {
   "cell_type": "code",
   "execution_count": 2,
   "id": "d4444304",
   "metadata": {},
   "outputs": [],
   "source": [
    "robot_dictionary = acquire.read_pickles_in_directory('pickle-files')"
   ]
  },
  {
   "cell_type": "markdown",
   "id": "a889183f",
   "metadata": {},
   "source": [
    "# Create 2 DataFrames From Dictionary"
   ]
  },
  {
   "cell_type": "code",
   "execution_count": 3,
   "id": "b2fccf4a",
   "metadata": {},
   "outputs": [],
   "source": [
    "stats_df = acquire.create_long_format_stats_df(robot_dictionary)\n",
    "match_history_df = acquire.create_long_format_matchup_history_df(robot_dictionary)"
   ]
  },
  {
   "cell_type": "markdown",
   "id": "12e7884f",
   "metadata": {},
   "source": [
    "# Merge"
   ]
  },
  {
   "cell_type": "code",
   "execution_count": 4,
   "id": "a579d422",
   "metadata": {},
   "outputs": [],
   "source": [
    "df = prepare.merge_matchup_history(stats_df,match_history_df)"
   ]
  },
  {
   "cell_type": "markdown",
   "id": "c786ee20",
   "metadata": {},
   "source": [
    "# Clean"
   ]
  },
  {
   "cell_type": "code",
   "execution_count": 5,
   "id": "4cccf98b",
   "metadata": {},
   "outputs": [],
   "source": [
    "df = prepare.clean_merged_robot_data(df)"
   ]
  },
  {
   "cell_type": "code",
   "execution_count": 6,
   "id": "d1ba30b4",
   "metadata": {},
   "outputs": [
    {
     "name": "stdout",
     "output_type": "stream",
     "text": [
      "<class 'pandas.core.frame.DataFrame'>\n",
      "Int64Index: 109770 entries, 0 to 109769\n",
      "Data columns (total 4 columns):\n",
      " #   Column     Non-Null Count   Dtype \n",
      "---  ------     --------------   ----- \n",
      " 0   RobotName  109770 non-null  object\n",
      " 1   Year       109770 non-null  object\n",
      " 2   Value      109770 non-null  object\n",
      " 3   Stats      109770 non-null  object\n",
      "dtypes: object(4)\n",
      "memory usage: 4.2+ MB\n"
     ]
    }
   ],
   "source": [
    "df.info()"
   ]
  }
 ],
 "metadata": {
  "kernelspec": {
   "display_name": "Python 3 (ipykernel)",
   "language": "python",
   "name": "python3"
  },
  "language_info": {
   "codemirror_mode": {
    "name": "ipython",
    "version": 3
   },
   "file_extension": ".py",
   "mimetype": "text/x-python",
   "name": "python",
   "nbconvert_exporter": "python",
   "pygments_lexer": "ipython3",
   "version": "3.9.13"
  }
 },
 "nbformat": 4,
 "nbformat_minor": 5
}
