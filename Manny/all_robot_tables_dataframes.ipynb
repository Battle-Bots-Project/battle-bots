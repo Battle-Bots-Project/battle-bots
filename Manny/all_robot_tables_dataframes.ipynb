{
 "cells": [
  {
   "cell_type": "code",
   "execution_count": 1,
   "id": "e529cdec",
   "metadata": {},
   "outputs": [],
   "source": [
    "import pandas as pd\n",
    "from acquire import *"
   ]
  },
  {
   "cell_type": "markdown",
   "id": "4a58d72c",
   "metadata": {},
   "source": [
    "### All Season & Robot Links"
   ]
  },
  {
   "cell_type": "code",
   "execution_count": 2,
   "id": "9224fe10",
   "metadata": {},
   "outputs": [],
   "source": [
    "# Loading the JSON file with all season & robot links\n",
    "robot_links_dict = load_from_json(\"all_season_robot_links.json\")"
   ]
  },
  {
   "cell_type": "code",
   "execution_count": 17,
   "id": "94b37a76",
   "metadata": {},
   "outputs": [],
   "source": [
    "seasons = list(robot_links_dict.keys())"
   ]
  },
  {
   "cell_type": "code",
   "execution_count": 21,
   "id": "462bd038",
   "metadata": {},
   "outputs": [
    {
     "data": {
      "text/plain": [
       "'season-1-robots'"
      ]
     },
     "execution_count": 21,
     "metadata": {},
     "output_type": "execute_result"
    }
   ],
   "source": [
    "seasons[6]"
   ]
  },
  {
   "cell_type": "markdown",
   "id": "9075b297",
   "metadata": {},
   "source": [
    "### Loop"
   ]
  },
  {
   "cell_type": "code",
   "execution_count": 3,
   "id": "53b21e71",
   "metadata": {},
   "outputs": [],
   "source": [
    "# dictionary to store robot dataframes\n",
    "robot_data = {}"
   ]
  },
  {
   "cell_type": "code",
   "execution_count": 28,
   "id": "c4722ddc",
   "metadata": {},
   "outputs": [],
   "source": [
    "# Start scraper with link\n",
    "driver.quit()\n",
    "driver = webdriver.Chrome()"
   ]
  },
  {
   "cell_type": "code",
   "execution_count": 29,
   "id": "94b57486",
   "metadata": {},
   "outputs": [],
   "source": [
    "link = robot_links_dict[seasons[0]][0]"
   ]
  },
  {
   "cell_type": "code",
   "execution_count": 30,
   "id": "d60d1d86",
   "metadata": {},
   "outputs": [],
   "source": [
    "driver.get(link)"
   ]
  },
  {
   "cell_type": "code",
   "execution_count": null,
   "id": "a77057da",
   "metadata": {},
   "outputs": [],
   "source": []
  },
  {
   "cell_type": "markdown",
   "id": "8e65bdc7",
   "metadata": {},
   "source": [
    "# Season 1 Table Tags"
   ]
  },
  {
   "cell_type": "markdown",
   "id": "91a47b53",
   "metadata": {},
   "source": [
    "`\"table.bb-table\"`"
   ]
  },
  {
   "cell_type": "markdown",
   "id": "b9fbd770",
   "metadata": {},
   "source": [
    "# Season 2 Table Tags"
   ]
  },
  {
   "cell_type": "markdown",
   "id": "cdb10340",
   "metadata": {},
   "source": [
    "`\"table.bb-table\"`"
   ]
  },
  {
   "cell_type": "markdown",
   "id": "c60169f7",
   "metadata": {},
   "source": [
    "# World VII Table Tags"
   ]
  },
  {
   "cell_type": "markdown",
   "id": "5fbda0e3",
   "metadata": {},
   "source": [
    "`\"#igsv-1awzbewm9rorj958qoqywvrdmf0hzv3c28bglowutkoy\"`"
   ]
  },
  {
   "cell_type": "code",
   "execution_count": null,
   "id": "0d0b8e0d",
   "metadata": {},
   "outputs": [],
   "source": [
    "# Get table elements\n",
    "table_elements = driver.find_elements_by_css_selector(\"table.bb-table\")\n",
    "stats_history_html = table_elements[0].get_attribute(\"outerHTML\")\n",
    "match_history_html = table_elements[1].get_attribute(\"outerHTML\")\n",
    "\n",
    "# Create dataframes from the tables\n",
    "stats_df = pd.read_html(stats_history_html)[0]\n",
    "match_history_df = pd.read_html(match_history_html)[0]\n",
    "\n",
    "# Add dataframes to the dictionary with robot name as the key\n",
    "robot_data[robot_name] = {'stats': stats_df, 'match_history': match_history_df}"
   ]
  },
  {
   "cell_type": "code",
   "execution_count": 10,
   "id": "6ced4e7a",
   "metadata": {},
   "outputs": [
    {
     "ename": "IndexError",
     "evalue": "list index out of range",
     "output_type": "error",
     "traceback": [
      "\u001b[0;31m---------------------------------------------------------------------------\u001b[0m",
      "\u001b[0;31mIndexError\u001b[0m                                Traceback (most recent call last)",
      "Input \u001b[0;32mIn [10]\u001b[0m, in \u001b[0;36m<cell line: 2>\u001b[0;34m()\u001b[0m\n\u001b[1;32m     10\u001b[0m \u001b[38;5;66;03m# Get rid of cookies_popup\u001b[39;00m\n\u001b[1;32m     11\u001b[0m \u001b[38;5;66;03m#get_rid_of_cookies_popup(driver)\u001b[39;00m\n\u001b[1;32m     12\u001b[0m \n\u001b[1;32m     13\u001b[0m \u001b[38;5;66;03m# Get table elements\u001b[39;00m\n\u001b[1;32m     14\u001b[0m table_elements \u001b[38;5;241m=\u001b[39m driver\u001b[38;5;241m.\u001b[39mfind_elements_by_css_selector(\u001b[38;5;124m\"\u001b[39m\u001b[38;5;124mtable.bb-table\u001b[39m\u001b[38;5;124m\"\u001b[39m)\n\u001b[0;32m---> 15\u001b[0m stats_history_html \u001b[38;5;241m=\u001b[39m \u001b[43mtable_elements\u001b[49m\u001b[43m[\u001b[49m\u001b[38;5;241;43m0\u001b[39;49m\u001b[43m]\u001b[49m\u001b[38;5;241m.\u001b[39mget_attribute(\u001b[38;5;124m\"\u001b[39m\u001b[38;5;124mouterHTML\u001b[39m\u001b[38;5;124m\"\u001b[39m)\n\u001b[1;32m     16\u001b[0m match_history_html \u001b[38;5;241m=\u001b[39m table_elements[\u001b[38;5;241m1\u001b[39m]\u001b[38;5;241m.\u001b[39mget_attribute(\u001b[38;5;124m\"\u001b[39m\u001b[38;5;124mouterHTML\u001b[39m\u001b[38;5;124m\"\u001b[39m)\n\u001b[1;32m     18\u001b[0m \u001b[38;5;66;03m# Create dataframes from the tables\u001b[39;00m\n",
      "\u001b[0;31mIndexError\u001b[0m: list index out of range"
     ]
    }
   ],
   "source": [
    "# iterate through the dictionary of links\n",
    "for season, links in robot_links_dict.items():\n",
    "    for link in links:\n",
    "        # Extract robot name from the link\n",
    "        robot_name = link.split('/')[-2]\n",
    "\n",
    "        # send link to scraper browser\n",
    "        driver.get(link)\n",
    "\n",
    "        # Get rid of cookies_popup\n",
    "        #get_rid_of_cookies_popup(driver)\n",
    "\n",
    "        # Get table elements\n",
    "        table_elements = driver.find_elements_by_css_selector(\"table.bb-table\")\n",
    "        stats_history_html = table_elements[0].get_attribute(\"outerHTML\")\n",
    "        match_history_html = table_elements[1].get_attribute(\"outerHTML\")\n",
    "\n",
    "        # Create dataframes from the tables\n",
    "        stats_df = pd.read_html(stats_history_html)[0]\n",
    "        match_history_df = pd.read_html(match_history_html)[0]\n",
    "\n",
    "        # Add dataframes to the dictionary with robot name as the key\n",
    "        robot_data[robot_name] = {'stats': stats_df, 'match_history': match_history_df}\n",
    "\n",
    "# Close the driver\n",
    "driver.quit()"
   ]
  },
  {
   "cell_type": "code",
   "execution_count": null,
   "id": "9064137e",
   "metadata": {},
   "outputs": [],
   "source": [
    "# test output of each dataframes\n",
    "for robot_name, dataframes in robot_data.items():\n",
    "    print(f\"{robot_name}:\")\n",
    "    print(\"Stats:\")\n",
    "    print(dataframes['stats'])\n",
    "    print(\"Match history:\")\n",
    "    print(dataframes['match_history'])\n",
    "    print(\"\\n\")"
   ]
  }
 ],
 "metadata": {
  "kernelspec": {
   "display_name": "Python 3 (ipykernel)",
   "language": "python",
   "name": "python3"
  },
  "language_info": {
   "codemirror_mode": {
    "name": "ipython",
    "version": 3
   },
   "file_extension": ".py",
   "mimetype": "text/x-python",
   "name": "python",
   "nbconvert_exporter": "python",
   "pygments_lexer": "ipython3",
   "version": "3.9.13"
  }
 },
 "nbformat": 4,
 "nbformat_minor": 5
}
