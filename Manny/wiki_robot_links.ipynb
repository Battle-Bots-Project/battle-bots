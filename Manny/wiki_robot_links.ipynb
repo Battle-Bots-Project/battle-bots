{
 "cells": [
  {
   "cell_type": "code",
   "execution_count": 2,
   "id": "e529cdec",
   "metadata": {},
   "outputs": [],
   "source": [
    "from acquire import *"
   ]
  },
  {
   "cell_type": "code",
   "execution_count": 3,
   "id": "63bb5345",
   "metadata": {},
   "outputs": [],
   "source": [
    "# link from dictionary\n",
    "link = \"https://battlebots.fandom.com/wiki/Category:Competitor_list_templates\"\n",
    "# start scraper with link\n",
    "driver = webdriver.Chrome()\n",
    "driver.get(link)"
   ]
  },
  {
   "cell_type": "code",
   "execution_count": 4,
   "id": "3719d70b",
   "metadata": {},
   "outputs": [
    {
     "name": "stdout",
     "output_type": "stream",
     "text": [
      "A\n",
      "Abrasion\n",
      "Aegis\n",
      "Ambush\n",
      "Annihilator\n",
      "Anubis\n",
      "ATOM94\n",
      "Axe Backwards\n",
      "Axolotl\n"
     ]
    }
   ],
   "source": [
    "# isolating class\n",
    "member_elements = driver.find_elements_by_class_name(\"category-page__members-wrapper\")\n",
    "\n",
    "# last time using driver, so quitting afterward\n",
    "driver.quit()\n",
    "\n",
    "# test outpout of class\n",
    "print(member_elements[1].text)"
   ]
  },
  {
   "cell_type": "code",
   "execution_count": 5,
   "id": "39a07a13",
   "metadata": {},
   "outputs": [],
   "source": [
    "links = []\n",
    "for member_element in member_elements:\n",
    "    a_elements = member_element.find_elements_by_css_selector(\".category-page__member-link\")\n",
    "    for a_element in a_elements:\n",
    "        links.append(a_element.get_attribute(\"href\"))"
   ]
  },
  {
   "cell_type": "code",
   "execution_count": 6,
   "id": "46929928",
   "metadata": {},
   "outputs": [
    {
     "data": {
      "text/plain": [
       "'https://battlebots.fandom.com/wiki/Template:2015_Competitors'"
      ]
     },
     "execution_count": 6,
     "metadata": {},
     "output_type": "execute_result"
    }
   ],
   "source": [
    "links[0]"
   ]
  },
  {
   "cell_type": "code",
   "execution_count": 9,
   "id": "7a208bf7",
   "metadata": {},
   "outputs": [],
   "source": [
    "def get_all_wiki_robot_links():\n",
    "    # link for wiki\n",
    "    link = \"https://battlebots.fandom.com/wiki/Category:Competitor_list_templates\"\n",
    "    \n",
    "    # start scraper with link\n",
    "    driver = webdriver.Chrome()\n",
    "    \n",
    "    # go to link\n",
    "    driver.get(link)\n",
    "    \n",
    "    # isolate alphabet letter element\n",
    "    member_elements = driver.find_elements_by_class_name(\"category-page__members-wrapper\")\n",
    "\n",
    "    # temporary list\n",
    "    links = []\n",
    "    \n",
    "    # iterate through all the alplhabet class member and extract `css` element which has link\n",
    "    for member_element in member_elements:\n",
    "        a_elements = member_element.find_elements_by_css_selector(\".category-page__member-link\")\n",
    "        \n",
    "        # get the link in every alphabet `css` element link\n",
    "        for a_element in a_elements:\n",
    "            \n",
    "            # append to the empty list\n",
    "            links.append(a_element.get_attribute(\"href\"))\n",
    "            \n",
    "    # quit scraper browser\n",
    "    driver.quit()\n",
    "            \n",
    "    return links"
   ]
  },
  {
   "cell_type": "code",
   "execution_count": 8,
   "id": "22b96ef1",
   "metadata": {},
   "outputs": [],
   "source": [
    "import csv\n",
    "\n",
    "def save_links_to_csv(links, filename):\n",
    "    with open(filename, 'w', newline='') as file:\n",
    "        writer = csv.writer(file)\n",
    "        for link in links:\n",
    "            writer.writerow([link])\n",
    "\n",
    "# Example usage\n",
    "links = get_all_wiki_robot_links()\n",
    "save_links_to_csv(links, 'links.csv')"
   ]
  }
 ],
 "metadata": {
  "kernelspec": {
   "display_name": "Python 3 (ipykernel)",
   "language": "python",
   "name": "python3"
  },
  "language_info": {
   "codemirror_mode": {
    "name": "ipython",
    "version": 3
   },
   "file_extension": ".py",
   "mimetype": "text/x-python",
   "name": "python",
   "nbconvert_exporter": "python",
   "pygments_lexer": "ipython3",
   "version": "3.9.13"
  }
 },
 "nbformat": 4,
 "nbformat_minor": 5
}
