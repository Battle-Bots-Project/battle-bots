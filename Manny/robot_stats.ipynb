{
 "cells": [
  {
   "cell_type": "code",
   "execution_count": 2,
   "id": "6bc54e37",
   "metadata": {},
   "outputs": [],
   "source": [
    "import pandas as pd  \n",
    "from selenium import webdriver"
   ]
  },
  {
   "cell_type": "code",
   "execution_count": 3,
   "id": "b683ac04",
   "metadata": {},
   "outputs": [],
   "source": [
    "base_link = \"https://battlebots.com/robots/\""
   ]
  },
  {
   "cell_type": "code",
   "execution_count": 4,
   "id": "adc80ac2",
   "metadata": {},
   "outputs": [],
   "source": [
    "driver = webdriver.Chrome()"
   ]
  },
  {
   "cell_type": "code",
   "execution_count": 5,
   "id": "063e4ca9",
   "metadata": {},
   "outputs": [],
   "source": [
    "driver.get(base_link)"
   ]
  },
  {
   "cell_type": "markdown",
   "id": "9986a208",
   "metadata": {},
   "source": [
    "# Cookies Popup Function"
   ]
  },
  {
   "cell_type": "code",
   "execution_count": 6,
   "id": "42b248ff",
   "metadata": {},
   "outputs": [],
   "source": [
    "def get_rid_of_cookies_popup(driver):\n",
    "    # cookies alert window popup, close button\n",
    "    cookies_button = driver.find_element_by_class_name(\"cmplz-close\")\n",
    "    \n",
    "    # click close button\n",
    "    cookies_button.click()"
   ]
  },
  {
   "cell_type": "code",
   "execution_count": 53,
   "id": "e8060f46",
   "metadata": {},
   "outputs": [
    {
     "ename": "ElementNotInteractableException",
     "evalue": "Message: element not interactable\n  (Session info: chrome=111.0.5563.146)\n",
     "output_type": "error",
     "traceback": [
      "\u001b[0;31m---------------------------------------------------------------------------\u001b[0m",
      "\u001b[0;31mElementNotInteractableException\u001b[0m           Traceback (most recent call last)",
      "Input \u001b[0;32mIn [53]\u001b[0m, in \u001b[0;36m<cell line: 1>\u001b[0;34m()\u001b[0m\n\u001b[0;32m----> 1\u001b[0m \u001b[43mget_rid_of_cookies_popup\u001b[49m\u001b[43m(\u001b[49m\u001b[43mdriver\u001b[49m\u001b[43m)\u001b[49m\n",
      "Input \u001b[0;32mIn [6]\u001b[0m, in \u001b[0;36mget_rid_of_cookies_popup\u001b[0;34m(driver)\u001b[0m\n\u001b[1;32m      3\u001b[0m cookies_button \u001b[38;5;241m=\u001b[39m driver\u001b[38;5;241m.\u001b[39mfind_element_by_class_name(\u001b[38;5;124m\"\u001b[39m\u001b[38;5;124mcmplz-close\u001b[39m\u001b[38;5;124m\"\u001b[39m)\n\u001b[1;32m      5\u001b[0m \u001b[38;5;66;03m# click close button\u001b[39;00m\n\u001b[0;32m----> 6\u001b[0m \u001b[43mcookies_button\u001b[49m\u001b[38;5;241;43m.\u001b[39;49m\u001b[43mclick\u001b[49m\u001b[43m(\u001b[49m\u001b[43m)\u001b[49m\n",
      "File \u001b[0;32m/opt/homebrew/anaconda3/lib/python3.9/site-packages/selenium/webdriver/remote/webelement.py:80\u001b[0m, in \u001b[0;36mWebElement.click\u001b[0;34m(self)\u001b[0m\n\u001b[1;32m     78\u001b[0m \u001b[38;5;28;01mdef\u001b[39;00m \u001b[38;5;21mclick\u001b[39m(\u001b[38;5;28mself\u001b[39m):\n\u001b[1;32m     79\u001b[0m     \u001b[38;5;124;03m\"\"\"Clicks the element.\"\"\"\u001b[39;00m\n\u001b[0;32m---> 80\u001b[0m     \u001b[38;5;28;43mself\u001b[39;49m\u001b[38;5;241;43m.\u001b[39;49m\u001b[43m_execute\u001b[49m\u001b[43m(\u001b[49m\u001b[43mCommand\u001b[49m\u001b[38;5;241;43m.\u001b[39;49m\u001b[43mCLICK_ELEMENT\u001b[49m\u001b[43m)\u001b[49m\n",
      "File \u001b[0;32m/opt/homebrew/anaconda3/lib/python3.9/site-packages/selenium/webdriver/remote/webelement.py:633\u001b[0m, in \u001b[0;36mWebElement._execute\u001b[0;34m(self, command, params)\u001b[0m\n\u001b[1;32m    631\u001b[0m     params \u001b[38;5;241m=\u001b[39m {}\n\u001b[1;32m    632\u001b[0m params[\u001b[38;5;124m'\u001b[39m\u001b[38;5;124mid\u001b[39m\u001b[38;5;124m'\u001b[39m] \u001b[38;5;241m=\u001b[39m \u001b[38;5;28mself\u001b[39m\u001b[38;5;241m.\u001b[39m_id\n\u001b[0;32m--> 633\u001b[0m \u001b[38;5;28;01mreturn\u001b[39;00m \u001b[38;5;28;43mself\u001b[39;49m\u001b[38;5;241;43m.\u001b[39;49m\u001b[43m_parent\u001b[49m\u001b[38;5;241;43m.\u001b[39;49m\u001b[43mexecute\u001b[49m\u001b[43m(\u001b[49m\u001b[43mcommand\u001b[49m\u001b[43m,\u001b[49m\u001b[43m \u001b[49m\u001b[43mparams\u001b[49m\u001b[43m)\u001b[49m\n",
      "File \u001b[0;32m/opt/homebrew/anaconda3/lib/python3.9/site-packages/selenium/webdriver/remote/webdriver.py:321\u001b[0m, in \u001b[0;36mWebDriver.execute\u001b[0;34m(self, driver_command, params)\u001b[0m\n\u001b[1;32m    319\u001b[0m response \u001b[38;5;241m=\u001b[39m \u001b[38;5;28mself\u001b[39m\u001b[38;5;241m.\u001b[39mcommand_executor\u001b[38;5;241m.\u001b[39mexecute(driver_command, params)\n\u001b[1;32m    320\u001b[0m \u001b[38;5;28;01mif\u001b[39;00m response:\n\u001b[0;32m--> 321\u001b[0m     \u001b[38;5;28;43mself\u001b[39;49m\u001b[38;5;241;43m.\u001b[39;49m\u001b[43merror_handler\u001b[49m\u001b[38;5;241;43m.\u001b[39;49m\u001b[43mcheck_response\u001b[49m\u001b[43m(\u001b[49m\u001b[43mresponse\u001b[49m\u001b[43m)\u001b[49m\n\u001b[1;32m    322\u001b[0m     response[\u001b[38;5;124m'\u001b[39m\u001b[38;5;124mvalue\u001b[39m\u001b[38;5;124m'\u001b[39m] \u001b[38;5;241m=\u001b[39m \u001b[38;5;28mself\u001b[39m\u001b[38;5;241m.\u001b[39m_unwrap_value(\n\u001b[1;32m    323\u001b[0m         response\u001b[38;5;241m.\u001b[39mget(\u001b[38;5;124m'\u001b[39m\u001b[38;5;124mvalue\u001b[39m\u001b[38;5;124m'\u001b[39m, \u001b[38;5;28;01mNone\u001b[39;00m))\n\u001b[1;32m    324\u001b[0m     \u001b[38;5;28;01mreturn\u001b[39;00m response\n",
      "File \u001b[0;32m/opt/homebrew/anaconda3/lib/python3.9/site-packages/selenium/webdriver/remote/errorhandler.py:242\u001b[0m, in \u001b[0;36mErrorHandler.check_response\u001b[0;34m(self, response)\u001b[0m\n\u001b[1;32m    240\u001b[0m         alert_text \u001b[38;5;241m=\u001b[39m value[\u001b[38;5;124m'\u001b[39m\u001b[38;5;124malert\u001b[39m\u001b[38;5;124m'\u001b[39m]\u001b[38;5;241m.\u001b[39mget(\u001b[38;5;124m'\u001b[39m\u001b[38;5;124mtext\u001b[39m\u001b[38;5;124m'\u001b[39m)\n\u001b[1;32m    241\u001b[0m     \u001b[38;5;28;01mraise\u001b[39;00m exception_class(message, screen, stacktrace, alert_text)\n\u001b[0;32m--> 242\u001b[0m \u001b[38;5;28;01mraise\u001b[39;00m exception_class(message, screen, stacktrace)\n",
      "\u001b[0;31mElementNotInteractableException\u001b[0m: Message: element not interactable\n  (Session info: chrome=111.0.5563.146)\n"
     ]
    }
   ],
   "source": [
    "get_rid_of_cookies_popup(driver)"
   ]
  },
  {
   "cell_type": "markdown",
   "id": "23ed1947",
   "metadata": {},
   "source": [
    "# Season Links Function"
   ]
  },
  {
   "cell_type": "code",
   "execution_count": 54,
   "id": "caa70472",
   "metadata": {},
   "outputs": [],
   "source": [
    "def get_season_links():\n",
    "    # start scraper with link\n",
    "    base_link = \"https://battlebots.com/robots/\"\n",
    "    driver = webdriver.Chrome()\n",
    "    driver.get(base_link)\n",
    "    \n",
    "    # get all season elements to list\n",
    "    class_element = driver.find_elements_by_class_name(\"row\")\n",
    "    links = []\n",
    "    for i in range(4, 7):\n",
    "        for j in range(2):\n",
    "            season = class_element[i].find_elements_by_tag_name(\"a\")[j+1].get_attribute(\"href\")\n",
    "            links.append(season)\n",
    "\n",
    "    season = class_element[7].find_element_by_tag_name(\"a\").get_attribute(\"href\")\n",
    "    links.append(season)\n",
    "    \n",
    "    # close scraper browser\n",
    "    driver.quit()\n",
    "    \n",
    "    return links"
   ]
  },
  {
   "cell_type": "code",
   "execution_count": 55,
   "id": "12678767",
   "metadata": {},
   "outputs": [],
   "source": [
    "season_links = get_season_links()"
   ]
  },
  {
   "cell_type": "code",
   "execution_count": 56,
   "id": "27b7a6a1",
   "metadata": {},
   "outputs": [
    {
     "name": "stdout",
     "output_type": "stream",
     "text": [
      "https://battlebots.com/world-championship-vii-robots/\n",
      "https://battlebots.com/2021-season-robots/\n",
      "https://battlebots.com/2020-season-robots/\n",
      "https://battlebots.com/2019-season-robots/\n",
      "https://battlebots.com/2018-season-robots/\n",
      "https://battlebots.com/season-2-robots/\n",
      "https://battlebots.com/season-1-robots/\n"
     ]
    }
   ],
   "source": [
    "for i in season_links:\n",
    "    print(i)"
   ]
  },
  {
   "cell_type": "markdown",
   "id": "308bc20f",
   "metadata": {},
   "source": [
    "# Robots for Season 1 (last item in Season Links List)"
   ]
  },
  {
   "cell_type": "code",
   "execution_count": 11,
   "id": "e7ca59e8",
   "metadata": {},
   "outputs": [],
   "source": [
    "driver.get(season_links[6])"
   ]
  },
  {
   "cell_type": "code",
   "execution_count": 13,
   "id": "93328902",
   "metadata": {},
   "outputs": [],
   "source": [
    "#get_rid_of_cookies_popup(driver)"
   ]
  },
  {
   "cell_type": "code",
   "execution_count": 14,
   "id": "4b3cf84d",
   "metadata": {},
   "outputs": [],
   "source": [
    "thumbnail_overlay_elements = driver.find_elements_by_css_selector(\".portfolio-item-wrapper\")"
   ]
  },
  {
   "cell_type": "code",
   "execution_count": 15,
   "id": "0dfc422d",
   "metadata": {
    "scrolled": false
   },
   "outputs": [
    {
     "name": "stdout",
     "output_type": "stream",
     "text": [
      "BETA (2015)\n",
      "Link = https://battlebots.com/robot/beta/\n",
      "Bite Force (2015)\n",
      "Link = https://battlebots.com/robot/bite-force/\n",
      "Bronco (2015)\n",
      "Link = https://battlebots.com/robot/bronco/\n",
      "Bull Dog (2015)\n",
      "Link = https://battlebots.com/robot/bull-dog/\n",
      "Captain Shrederator (2015)\n",
      "Link = https://battlebots.com/robot/captain-shrederator/\n",
      "Chomp (2015)\n",
      "Link = https://battlebots.com/robot/chomp/\n",
      "Chronic (2015)\n",
      "Link = https://battlebots.com/robot/chronic/\n",
      "Complete Control Mk V (2015)\n",
      "Link = https://battlebots.com/robot/complete-control/\n",
      "Counter Revolution (2015)\n",
      "Link = https://battlebots.com/robot/counter-revolution/\n",
      "Ghost Raptor (2015)\n",
      "Link = https://battlebots.com/robot/ghost-raptor/\n",
      "HyperShock (2015)\n",
      "Link = https://battlebots.com/robot/hypershock/\n",
      "Icewave (2015)\n",
      "Link = https://battlebots.com/robot/icewave/\n",
      "Lock-Jaw (2015)\n",
      "Link = https://battlebots.com/robot/lock-jaw/\n",
      "Mohawk (2015)\n",
      "Link = https://battlebots.com/robot/mohawk/\n",
      "Nightmare (2015)\n",
      "Link = https://battlebots.com/robot/nightmare/\n",
      "OverDrive (2015)\n",
      "Link = https://battlebots.com/robot/overdrive/\n",
      "Overhaul (2015)\n",
      "Link = https://battlebots.com/robot/overhaul/\n",
      "Plan X (2015)\n",
      "Link = https://battlebots.com/robot/plan-x/\n",
      "Radioactive (2015)\n",
      "Link = https://battlebots.com/robot/radioactive/\n",
      "Razorback (2015)\n",
      "Link = https://battlebots.com/robot/razorback/\n",
      "Splatter (2015)\n",
      "Link = https://battlebots.com/robot/splatter/\n",
      "Stinger: The Killer Bee (2015)\n",
      "Link = https://battlebots.com/robot/stinger/\n",
      "Sweet Revenge (2015)\n",
      "Link = https://battlebots.com/robot/sweet-revenge/\n",
      "Tombstone (2015)\n",
      "Link = https://battlebots.com/robot/tombstone/\n",
      "Warhead (2015)\n",
      "Link = https://battlebots.com/robot/warhead/\n",
      "Warrior Clan (2015)\n",
      "Link = https://battlebots.com/robot/warrior-clan/\n",
      "Witch Doctor (2015)\n",
      "Link = https://battlebots.com/robot/witch-doctor/\n",
      "Wrecks (2015)\n",
      "Link = https://battlebots.com/robot/wrecks/\n"
     ]
    }
   ],
   "source": [
    "for thumbnail_overlay_element in thumbnail_overlay_elements:\n",
    "    title_element = thumbnail_overlay_element.find_element_by_css_selector(\".title\")\n",
    "    print(title_element.text)\n",
    "    beta_link_element = thumbnail_overlay_element.find_element_by_css_selector(\"a.button\")\n",
    "    beta_link = beta_link_element.get_attribute(\"href\")\n",
    "    print(f\"Link = {beta_link}\")"
   ]
  },
  {
   "cell_type": "code",
   "execution_count": 16,
   "id": "fe321636",
   "metadata": {},
   "outputs": [],
   "source": [
    "robot_1 = \"https://battlebots.com/robot/beta/\"\n",
    "driver.get(robot_1)"
   ]
  },
  {
   "cell_type": "code",
   "execution_count": 32,
   "id": "736f7a89",
   "metadata": {},
   "outputs": [],
   "source": [
    "table_elements = driver.find_elements_by_css_selector(\"table.bb-table\")"
   ]
  },
  {
   "cell_type": "code",
   "execution_count": 41,
   "id": "7e504cbf",
   "metadata": {},
   "outputs": [],
   "source": [
    "stats_history_html = table_elements[0].get_attribute(\"outerHTML\")\n",
    "match_history_html = table_elements[1].get_attribute(\"outerHTML\")"
   ]
  },
  {
   "cell_type": "code",
   "execution_count": 42,
   "id": "b45479cb",
   "metadata": {},
   "outputs": [],
   "source": [
    "stats_history_df = pd.read_html(stats_history_html)\n",
    "match_history_df = pd.read_html(match_history_html)"
   ]
  },
  {
   "cell_type": "code",
   "execution_count": 44,
   "id": "a9b481bc",
   "metadata": {},
   "outputs": [],
   "source": [
    "stats_history_df=stats_history_df[0]\n",
    "match_history_df=match_history_df[0]"
   ]
  },
  {
   "cell_type": "code",
   "execution_count": 45,
   "id": "e36b8b2e",
   "metadata": {},
   "outputs": [
    {
     "data": {
      "text/html": [
       "<div>\n",
       "<style scoped>\n",
       "    .dataframe tbody tr th:only-of-type {\n",
       "        vertical-align: middle;\n",
       "    }\n",
       "\n",
       "    .dataframe tbody tr th {\n",
       "        vertical-align: top;\n",
       "    }\n",
       "\n",
       "    .dataframe thead th {\n",
       "        text-align: right;\n",
       "    }\n",
       "</style>\n",
       "<table border=\"1\" class=\"dataframe\">\n",
       "  <thead>\n",
       "    <tr style=\"text-align: right;\">\n",
       "      <th></th>\n",
       "      <th>Stats</th>\n",
       "      <th>Career</th>\n",
       "      <th>Season 2</th>\n",
       "      <th>Season 1</th>\n",
       "    </tr>\n",
       "  </thead>\n",
       "  <tbody>\n",
       "    <tr>\n",
       "      <th>0</th>\n",
       "      <td>Total matches</td>\n",
       "      <td>4</td>\n",
       "      <td>4</td>\n",
       "      <td>0</td>\n",
       "    </tr>\n",
       "    <tr>\n",
       "      <th>1</th>\n",
       "      <td>Win percentage</td>\n",
       "      <td>75%</td>\n",
       "      <td>75%</td>\n",
       "      <td>NaN</td>\n",
       "    </tr>\n",
       "    <tr>\n",
       "      <th>2</th>\n",
       "      <td>Total wins</td>\n",
       "      <td>3</td>\n",
       "      <td>3</td>\n",
       "      <td>0</td>\n",
       "    </tr>\n",
       "    <tr>\n",
       "      <th>3</th>\n",
       "      <td>Losses</td>\n",
       "      <td>1</td>\n",
       "      <td>1</td>\n",
       "      <td>0</td>\n",
       "    </tr>\n",
       "    <tr>\n",
       "      <th>4</th>\n",
       "      <td>Knockouts</td>\n",
       "      <td>1</td>\n",
       "      <td>1</td>\n",
       "      <td>0</td>\n",
       "    </tr>\n",
       "    <tr>\n",
       "      <th>5</th>\n",
       "      <td>KO percentage</td>\n",
       "      <td>25%</td>\n",
       "      <td>25%</td>\n",
       "      <td>0%</td>\n",
       "    </tr>\n",
       "    <tr>\n",
       "      <th>6</th>\n",
       "      <td>Average knockout time</td>\n",
       "      <td>180s</td>\n",
       "      <td>180s</td>\n",
       "      <td>0</td>\n",
       "    </tr>\n",
       "    <tr>\n",
       "      <th>7</th>\n",
       "      <td>Knockouts against</td>\n",
       "      <td>0</td>\n",
       "      <td>0</td>\n",
       "      <td>0</td>\n",
       "    </tr>\n",
       "    <tr>\n",
       "      <th>8</th>\n",
       "      <td>KO against percentage</td>\n",
       "      <td>0%</td>\n",
       "      <td>0%</td>\n",
       "      <td>0%</td>\n",
       "    </tr>\n",
       "    <tr>\n",
       "      <th>9</th>\n",
       "      <td>Judges decision wins</td>\n",
       "      <td>2</td>\n",
       "      <td>2</td>\n",
       "      <td>0</td>\n",
       "    </tr>\n",
       "  </tbody>\n",
       "</table>\n",
       "</div>"
      ],
      "text/plain": [
       "                   Stats Career Season 2 Season 1\n",
       "0          Total matches      4        4        0\n",
       "1         Win percentage    75%      75%      NaN\n",
       "2             Total wins      3        3        0\n",
       "3                 Losses      1        1        0\n",
       "4              Knockouts      1        1        0\n",
       "5          KO percentage    25%      25%       0%\n",
       "6  Average knockout time   180s     180s        0\n",
       "7      Knockouts against      0        0        0\n",
       "8  KO against percentage     0%       0%       0%\n",
       "9   Judges decision wins      2        2        0"
      ]
     },
     "execution_count": 45,
     "metadata": {},
     "output_type": "execute_result"
    }
   ],
   "source": [
    "stats_history_df"
   ]
  },
  {
   "cell_type": "code",
   "execution_count": 46,
   "id": "97ae15db",
   "metadata": {},
   "outputs": [
    {
     "data": {
      "text/html": [
       "<div>\n",
       "<style scoped>\n",
       "    .dataframe tbody tr th:only-of-type {\n",
       "        vertical-align: middle;\n",
       "    }\n",
       "\n",
       "    .dataframe tbody tr th {\n",
       "        vertical-align: top;\n",
       "    }\n",
       "\n",
       "    .dataframe thead th {\n",
       "        text-align: right;\n",
       "    }\n",
       "</style>\n",
       "<table border=\"1\" class=\"dataframe\">\n",
       "  <thead>\n",
       "    <tr style=\"text-align: right;\">\n",
       "      <th></th>\n",
       "      <th>Season</th>\n",
       "      <th>Round</th>\n",
       "      <th>Opponent</th>\n",
       "      <th>Results</th>\n",
       "    </tr>\n",
       "  </thead>\n",
       "  <tbody>\n",
       "    <tr>\n",
       "      <th>0</th>\n",
       "      <td>Season 2</td>\n",
       "      <td>Qualifier</td>\n",
       "      <td>Lucky</td>\n",
       "      <td>Won by JD (3-0)</td>\n",
       "    </tr>\n",
       "    <tr>\n",
       "      <th>1</th>\n",
       "      <td>Season 2</td>\n",
       "      <td>Round of 32</td>\n",
       "      <td>Overhaul</td>\n",
       "      <td>Won by JD (3-0)</td>\n",
       "    </tr>\n",
       "    <tr>\n",
       "      <th>2</th>\n",
       "      <td>Season 2</td>\n",
       "      <td>Round of 16</td>\n",
       "      <td>Nightmare</td>\n",
       "      <td>Won by KO (3:00)</td>\n",
       "    </tr>\n",
       "    <tr>\n",
       "      <th>3</th>\n",
       "      <td>Season 2</td>\n",
       "      <td>Quaterfinals</td>\n",
       "      <td>Tombstone</td>\n",
       "      <td>Lost by JD (0-3)</td>\n",
       "    </tr>\n",
       "  </tbody>\n",
       "</table>\n",
       "</div>"
      ],
      "text/plain": [
       "     Season         Round   Opponent           Results\n",
       "0  Season 2     Qualifier      Lucky   Won by JD (3-0)\n",
       "1  Season 2   Round of 32   Overhaul   Won by JD (3-0)\n",
       "2  Season 2   Round of 16  Nightmare  Won by KO (3:00)\n",
       "3  Season 2  Quaterfinals  Tombstone  Lost by JD (0-3)"
      ]
     },
     "execution_count": 46,
     "metadata": {},
     "output_type": "execute_result"
    }
   ],
   "source": [
    "match_history_df"
   ]
  },
  {
   "cell_type": "code",
   "execution_count": 61,
   "id": "1d60c300",
   "metadata": {},
   "outputs": [],
   "source": [
    "def get_season_robot_links(season_link):\n",
    "    # start scraper with link\n",
    "    driver = webdriver.Chrome()\n",
    "    driver.get(season_link)\n",
    "    \n",
    "    links = []\n",
    "    # go to season link\n",
    "    driver.get(season_link)\n",
    "    \n",
    "    # get all robot overlay elements to list\n",
    "    thumbnail_overlay_elements = driver.find_elements_by_css_selector(\".portfolio-item-wrapper\")\n",
    "    \n",
    "    # iterate through list of robot elements\n",
    "    for thumbnail_overlay_element in thumbnail_overlay_elements:\n",
    "        link_element = thumbnail_overlay_element.find_element_by_css_selector(\"a.button\")\n",
    "        link = link_element.get_attribute(\"href\")\n",
    "        links.append(link)\n",
    "    \n",
    "    # close scraper browser\n",
    "    driver.quit()\n",
    "    \n",
    "    return links"
   ]
  },
  {
   "cell_type": "code",
   "execution_count": 62,
   "id": "c48b43ba",
   "metadata": {},
   "outputs": [],
   "source": [
    "season_1_robot_links = get_season_robot_links(season_links[6])"
   ]
  },
  {
   "cell_type": "code",
   "execution_count": 64,
   "id": "5f8d1d26",
   "metadata": {},
   "outputs": [
    {
     "data": {
      "text/plain": [
       "['https://battlebots.com/robot/beta/',\n",
       " 'https://battlebots.com/robot/bite-force/',\n",
       " 'https://battlebots.com/robot/bronco/',\n",
       " 'https://battlebots.com/robot/bull-dog/',\n",
       " 'https://battlebots.com/robot/captain-shrederator/',\n",
       " 'https://battlebots.com/robot/chomp/',\n",
       " 'https://battlebots.com/robot/chronic/',\n",
       " 'https://battlebots.com/robot/complete-control/',\n",
       " 'https://battlebots.com/robot/counter-revolution/',\n",
       " 'https://battlebots.com/robot/ghost-raptor/',\n",
       " 'https://battlebots.com/robot/hypershock/',\n",
       " 'https://battlebots.com/robot/icewave/',\n",
       " 'https://battlebots.com/robot/lock-jaw/',\n",
       " 'https://battlebots.com/robot/mohawk/',\n",
       " 'https://battlebots.com/robot/nightmare/',\n",
       " 'https://battlebots.com/robot/overdrive/',\n",
       " 'https://battlebots.com/robot/overhaul/',\n",
       " 'https://battlebots.com/robot/plan-x/',\n",
       " 'https://battlebots.com/robot/radioactive/',\n",
       " 'https://battlebots.com/robot/razorback/',\n",
       " 'https://battlebots.com/robot/splatter/',\n",
       " 'https://battlebots.com/robot/stinger/',\n",
       " 'https://battlebots.com/robot/sweet-revenge/',\n",
       " 'https://battlebots.com/robot/tombstone/',\n",
       " 'https://battlebots.com/robot/warhead/',\n",
       " 'https://battlebots.com/robot/warrior-clan/',\n",
       " 'https://battlebots.com/robot/witch-doctor/',\n",
       " 'https://battlebots.com/robot/wrecks/']"
      ]
     },
     "execution_count": 64,
     "metadata": {},
     "output_type": "execute_result"
    }
   ],
   "source": [
    "season_1_robot_links"
   ]
  },
  {
   "cell_type": "code",
   "execution_count": null,
   "id": "d27d713e",
   "metadata": {},
   "outputs": [],
   "source": []
  }
 ],
 "metadata": {
  "kernelspec": {
   "display_name": "Python 3 (ipykernel)",
   "language": "python",
   "name": "python3"
  },
  "language_info": {
   "codemirror_mode": {
    "name": "ipython",
    "version": 3
   },
   "file_extension": ".py",
   "mimetype": "text/x-python",
   "name": "python",
   "nbconvert_exporter": "python",
   "pygments_lexer": "ipython3",
   "version": "3.9.13"
  }
 },
 "nbformat": 4,
 "nbformat_minor": 5
}
