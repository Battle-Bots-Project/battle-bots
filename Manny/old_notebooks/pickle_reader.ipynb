{
 "cells": [
  {
   "cell_type": "code",
   "execution_count": 1,
   "id": "11b9dd26",
   "metadata": {},
   "outputs": [],
   "source": [
    "import os\n",
    "import pandas as pd\n",
    "import acquire"
   ]
  },
  {
   "cell_type": "markdown",
   "id": "065110d7",
   "metadata": {},
   "source": [
    "# Robot Links"
   ]
  },
  {
   "cell_type": "code",
   "execution_count": 2,
   "id": "14357276",
   "metadata": {},
   "outputs": [],
   "source": [
    "# loading the JSON file with all season & robot links\n",
    "robot_links_dict = acquire.load_from_json(\"all_season_robot_links.json\")"
   ]
  },
  {
   "cell_type": "code",
   "execution_count": 3,
   "id": "85a2b62d",
   "metadata": {},
   "outputs": [
    {
     "data": {
      "text/plain": [
       "'https://battlebots.com/robot/double-tap-wcvii/'"
      ]
     },
     "execution_count": 3,
     "metadata": {},
     "output_type": "execute_result"
    }
   ],
   "source": [
    "# test link\n",
    "robot_links_dict['world-championship-vii-robots'][13]"
   ]
  },
  {
   "cell_type": "code",
   "execution_count": 4,
   "id": "453229bd",
   "metadata": {},
   "outputs": [
    {
     "data": {
      "text/plain": [
       "'https://battlebots.com/robot/banshee-wcvii/'"
      ]
     },
     "execution_count": 4,
     "metadata": {},
     "output_type": "execute_result"
    }
   ],
   "source": [
    "robot_links_dict[list(robot_links_dict.keys())[0]][0]"
   ]
  },
  {
   "cell_type": "markdown",
   "id": "2fedfc50",
   "metadata": {},
   "source": [
    "# Just Robot Links"
   ]
  },
  {
   "cell_type": "code",
   "execution_count": 6,
   "id": "efb78f05",
   "metadata": {},
   "outputs": [],
   "source": [
    "# iterate over the values of the dictionary\n",
    "all_robot_links = []\n",
    "for key in robot_links_dict.values():\n",
    "    # iterate over the list of links in each value\n",
    "    for link in key:\n",
    "        all_robot_links.append(link)"
   ]
  },
  {
   "cell_type": "markdown",
   "id": "435df712",
   "metadata": {},
   "source": [
    "# Searching by Robot!"
   ]
  },
  {
   "cell_type": "code",
   "execution_count": 19,
   "id": "450ae4d2",
   "metadata": {},
   "outputs": [
    {
     "data": {
      "text/plain": [
       "'https://battlebots.com/robot/double-tap-wcvii/'"
      ]
     },
     "execution_count": 19,
     "metadata": {},
     "output_type": "execute_result"
    }
   ],
   "source": [
    "robot_links_dict['world-championship-vii-robots'][13]"
   ]
  },
  {
   "cell_type": "code",
   "execution_count": 16,
   "id": "3a2b872f",
   "metadata": {},
   "outputs": [],
   "source": [
    "# extract name \n",
    "link = robot_links_dict['world-championship-vii-robots'][13]\n",
    "robot_name = link.split('/')[-2]"
   ]
  },
  {
   "cell_type": "code",
   "execution_count": 3,
   "id": "6c8f5218",
   "metadata": {},
   "outputs": [],
   "source": [
    "# robot name to search for\n",
    "# robot_name = \"double-tap-wcvii\""
   ]
  },
  {
   "cell_type": "markdown",
   "id": "7087af57",
   "metadata": {},
   "source": [
    "# Robot Pickles!"
   ]
  },
  {
   "cell_type": "code",
   "execution_count": null,
   "id": "4b91bdc7",
   "metadata": {},
   "outputs": [],
   "source": [
    "# loading the JSON file with all season & robot links\n",
    "robot_links_dict = acquire.load_from_json(\"all_season_robot_links.json\")\n",
    "\n",
    "# iterate over the values of the dictionary\n",
    "all_robot_links = []\n",
    "for key in robot_links_dict.values():\n",
    "    # iterate over the list of links in each value\n",
    "    for link in key:\n",
    "        all_robot_links.append(link)\n",
    "\n",
    "# extract name \n",
    "link = all_robot_links[0]\n",
    "robot_name = link.split('/')[-2]\n",
    "\n",
    "# format file paths using the robot name\n",
    "stats_file = f\"{robot_name}_stats.pkl\"\n",
    "match_history_file = f\"{robot_name}_match_history.pkl\"\n",
    "\n",
    "# check if the files exist\n",
    "if os.path.exists(stats_file) and os.path.exists(match_history_file):\n",
    "    # Open the stats pickle file\n",
    "    with open(stats_file, 'rb') as f:\n",
    "        stats_df = pd.read_pickle(f)\n",
    "\n",
    "    # Open the match history pickle file\n",
    "    with open(match_history_file, 'rb') as f:\n",
    "        match_history_df = pd.read_pickle(f)\n",
    "\n",
    "    # print the dataframes\n",
    "    print(f\"Stats for {robot_name}:\")\n",
    "    print(stats_df)\n",
    "    \n",
    "    print(\"\\n\")\n",
    "    \n",
    "    print(f\"Match history for {robot_name}:\")\n",
    "    print(match_history_df)\n",
    "else:\n",
    "    print(f\"No files found for {robot_name}.\")"
   ]
  },
  {
   "cell_type": "code",
   "execution_count": 17,
   "id": "7b8c2adc",
   "metadata": {},
   "outputs": [],
   "source": [
    "# format file paths using the robot name\n",
    "stats_file = f\"{robot_name}_stats.pkl\"\n",
    "match_history_file = f\"{robot_name}_match_history.pkl\""
   ]
  },
  {
   "cell_type": "code",
   "execution_count": 18,
   "id": "8a18bb24",
   "metadata": {},
   "outputs": [
    {
     "name": "stdout",
     "output_type": "stream",
     "text": [
      "Stats for double-tap-wcvii:\n",
      "                   Stats Career WCVII\n",
      "0          Total matches      1     1\n",
      "1         Win percentage   100%  100%\n",
      "2             Total wins      1     1\n",
      "3                 Losses      0     0\n",
      "4              Knockouts      1     1\n",
      "5          KO percentage   100%  100%\n",
      "6  Average knockout time   55 s  55 s\n",
      "7      Knockouts against      0     0\n",
      "8  KO against percentage     0%    0%\n",
      "9   Judges decision wins      0     0\n",
      "\n",
      "\n",
      "Match history for double-tap-wcvii:\n",
      "  Season        Round               Matchup               Results\n",
      "0  WCVII  Episode 705  Doomba vs Double Tap  Double Tap by KO 55s\n"
     ]
    }
   ],
   "source": [
    "# check if the files exist\n",
    "if os.path.exists(stats_file) and os.path.exists(match_history_file):\n",
    "    # Open the stats pickle file\n",
    "    with open(stats_file, 'rb') as f:\n",
    "        stats_df = pd.read_pickle(f)\n",
    "\n",
    "    # Open the match history pickle file\n",
    "    with open(match_history_file, 'rb') as f:\n",
    "        match_history_df = pd.read_pickle(f)\n",
    "\n",
    "    # print the dataframes\n",
    "    print(f\"Stats for {robot_name}:\")\n",
    "    print(stats_df)\n",
    "    \n",
    "    print(\"\\n\")\n",
    "    \n",
    "    print(f\"Match history for {robot_name}:\")\n",
    "    print(match_history_df)\n",
    "else:\n",
    "    print(f\"No files found for {robot_name}.\")"
   ]
  },
  {
   "cell_type": "code",
   "execution_count": null,
   "id": "b0bc3db3",
   "metadata": {},
   "outputs": [],
   "source": []
  }
 ],
 "metadata": {
  "kernelspec": {
   "display_name": "Python 3 (ipykernel)",
   "language": "python",
   "name": "python3"
  },
  "language_info": {
   "codemirror_mode": {
    "name": "ipython",
    "version": 3
   },
   "file_extension": ".py",
   "mimetype": "text/x-python",
   "name": "python",
   "nbconvert_exporter": "python",
   "pygments_lexer": "ipython3",
   "version": "3.9.13"
  }
 },
 "nbformat": 4,
 "nbformat_minor": 5
}
