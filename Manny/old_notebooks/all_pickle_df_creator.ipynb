{
 "cells": [
  {
   "cell_type": "code",
   "execution_count": 1,
   "id": "65238515",
   "metadata": {},
   "outputs": [],
   "source": [
    "from acquire import *"
   ]
  },
  {
   "cell_type": "code",
   "execution_count": 2,
   "id": "2781a363",
   "metadata": {},
   "outputs": [],
   "source": [
    "robot_dict = read_pickles_in_directory(\"pickle-files\")"
   ]
  },
  {
   "cell_type": "code",
   "execution_count": 3,
   "id": "f71b557b",
   "metadata": {},
   "outputs": [],
   "source": [
    "long_format_dfs = []\n",
    "\n",
    "for robot_name, nested_dict in robot_dict.items():\n",
    "    if \"stats\" in nested_dict:\n",
    "        stats_df = nested_dict[\"stats\"]\n",
    "        \n",
    "        # Filter out the 'index' row\n",
    "        stats_df = stats_df[stats_df['Stats'] != 'index']\n",
    "        \n",
    "        stats_df[\"RobotName\"] = robot_name\n",
    "        stats_df = stats_df.melt(id_vars=['RobotName', 'Stats'], var_name='Year', value_name='Value')\n",
    "        \n",
    "        long_format_dfs.append(stats_df)\n",
    "\n",
    "# Concatenate the list of DataFrames\n",
    "final_df = pd.concat(long_format_dfs, ignore_index=True)"
   ]
  },
  {
   "cell_type": "code",
   "execution_count": 12,
   "id": "6175f299",
   "metadata": {},
   "outputs": [
    {
     "data": {
      "text/html": [
       "<div>\n",
       "<style scoped>\n",
       "    .dataframe tbody tr th:only-of-type {\n",
       "        vertical-align: middle;\n",
       "    }\n",
       "\n",
       "    .dataframe tbody tr th {\n",
       "        vertical-align: top;\n",
       "    }\n",
       "\n",
       "    .dataframe thead th {\n",
       "        text-align: right;\n",
       "    }\n",
       "</style>\n",
       "<table border=\"1\" class=\"dataframe\">\n",
       "  <thead>\n",
       "    <tr style=\"text-align: right;\">\n",
       "      <th></th>\n",
       "      <th>RobotName</th>\n",
       "      <th>Stats</th>\n",
       "      <th>Year</th>\n",
       "      <th>Value</th>\n",
       "    </tr>\n",
       "  </thead>\n",
       "  <tbody>\n",
       "    <tr>\n",
       "      <th>13630</th>\n",
       "      <td>riptide-wcvii</td>\n",
       "      <td>Total matches</td>\n",
       "      <td>Career</td>\n",
       "      <td>11</td>\n",
       "    </tr>\n",
       "    <tr>\n",
       "      <th>13631</th>\n",
       "      <td>riptide-wcvii</td>\n",
       "      <td>Win percentage</td>\n",
       "      <td>Career</td>\n",
       "      <td>82%</td>\n",
       "    </tr>\n",
       "    <tr>\n",
       "      <th>13632</th>\n",
       "      <td>riptide-wcvii</td>\n",
       "      <td>Total wins</td>\n",
       "      <td>Career</td>\n",
       "      <td>9</td>\n",
       "    </tr>\n",
       "    <tr>\n",
       "      <th>13633</th>\n",
       "      <td>riptide-wcvii</td>\n",
       "      <td>Losses</td>\n",
       "      <td>Career</td>\n",
       "      <td>2</td>\n",
       "    </tr>\n",
       "    <tr>\n",
       "      <th>13634</th>\n",
       "      <td>riptide-wcvii</td>\n",
       "      <td>Knockouts</td>\n",
       "      <td>Career</td>\n",
       "      <td>8</td>\n",
       "    </tr>\n",
       "    <tr>\n",
       "      <th>13635</th>\n",
       "      <td>riptide-wcvii</td>\n",
       "      <td>KO percentage</td>\n",
       "      <td>Career</td>\n",
       "      <td>73%</td>\n",
       "    </tr>\n",
       "    <tr>\n",
       "      <th>13636</th>\n",
       "      <td>riptide-wcvii</td>\n",
       "      <td>Average knockout time</td>\n",
       "      <td>Career</td>\n",
       "      <td>71 s</td>\n",
       "    </tr>\n",
       "    <tr>\n",
       "      <th>13637</th>\n",
       "      <td>riptide-wcvii</td>\n",
       "      <td>Knockouts against</td>\n",
       "      <td>Career</td>\n",
       "      <td>1</td>\n",
       "    </tr>\n",
       "    <tr>\n",
       "      <th>13638</th>\n",
       "      <td>riptide-wcvii</td>\n",
       "      <td>KO against percentage</td>\n",
       "      <td>Career</td>\n",
       "      <td>9%</td>\n",
       "    </tr>\n",
       "    <tr>\n",
       "      <th>13639</th>\n",
       "      <td>riptide-wcvii</td>\n",
       "      <td>Judges decision wins</td>\n",
       "      <td>Career</td>\n",
       "      <td>0</td>\n",
       "    </tr>\n",
       "  </tbody>\n",
       "</table>\n",
       "</div>"
      ],
      "text/plain": [
       "           RobotName                  Stats    Year Value\n",
       "13630  riptide-wcvii          Total matches  Career    11\n",
       "13631  riptide-wcvii         Win percentage  Career   82%\n",
       "13632  riptide-wcvii             Total wins  Career     9\n",
       "13633  riptide-wcvii                 Losses  Career     2\n",
       "13634  riptide-wcvii              Knockouts  Career     8\n",
       "13635  riptide-wcvii          KO percentage  Career   73%\n",
       "13636  riptide-wcvii  Average knockout time  Career  71 s\n",
       "13637  riptide-wcvii      Knockouts against  Career     1\n",
       "13638  riptide-wcvii  KO against percentage  Career    9%\n",
       "13639  riptide-wcvii   Judges decision wins  Career     0"
      ]
     },
     "execution_count": 12,
     "metadata": {},
     "output_type": "execute_result"
    }
   ],
   "source": [
    "final_df[(final_df['RobotName'] == 'riptide-wcvii') & (final_df['Year'] == \"Career\")]"
   ]
  },
  {
   "cell_type": "code",
   "execution_count": null,
   "id": "89aa393a",
   "metadata": {},
   "outputs": [],
   "source": []
  }
 ],
 "metadata": {
  "kernelspec": {
   "display_name": "Python 3 (ipykernel)",
   "language": "python",
   "name": "python3"
  },
  "language_info": {
   "codemirror_mode": {
    "name": "ipython",
    "version": 3
   },
   "file_extension": ".py",
   "mimetype": "text/x-python",
   "name": "python",
   "nbconvert_exporter": "python",
   "pygments_lexer": "ipython3",
   "version": "3.9.13"
  }
 },
 "nbformat": 4,
 "nbformat_minor": 5
}
