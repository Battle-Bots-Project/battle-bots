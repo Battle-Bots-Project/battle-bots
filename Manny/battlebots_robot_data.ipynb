{
 "cells": [
  {
   "cell_type": "code",
   "execution_count": 1,
   "id": "03560d05",
   "metadata": {},
   "outputs": [],
   "source": [
    "from pickle_reader import *\n",
    "from prepare import *"
   ]
  },
  {
   "cell_type": "code",
   "execution_count": 2,
   "id": "483b45f2",
   "metadata": {},
   "outputs": [],
   "source": [
    "robot_dictionary = read_pickles_in_directory('pickle-files')"
   ]
  },
  {
   "cell_type": "code",
   "execution_count": 3,
   "id": "aa537733",
   "metadata": {},
   "outputs": [],
   "source": [
    "stats_df = create_long_format_stats_df(robot_dictionary)"
   ]
  },
  {
   "cell_type": "code",
   "execution_count": 4,
   "id": "238995c2",
   "metadata": {},
   "outputs": [],
   "source": [
    "match_history_df = create_long_format_matchup_history_df(robot_dictionary)"
   ]
  },
  {
   "cell_type": "code",
   "execution_count": 5,
   "id": "99426caa",
   "metadata": {},
   "outputs": [],
   "source": [
    "df = merge_matchup_history(stats_df, match_history_df)"
   ]
  },
  {
   "cell_type": "code",
   "execution_count": 6,
   "id": "4d3b6c98",
   "metadata": {},
   "outputs": [
    {
     "data": {
      "text/html": [
       "<div>\n",
       "<style scoped>\n",
       "    .dataframe tbody tr th:only-of-type {\n",
       "        vertical-align: middle;\n",
       "    }\n",
       "\n",
       "    .dataframe tbody tr th {\n",
       "        vertical-align: top;\n",
       "    }\n",
       "\n",
       "    .dataframe thead th {\n",
       "        text-align: right;\n",
       "    }\n",
       "</style>\n",
       "<table border=\"1\" class=\"dataframe\">\n",
       "  <thead>\n",
       "    <tr style=\"text-align: right;\">\n",
       "      <th></th>\n",
       "      <th>RobotName</th>\n",
       "      <th>Year</th>\n",
       "      <th>Value</th>\n",
       "      <th>Stats</th>\n",
       "    </tr>\n",
       "  </thead>\n",
       "  <tbody>\n",
       "    <tr>\n",
       "      <th>0</th>\n",
       "      <td>tombstone-2021</td>\n",
       "      <td>Career</td>\n",
       "      <td>35</td>\n",
       "      <td>Total matches</td>\n",
       "    </tr>\n",
       "    <tr>\n",
       "      <th>1</th>\n",
       "      <td>tombstone-2021</td>\n",
       "      <td>Career</td>\n",
       "      <td>71%</td>\n",
       "      <td>Win percentage</td>\n",
       "    </tr>\n",
       "    <tr>\n",
       "      <th>2</th>\n",
       "      <td>tombstone-2021</td>\n",
       "      <td>Career</td>\n",
       "      <td>25</td>\n",
       "      <td>Total wins</td>\n",
       "    </tr>\n",
       "    <tr>\n",
       "      <th>3</th>\n",
       "      <td>tombstone-2021</td>\n",
       "      <td>Career</td>\n",
       "      <td>10</td>\n",
       "      <td>Losses</td>\n",
       "    </tr>\n",
       "    <tr>\n",
       "      <th>4</th>\n",
       "      <td>tombstone-2021</td>\n",
       "      <td>Career</td>\n",
       "      <td>20</td>\n",
       "      <td>Knockouts</td>\n",
       "    </tr>\n",
       "    <tr>\n",
       "      <th>...</th>\n",
       "      <td>...</td>\n",
       "      <td>...</td>\n",
       "      <td>...</td>\n",
       "      <td>...</td>\n",
       "    </tr>\n",
       "    <tr>\n",
       "      <th>109765</th>\n",
       "      <td>riptide-wcvii</td>\n",
       "      <td>2021</td>\n",
       "      <td>0</td>\n",
       "      <td>Judges decision wins</td>\n",
       "    </tr>\n",
       "    <tr>\n",
       "      <th>109766</th>\n",
       "      <td>riptide-wcvii</td>\n",
       "      <td>2021</td>\n",
       "      <td>0</td>\n",
       "      <td>Judges decision wins</td>\n",
       "    </tr>\n",
       "    <tr>\n",
       "      <th>109767</th>\n",
       "      <td>riptide-wcvii</td>\n",
       "      <td>2021</td>\n",
       "      <td>0</td>\n",
       "      <td>Judges decision wins</td>\n",
       "    </tr>\n",
       "    <tr>\n",
       "      <th>109768</th>\n",
       "      <td>riptide-wcvii</td>\n",
       "      <td>2021</td>\n",
       "      <td>0</td>\n",
       "      <td>Judges decision wins</td>\n",
       "    </tr>\n",
       "    <tr>\n",
       "      <th>109769</th>\n",
       "      <td>riptide-wcvii</td>\n",
       "      <td>2021</td>\n",
       "      <td>0</td>\n",
       "      <td>Judges decision wins</td>\n",
       "    </tr>\n",
       "  </tbody>\n",
       "</table>\n",
       "<p>109770 rows × 4 columns</p>\n",
       "</div>"
      ],
      "text/plain": [
       "             RobotName    Year Value                 Stats\n",
       "0       tombstone-2021  Career    35         Total matches\n",
       "1       tombstone-2021  Career   71%        Win percentage\n",
       "2       tombstone-2021  Career    25            Total wins\n",
       "3       tombstone-2021  Career    10                Losses\n",
       "4       tombstone-2021  Career    20             Knockouts\n",
       "...                ...     ...   ...                   ...\n",
       "109765   riptide-wcvii    2021     0  Judges decision wins\n",
       "109766   riptide-wcvii    2021     0  Judges decision wins\n",
       "109767   riptide-wcvii    2021     0  Judges decision wins\n",
       "109768   riptide-wcvii    2021     0  Judges decision wins\n",
       "109769   riptide-wcvii    2021     0  Judges decision wins\n",
       "\n",
       "[109770 rows x 4 columns]"
      ]
     },
     "execution_count": 6,
     "metadata": {},
     "output_type": "execute_result"
    }
   ],
   "source": [
    "df"
   ]
  }
 ],
 "metadata": {
  "kernelspec": {
   "display_name": "Python 3 (ipykernel)",
   "language": "python",
   "name": "python3"
  },
  "language_info": {
   "codemirror_mode": {
    "name": "ipython",
    "version": 3
   },
   "file_extension": ".py",
   "mimetype": "text/x-python",
   "name": "python",
   "nbconvert_exporter": "python",
   "pygments_lexer": "ipython3",
   "version": "3.9.13"
  }
 },
 "nbformat": 4,
 "nbformat_minor": 5
}
