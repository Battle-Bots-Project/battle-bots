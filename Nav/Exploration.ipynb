{
 "cells": [
  {
   "cell_type": "markdown",
   "id": "c503caf2",
   "metadata": {},
   "source": [
    "# imports"
   ]
  },
  {
   "cell_type": "code",
   "execution_count": 1,
   "id": "4cb3425b",
   "metadata": {},
   "outputs": [],
   "source": [
    "# essential imports"
   ]
  },
  {
   "cell_type": "code",
   "execution_count": 2,
   "id": "2415e60b",
   "metadata": {},
   "outputs": [],
   "source": [
    "import pandas as pd \n",
    "import numpy as np"
   ]
  },
  {
   "cell_type": "code",
   "execution_count": 3,
   "id": "51642f7f",
   "metadata": {},
   "outputs": [],
   "source": [
    "# visual imports"
   ]
  },
  {
   "cell_type": "code",
   "execution_count": 4,
   "id": "bd91caa3",
   "metadata": {},
   "outputs": [],
   "source": [
    "import matplotlib.pyplot as plt\n",
    "import seaborn as sns\n",
    "\n",
    "sns.set_style('darkgrid')\n",
    "# sns.set_palette('Paired')"
   ]
  },
  {
   "cell_type": "markdown",
   "id": "5e3b518d",
   "metadata": {},
   "source": [
    "# import data"
   ]
  },
  {
   "cell_type": "code",
   "execution_count": 5,
   "id": "91a220a1",
   "metadata": {},
   "outputs": [],
   "source": [
    "# import individual stats data\n",
    "stats = pd.read_csv('all-table1.csv', index_col= 0)"
   ]
  },
  {
   "cell_type": "code",
   "execution_count": 6,
   "id": "8a3b8d1e",
   "metadata": {},
   "outputs": [],
   "source": [
    "# import individual match data\n",
    "match = pd.read_csv('match.csv', index_col= 0)"
   ]
  },
  {
   "cell_type": "code",
   "execution_count": 7,
   "id": "f603d585",
   "metadata": {},
   "outputs": [],
   "source": [
    "# import merge stats and match, merged stats\n",
    "merged = pd.read_csv('merged.csv', index_col= 0)"
   ]
  },
  {
   "cell_type": "code",
   "execution_count": 8,
   "id": "ca6d4fe5",
   "metadata": {},
   "outputs": [],
   "source": [
    "# put columns names in a list\n",
    "cols = stats.columns.to_list()"
   ]
  },
  {
   "cell_type": "code",
   "execution_count": 9,
   "id": "efec19da",
   "metadata": {},
   "outputs": [],
   "source": [
    "# take the name, lower, replace the spaces with underscore and save them to cols*\n",
    "cols = [i.lower().replace(' ', '_') for i in cols]"
   ]
  },
  {
   "cell_type": "code",
   "execution_count": 10,
   "id": "01f858aa",
   "metadata": {},
   "outputs": [],
   "source": [
    "# the df columns now = the list cols\n",
    "stats.columns = cols"
   ]
  },
  {
   "cell_type": "code",
   "execution_count": 11,
   "id": "78bc163b",
   "metadata": {},
   "outputs": [],
   "source": [
    "# define a lambda function to extract the last string after the last hyphen\n",
    "# extract_last_string = lambda x: x.split('-')[-1]\n",
    "# apply the lambda function to the 'robot' and create a new column 'last_string'\n",
    "# stats['last_string'] = stats['robot'].apply(extract_last_string)"
   ]
  },
  {
   "cell_type": "code",
   "execution_count": 12,
   "id": "d8435aff",
   "metadata": {
    "scrolled": true
   },
   "outputs": [
    {
     "data": {
      "text/html": [
       "<div>\n",
       "<style scoped>\n",
       "    .dataframe tbody tr th:only-of-type {\n",
       "        vertical-align: middle;\n",
       "    }\n",
       "\n",
       "    .dataframe tbody tr th {\n",
       "        vertical-align: top;\n",
       "    }\n",
       "\n",
       "    .dataframe thead th {\n",
       "        text-align: right;\n",
       "    }\n",
       "</style>\n",
       "<table border=\"1\" class=\"dataframe\">\n",
       "  <thead>\n",
       "    <tr style=\"text-align: right;\">\n",
       "      <th></th>\n",
       "      <th>total_matches</th>\n",
       "      <th>win_percentage</th>\n",
       "      <th>total_wins</th>\n",
       "      <th>losses</th>\n",
       "      <th>knockouts</th>\n",
       "      <th>ko_percentage</th>\n",
       "      <th>average_knockout_time</th>\n",
       "      <th>knockouts_against</th>\n",
       "      <th>ko_against_percentage</th>\n",
       "      <th>judges_decision_wins</th>\n",
       "      <th>robot</th>\n",
       "    </tr>\n",
       "  </thead>\n",
       "  <tbody>\n",
       "    <tr>\n",
       "      <th>180</th>\n",
       "      <td>39.0</td>\n",
       "      <td>69%</td>\n",
       "      <td>27.0</td>\n",
       "      <td>12.0</td>\n",
       "      <td>19.0</td>\n",
       "      <td>49%</td>\n",
       "      <td>87 s</td>\n",
       "      <td>10</td>\n",
       "      <td>26%</td>\n",
       "      <td>8.0</td>\n",
       "      <td>witch-doctor-2020</td>\n",
       "    </tr>\n",
       "    <tr>\n",
       "      <th>56</th>\n",
       "      <td>39.0</td>\n",
       "      <td>69%</td>\n",
       "      <td>27.0</td>\n",
       "      <td>12.0</td>\n",
       "      <td>19.0</td>\n",
       "      <td>49%</td>\n",
       "      <td>87 s</td>\n",
       "      <td>10</td>\n",
       "      <td>26%</td>\n",
       "      <td>8.0</td>\n",
       "      <td>witch-doctor-wcvii</td>\n",
       "    </tr>\n",
       "    <tr>\n",
       "      <th>247</th>\n",
       "      <td>39.0</td>\n",
       "      <td>69%</td>\n",
       "      <td>27.0</td>\n",
       "      <td>12.0</td>\n",
       "      <td>19.0</td>\n",
       "      <td>49%</td>\n",
       "      <td>87 s</td>\n",
       "      <td>10</td>\n",
       "      <td>26%</td>\n",
       "      <td>8.0</td>\n",
       "      <td>25345</td>\n",
       "    </tr>\n",
       "    <tr>\n",
       "      <th>117</th>\n",
       "      <td>39.0</td>\n",
       "      <td>69%</td>\n",
       "      <td>27.0</td>\n",
       "      <td>12.0</td>\n",
       "      <td>19.0</td>\n",
       "      <td>49%</td>\n",
       "      <td>87 s</td>\n",
       "      <td>10</td>\n",
       "      <td>26%</td>\n",
       "      <td>8.0</td>\n",
       "      <td>witch-doctor-2021</td>\n",
       "    </tr>\n",
       "    <tr>\n",
       "      <th>301</th>\n",
       "      <td>39.0</td>\n",
       "      <td>69%</td>\n",
       "      <td>27.0</td>\n",
       "      <td>12.0</td>\n",
       "      <td>19.0</td>\n",
       "      <td>49%</td>\n",
       "      <td>87 s</td>\n",
       "      <td>10</td>\n",
       "      <td>26%</td>\n",
       "      <td>8.0</td>\n",
       "      <td>witch-doctor-2018</td>\n",
       "    </tr>\n",
       "    <tr>\n",
       "      <th>...</th>\n",
       "      <td>...</td>\n",
       "      <td>...</td>\n",
       "      <td>...</td>\n",
       "      <td>...</td>\n",
       "      <td>...</td>\n",
       "      <td>...</td>\n",
       "      <td>...</td>\n",
       "      <td>...</td>\n",
       "      <td>...</td>\n",
       "      <td>...</td>\n",
       "      <td>...</td>\n",
       "    </tr>\n",
       "    <tr>\n",
       "      <th>326</th>\n",
       "      <td>0.0</td>\n",
       "      <td>0%</td>\n",
       "      <td>0.0</td>\n",
       "      <td>0.0</td>\n",
       "      <td>0.0</td>\n",
       "      <td>0</td>\n",
       "      <td>0</td>\n",
       "      <td>0</td>\n",
       "      <td>0%</td>\n",
       "      <td>0.0</td>\n",
       "      <td>hellachopper</td>\n",
       "    </tr>\n",
       "    <tr>\n",
       "      <th>343</th>\n",
       "      <td>0.0</td>\n",
       "      <td>0%</td>\n",
       "      <td>0.0</td>\n",
       "      <td>0.0</td>\n",
       "      <td>0.0</td>\n",
       "      <td>0</td>\n",
       "      <td>0</td>\n",
       "      <td>0</td>\n",
       "      <td>0%</td>\n",
       "      <td>0.0</td>\n",
       "      <td>preying-mantis</td>\n",
       "    </tr>\n",
       "    <tr>\n",
       "      <th>14</th>\n",
       "      <td>0.0</td>\n",
       "      <td>NaN</td>\n",
       "      <td>0.0</td>\n",
       "      <td>0.0</td>\n",
       "      <td>0.0</td>\n",
       "      <td>NaN</td>\n",
       "      <td>NaN</td>\n",
       "      <td>0.0</td>\n",
       "      <td>NaN</td>\n",
       "      <td>0.0</td>\n",
       "      <td>dragon-king-wcvii</td>\n",
       "    </tr>\n",
       "    <tr>\n",
       "      <th>11</th>\n",
       "      <td>0.0</td>\n",
       "      <td>NaN</td>\n",
       "      <td>0.0</td>\n",
       "      <td>0.0</td>\n",
       "      <td>0.0</td>\n",
       "      <td>NaN</td>\n",
       "      <td>NaN</td>\n",
       "      <td>0.0</td>\n",
       "      <td>NaN</td>\n",
       "      <td>0.0</td>\n",
       "      <td>doom-wcvii</td>\n",
       "    </tr>\n",
       "    <tr>\n",
       "      <th>303</th>\n",
       "      <td>0.0</td>\n",
       "      <td>0%</td>\n",
       "      <td>0.0</td>\n",
       "      <td>0.0</td>\n",
       "      <td>0.0</td>\n",
       "      <td>0</td>\n",
       "      <td>0</td>\n",
       "      <td>0</td>\n",
       "      <td>0%</td>\n",
       "      <td>0.0</td>\n",
       "      <td>ambush-s2</td>\n",
       "    </tr>\n",
       "  </tbody>\n",
       "</table>\n",
       "<p>389 rows × 11 columns</p>\n",
       "</div>"
      ],
      "text/plain": [
       "     total_matches win_percentage  total_wins  losses  knockouts  \\\n",
       "180           39.0            69%        27.0    12.0       19.0   \n",
       "56            39.0            69%        27.0    12.0       19.0   \n",
       "247           39.0            69%        27.0    12.0       19.0   \n",
       "117           39.0            69%        27.0    12.0       19.0   \n",
       "301           39.0            69%        27.0    12.0       19.0   \n",
       "..             ...            ...         ...     ...        ...   \n",
       "326            0.0             0%         0.0     0.0        0.0   \n",
       "343            0.0             0%         0.0     0.0        0.0   \n",
       "14             0.0            NaN         0.0     0.0        0.0   \n",
       "11             0.0            NaN         0.0     0.0        0.0   \n",
       "303            0.0             0%         0.0     0.0        0.0   \n",
       "\n",
       "    ko_percentage average_knockout_time knockouts_against  \\\n",
       "180           49%                  87 s                10   \n",
       "56            49%                  87 s                10   \n",
       "247           49%                  87 s                10   \n",
       "117           49%                  87 s                10   \n",
       "301           49%                  87 s                10   \n",
       "..            ...                   ...               ...   \n",
       "326             0                     0                 0   \n",
       "343             0                     0                 0   \n",
       "14            NaN                   NaN               0.0   \n",
       "11            NaN                   NaN               0.0   \n",
       "303             0                     0                 0   \n",
       "\n",
       "    ko_against_percentage  judges_decision_wins               robot  \n",
       "180                   26%                   8.0   witch-doctor-2020  \n",
       "56                    26%                   8.0  witch-doctor-wcvii  \n",
       "247                   26%                   8.0               25345  \n",
       "117                   26%                   8.0   witch-doctor-2021  \n",
       "301                   26%                   8.0   witch-doctor-2018  \n",
       "..                    ...                   ...                 ...  \n",
       "326                    0%                   0.0        hellachopper  \n",
       "343                    0%                   0.0      preying-mantis  \n",
       "14                    NaN                   0.0   dragon-king-wcvii  \n",
       "11                    NaN                   0.0          doom-wcvii  \n",
       "303                    0%                   0.0           ambush-s2  \n",
       "\n",
       "[389 rows x 11 columns]"
      ]
     },
     "execution_count": 12,
     "metadata": {},
     "output_type": "execute_result"
    }
   ],
   "source": [
    "# looking at\n",
    "stats.sort_values(by = 'total_matches',ascending= False)"
   ]
  },
  {
   "cell_type": "code",
   "execution_count": 13,
   "id": "1a94eb7f",
   "metadata": {},
   "outputs": [],
   "source": [
    "num_strip = lambda x: str(x).split('%')[0] if isinstance(x, str) else x\n",
    "stats['win_percentage'] = stats['win_percentage'].apply(num_strip)\n",
    "stats['win_percentage'] = stats.win_percentage.astype('float')"
   ]
  },
  {
   "cell_type": "code",
   "execution_count": 14,
   "id": "e77227d7",
   "metadata": {},
   "outputs": [],
   "source": [
    "# this cleans the ko_percentage\n",
    "num_strip = lambda x: str(x).split('%')[0] if isinstance(x, str) else x\n",
    "stats['ko_percentage'] = stats['ko_percentage'].apply(num_strip)\n",
    "stats['ko_percentage'] = stats.ko_percentage.astype('float') "
   ]
  },
  {
   "cell_type": "code",
   "execution_count": 15,
   "id": "bf2ece71",
   "metadata": {},
   "outputs": [],
   "source": [
    "# this cleans the average_knockout_time\n",
    "num_strip = lambda x: str(x).split(' ')[0] if isinstance(x, str) else x\n",
    "stats['average_knockout_time'] = stats['average_knockout_time'].apply(num_strip)\n",
    "stats['average_knockout_time'] = stats.ko_percentage.astype('float') "
   ]
  },
  {
   "cell_type": "code",
   "execution_count": 16,
   "id": "d2c679f5",
   "metadata": {},
   "outputs": [],
   "source": [
    "names = [s.split('-')[0] for s in stats['robot']]\n",
    "\n",
    "# replace the name_suffix column with the new names column\n",
    "stats['robots'] = names\n",
    "\n",
    "# add the season column to the DataFrame\n",
    "stats['season'] = [s.split('-')[-1] for s in stats['robot']]\n"
   ]
  },
  {
   "cell_type": "markdown",
   "id": "fdc8c2c4",
   "metadata": {},
   "source": [
    "# Stats Explore"
   ]
  },
  {
   "cell_type": "markdown",
   "id": "e9699f7d",
   "metadata": {},
   "source": [
    "# Who has played the most matches"
   ]
  },
  {
   "cell_type": "code",
   "execution_count": 17,
   "id": "14f846ff",
   "metadata": {},
   "outputs": [
    {
     "data": {
      "text/plain": [
       "<AxesSubplot:xlabel='total_matches', ylabel='robot'>"
      ]
     },
     "execution_count": 17,
     "metadata": {},
     "output_type": "execute_result"
    },
    {
     "data": {
      "image/png": "[encoded data removed]",
      "text/plain": [
       "<Figure size 640x480 with 1 Axes>"
      ]
     },
     "metadata": {},
     "output_type": "display_data"
    }
   ],
   "source": [
    "sns.barplot(palette= 'mako',x = 'total_matches', y = 'robot', data = stats.sort_values(by = 'total_matches',ascending= False).head(20))\n"
   ]
  },
  {
   "cell_type": "markdown",
   "id": "2d224730",
   "metadata": {},
   "source": [
    "# What robots are playing the least amount of matches"
   ]
  },
  {
   "cell_type": "code",
   "execution_count": 18,
   "id": "127ca63a",
   "metadata": {},
   "outputs": [
    {
     "data": {
      "text/plain": [
       "<AxesSubplot:xlabel='total_matches', ylabel='robot'>"
      ]
     },
     "execution_count": 18,
     "metadata": {},
     "output_type": "execute_result"
    },
    {
     "data": {
      "image/png": "[encoded data removed]",
      "text/plain": [
       "<Figure size 640x480 with 1 Axes>"
      ]
     },
     "metadata": {},
     "output_type": "display_data"
    }
   ],
   "source": [
    "sns.barplot(palette= 'mako',x = 'total_matches', y = 'robot', data = stats.sort_values(by = 'total_matches',ascending= True).head(20))\n",
    "\n"
   ]
  },
  {
   "cell_type": "markdown",
   "id": "277c47a4",
   "metadata": {},
   "source": [
    "# what robots are winning 50 % of their matches"
   ]
  },
  {
   "cell_type": "code",
   "execution_count": 19,
   "id": "d86e3bf1",
   "metadata": {},
   "outputs": [],
   "source": [
    "test = '33%'"
   ]
  },
  {
   "cell_type": "code",
   "execution_count": 20,
   "id": "8e4281f4",
   "metadata": {},
   "outputs": [
    {
     "data": {
      "text/plain": [
       "'33'"
      ]
     },
     "execution_count": 20,
     "metadata": {},
     "output_type": "execute_result"
    }
   ],
   "source": [
    "test.split('%')[0]"
   ]
  },
  {
   "cell_type": "code",
   "execution_count": null,
   "id": "5807c491",
   "metadata": {},
   "outputs": [],
   "source": []
  },
  {
   "cell_type": "code",
   "execution_count": 21,
   "id": "87411970",
   "metadata": {},
   "outputs": [],
   "source": [
    "win_fifty_or_more = stats[stats.win_percentage >= 50]"
   ]
  },
  {
   "cell_type": "code",
   "execution_count": 22,
   "id": "8aa35f30",
   "metadata": {},
   "outputs": [],
   "source": [
    "win_fifty_or_more = win_fifty_or_more.sort_values(by = ['total_matches', 'win_percentage', 'ko_percentage'],ascending= False)"
   ]
  },
  {
   "cell_type": "code",
   "execution_count": 23,
   "id": "2b493520",
   "metadata": {},
   "outputs": [
    {
     "data": {
      "text/plain": [
       "<AxesSubplot:xlabel='total_matches', ylabel='robot'>"
      ]
     },
     "execution_count": 23,
     "metadata": {},
     "output_type": "execute_result"
    },
    {
     "data": {
      "image/png": "[encoded data removed]",
      "text/plain": [
       "<Figure size 640x480 with 1 Axes>"
      ]
     },
     "metadata": {},
     "output_type": "display_data"
    }
   ],
   "source": [
    "sns.barplot(palette= 'mako',x = 'total_matches', y = 'robot', data = win_fifty_or_more.head(15))"
   ]
  },
  {
   "cell_type": "code",
   "execution_count": 24,
   "id": "038451cf",
   "metadata": {},
   "outputs": [],
   "source": [
    "test = '87 s'"
   ]
  },
  {
   "cell_type": "code",
   "execution_count": 25,
   "id": "efb23a87",
   "metadata": {},
   "outputs": [
    {
     "data": {
      "text/plain": [
       "'87'"
      ]
     },
     "execution_count": 25,
     "metadata": {},
     "output_type": "execute_result"
    }
   ],
   "source": [
    "str(test).split(' ')[0]"
   ]
  },
  {
   "cell_type": "code",
   "execution_count": 26,
   "id": "e8d69989",
   "metadata": {
    "scrolled": true
   },
   "outputs": [
    {
     "data": {
      "text/html": [
       "<div>\n",
       "<style scoped>\n",
       "    .dataframe tbody tr th:only-of-type {\n",
       "        vertical-align: middle;\n",
       "    }\n",
       "\n",
       "    .dataframe tbody tr th {\n",
       "        vertical-align: top;\n",
       "    }\n",
       "\n",
       "    .dataframe thead th {\n",
       "        text-align: right;\n",
       "    }\n",
       "</style>\n",
       "<table border=\"1\" class=\"dataframe\">\n",
       "  <thead>\n",
       "    <tr style=\"text-align: right;\">\n",
       "      <th></th>\n",
       "      <th>total_matches</th>\n",
       "      <th>win_percentage</th>\n",
       "      <th>total_wins</th>\n",
       "      <th>losses</th>\n",
       "      <th>knockouts</th>\n",
       "      <th>ko_percentage</th>\n",
       "      <th>average_knockout_time</th>\n",
       "      <th>knockouts_against</th>\n",
       "      <th>ko_against_percentage</th>\n",
       "      <th>judges_decision_wins</th>\n",
       "      <th>robot</th>\n",
       "      <th>robots</th>\n",
       "      <th>season</th>\n",
       "    </tr>\n",
       "  </thead>\n",
       "  <tbody>\n",
       "    <tr>\n",
       "      <th>56</th>\n",
       "      <td>39.0</td>\n",
       "      <td>69.0</td>\n",
       "      <td>27.0</td>\n",
       "      <td>12.0</td>\n",
       "      <td>19.0</td>\n",
       "      <td>49.0</td>\n",
       "      <td>49.0</td>\n",
       "      <td>10</td>\n",
       "      <td>26%</td>\n",
       "      <td>8.0</td>\n",
       "      <td>witch-doctor-wcvii</td>\n",
       "      <td>witch</td>\n",
       "      <td>wcvii</td>\n",
       "    </tr>\n",
       "    <tr>\n",
       "      <th>117</th>\n",
       "      <td>39.0</td>\n",
       "      <td>69.0</td>\n",
       "      <td>27.0</td>\n",
       "      <td>12.0</td>\n",
       "      <td>19.0</td>\n",
       "      <td>49.0</td>\n",
       "      <td>49.0</td>\n",
       "      <td>10</td>\n",
       "      <td>26%</td>\n",
       "      <td>8.0</td>\n",
       "      <td>witch-doctor-2021</td>\n",
       "      <td>witch</td>\n",
       "      <td>2021</td>\n",
       "    </tr>\n",
       "    <tr>\n",
       "      <th>180</th>\n",
       "      <td>39.0</td>\n",
       "      <td>69.0</td>\n",
       "      <td>27.0</td>\n",
       "      <td>12.0</td>\n",
       "      <td>19.0</td>\n",
       "      <td>49.0</td>\n",
       "      <td>49.0</td>\n",
       "      <td>10</td>\n",
       "      <td>26%</td>\n",
       "      <td>8.0</td>\n",
       "      <td>witch-doctor-2020</td>\n",
       "      <td>witch</td>\n",
       "      <td>2020</td>\n",
       "    </tr>\n",
       "    <tr>\n",
       "      <th>247</th>\n",
       "      <td>39.0</td>\n",
       "      <td>69.0</td>\n",
       "      <td>27.0</td>\n",
       "      <td>12.0</td>\n",
       "      <td>19.0</td>\n",
       "      <td>49.0</td>\n",
       "      <td>49.0</td>\n",
       "      <td>10</td>\n",
       "      <td>26%</td>\n",
       "      <td>8.0</td>\n",
       "      <td>25345</td>\n",
       "      <td>25345</td>\n",
       "      <td>25345</td>\n",
       "    </tr>\n",
       "    <tr>\n",
       "      <th>301</th>\n",
       "      <td>39.0</td>\n",
       "      <td>69.0</td>\n",
       "      <td>27.0</td>\n",
       "      <td>12.0</td>\n",
       "      <td>19.0</td>\n",
       "      <td>49.0</td>\n",
       "      <td>49.0</td>\n",
       "      <td>10</td>\n",
       "      <td>26%</td>\n",
       "      <td>8.0</td>\n",
       "      <td>witch-doctor-2018</td>\n",
       "      <td>witch</td>\n",
       "      <td>2018</td>\n",
       "    </tr>\n",
       "    <tr>\n",
       "      <th>...</th>\n",
       "      <td>...</td>\n",
       "      <td>...</td>\n",
       "      <td>...</td>\n",
       "      <td>...</td>\n",
       "      <td>...</td>\n",
       "      <td>...</td>\n",
       "      <td>...</td>\n",
       "      <td>...</td>\n",
       "      <td>...</td>\n",
       "      <td>...</td>\n",
       "      <td>...</td>\n",
       "      <td>...</td>\n",
       "      <td>...</td>\n",
       "    </tr>\n",
       "    <tr>\n",
       "      <th>378</th>\n",
       "      <td>2.0</td>\n",
       "      <td>50.0</td>\n",
       "      <td>1.0</td>\n",
       "      <td>1.0</td>\n",
       "      <td>0.0</td>\n",
       "      <td>0.0</td>\n",
       "      <td>0.0</td>\n",
       "      <td>1</td>\n",
       "      <td>50%</td>\n",
       "      <td>1.0</td>\n",
       "      <td>plan-x</td>\n",
       "      <td>plan</td>\n",
       "      <td>x</td>\n",
       "    </tr>\n",
       "    <tr>\n",
       "      <th>379</th>\n",
       "      <td>2.0</td>\n",
       "      <td>50.0</td>\n",
       "      <td>1.0</td>\n",
       "      <td>1.0</td>\n",
       "      <td>0.0</td>\n",
       "      <td>0.0</td>\n",
       "      <td>0.0</td>\n",
       "      <td>1</td>\n",
       "      <td>50%</td>\n",
       "      <td>1.0</td>\n",
       "      <td>radioactive</td>\n",
       "      <td>radioactive</td>\n",
       "      <td>radioactive</td>\n",
       "    </tr>\n",
       "    <tr>\n",
       "      <th>13</th>\n",
       "      <td>1.0</td>\n",
       "      <td>100.0</td>\n",
       "      <td>1.0</td>\n",
       "      <td>0.0</td>\n",
       "      <td>1.0</td>\n",
       "      <td>100.0</td>\n",
       "      <td>100.0</td>\n",
       "      <td>0</td>\n",
       "      <td>0%</td>\n",
       "      <td>0.0</td>\n",
       "      <td>double-tap-wcvii</td>\n",
       "      <td>double</td>\n",
       "      <td>wcvii</td>\n",
       "    </tr>\n",
       "    <tr>\n",
       "      <th>52</th>\n",
       "      <td>1.0</td>\n",
       "      <td>100.0</td>\n",
       "      <td>1.0</td>\n",
       "      <td>0.0</td>\n",
       "      <td>1.0</td>\n",
       "      <td>100.0</td>\n",
       "      <td>100.0</td>\n",
       "      <td>0</td>\n",
       "      <td>0%</td>\n",
       "      <td>0.0</td>\n",
       "      <td>terrortops-wcvii</td>\n",
       "      <td>terrortops</td>\n",
       "      <td>wcvii</td>\n",
       "    </tr>\n",
       "    <tr>\n",
       "      <th>323</th>\n",
       "      <td>1.0</td>\n",
       "      <td>50.0</td>\n",
       "      <td>1.0</td>\n",
       "      <td>1.0</td>\n",
       "      <td>0.0</td>\n",
       "      <td>0.0</td>\n",
       "      <td>0.0</td>\n",
       "      <td>1</td>\n",
       "      <td>50%</td>\n",
       "      <td>1.0</td>\n",
       "      <td>escape-velocity</td>\n",
       "      <td>escape</td>\n",
       "      <td>velocity</td>\n",
       "    </tr>\n",
       "  </tbody>\n",
       "</table>\n",
       "<p>199 rows × 13 columns</p>\n",
       "</div>"
      ],
      "text/plain": [
       "     total_matches  win_percentage  total_wins  losses  knockouts  \\\n",
       "56            39.0            69.0        27.0    12.0       19.0   \n",
       "117           39.0            69.0        27.0    12.0       19.0   \n",
       "180           39.0            69.0        27.0    12.0       19.0   \n",
       "247           39.0            69.0        27.0    12.0       19.0   \n",
       "301           39.0            69.0        27.0    12.0       19.0   \n",
       "..             ...             ...         ...     ...        ...   \n",
       "378            2.0            50.0         1.0     1.0        0.0   \n",
       "379            2.0            50.0         1.0     1.0        0.0   \n",
       "13             1.0           100.0         1.0     0.0        1.0   \n",
       "52             1.0           100.0         1.0     0.0        1.0   \n",
       "323            1.0            50.0         1.0     1.0        0.0   \n",
       "\n",
       "     ko_percentage  average_knockout_time knockouts_against  \\\n",
       "56            49.0                   49.0                10   \n",
       "117           49.0                   49.0                10   \n",
       "180           49.0                   49.0                10   \n",
       "247           49.0                   49.0                10   \n",
       "301           49.0                   49.0                10   \n",
       "..             ...                    ...               ...   \n",
       "378            0.0                    0.0                 1   \n",
       "379            0.0                    0.0                 1   \n",
       "13           100.0                  100.0                 0   \n",
       "52           100.0                  100.0                 0   \n",
       "323            0.0                    0.0                 1   \n",
       "\n",
       "    ko_against_percentage  judges_decision_wins               robot  \\\n",
       "56                    26%                   8.0  witch-doctor-wcvii   \n",
       "117                   26%                   8.0   witch-doctor-2021   \n",
       "180                   26%                   8.0   witch-doctor-2020   \n",
       "247                   26%                   8.0               25345   \n",
       "301                   26%                   8.0   witch-doctor-2018   \n",
       "..                    ...                   ...                 ...   \n",
       "378                   50%                   1.0              plan-x   \n",
       "379                   50%                   1.0         radioactive   \n",
       "13                     0%                   0.0    double-tap-wcvii   \n",
       "52                     0%                   0.0    terrortops-wcvii   \n",
       "323                   50%                   1.0     escape-velocity   \n",
       "\n",
       "          robots       season  \n",
       "56         witch        wcvii  \n",
       "117        witch         2021  \n",
       "180        witch         2020  \n",
       "247        25345        25345  \n",
       "301        witch         2018  \n",
       "..           ...          ...  \n",
       "378         plan            x  \n",
       "379  radioactive  radioactive  \n",
       "13        double        wcvii  \n",
       "52    terrortops        wcvii  \n",
       "323       escape     velocity  \n",
       "\n",
       "[199 rows x 13 columns]"
      ]
     },
     "execution_count": 26,
     "metadata": {},
     "output_type": "execute_result"
    }
   ],
   "source": [
    "win_fifty_or_more"
   ]
  },
  {
   "cell_type": "code",
   "execution_count": 27,
   "id": "03fbce98",
   "metadata": {},
   "outputs": [],
   "source": [
    "heavy_hitters = win_fifty_or_more[(win_fifty_or_more.ko_percentage >= 50) & (win_fifty_or_more.average_knockout_time <= 50)]"
   ]
  },
  {
   "cell_type": "code",
   "execution_count": 28,
   "id": "cbefe370",
   "metadata": {},
   "outputs": [
    {
     "data": {
      "image/png": "[encoded data removed]",
      "text/plain": [
       "<Figure size 640x480 with 1 Axes>"
      ]
     },
     "metadata": {},
     "output_type": "display_data"
    }
   ],
   "source": [
    "sns.barplot(y = 'robot', x = 'total_matches', data = heavy_hitters)\n",
    "plt.title('Heavy Hitters')\n",
    "plt.xlabel('Total Match Count')\n",
    "plt.ylabel('Robots')\n",
    "\n",
    "None"
   ]
  },
  {
   "cell_type": "markdown",
   "id": "eaf5c7d8",
   "metadata": {},
   "source": [
    "<div class=\"alert alert-block alert-success\">\n",
    "<b>Heavy Hitters:</b> \n",
    "This is comprised of robots that meet this criteria\n",
    "    \n",
    "* win_percentage > 50%\n",
    "    \n",
    "* average_knockout_time > 50 seconds or less\n",
    "</div>"
   ]
  },
  {
   "cell_type": "code",
   "execution_count": null,
   "id": "3cc6da40",
   "metadata": {},
   "outputs": [],
   "source": []
  },
  {
   "cell_type": "markdown",
   "id": "5379c8a4",
   "metadata": {},
   "source": [
    "# Let's look at losers"
   ]
  },
  {
   "cell_type": "code",
   "execution_count": 29,
   "id": "44148902",
   "metadata": {},
   "outputs": [],
   "source": [
    "losers = stats[stats.win_percentage <= 49]"
   ]
  },
  {
   "cell_type": "code",
   "execution_count": 30,
   "id": "95adfa76",
   "metadata": {},
   "outputs": [],
   "source": [
    "losers = losers.sort_values(by=['total_matches', 'win_percentage'], ascending=[False, False])\n"
   ]
  },
  {
   "cell_type": "code",
   "execution_count": 31,
   "id": "8e093e0a",
   "metadata": {
    "scrolled": true
   },
   "outputs": [
    {
     "data": {
      "text/html": [
       "<div>\n",
       "<style scoped>\n",
       "    .dataframe tbody tr th:only-of-type {\n",
       "        vertical-align: middle;\n",
       "    }\n",
       "\n",
       "    .dataframe tbody tr th {\n",
       "        vertical-align: top;\n",
       "    }\n",
       "\n",
       "    .dataframe thead th {\n",
       "        text-align: right;\n",
       "    }\n",
       "</style>\n",
       "<table border=\"1\" class=\"dataframe\">\n",
       "  <thead>\n",
       "    <tr style=\"text-align: right;\">\n",
       "      <th></th>\n",
       "      <th>total_matches</th>\n",
       "      <th>win_percentage</th>\n",
       "      <th>total_wins</th>\n",
       "      <th>losses</th>\n",
       "      <th>knockouts</th>\n",
       "      <th>ko_percentage</th>\n",
       "      <th>average_knockout_time</th>\n",
       "      <th>knockouts_against</th>\n",
       "      <th>ko_against_percentage</th>\n",
       "      <th>judges_decision_wins</th>\n",
       "      <th>robot</th>\n",
       "      <th>robots</th>\n",
       "      <th>season</th>\n",
       "    </tr>\n",
       "  </thead>\n",
       "  <tbody>\n",
       "    <tr>\n",
       "      <th>6</th>\n",
       "      <td>26.0</td>\n",
       "      <td>27.0</td>\n",
       "      <td>7.0</td>\n",
       "      <td>19.0</td>\n",
       "      <td>7.0</td>\n",
       "      <td>27.0</td>\n",
       "      <td>27.0</td>\n",
       "      <td>15</td>\n",
       "      <td>58%</td>\n",
       "      <td>0.0</td>\n",
       "      <td>captain-shredderator-wcvii</td>\n",
       "      <td>captain</td>\n",
       "      <td>wcvii</td>\n",
       "    </tr>\n",
       "    <tr>\n",
       "      <th>63</th>\n",
       "      <td>26.0</td>\n",
       "      <td>27.0</td>\n",
       "      <td>7.0</td>\n",
       "      <td>19.0</td>\n",
       "      <td>7.0</td>\n",
       "      <td>27.0</td>\n",
       "      <td>27.0</td>\n",
       "      <td>15</td>\n",
       "      <td>58%</td>\n",
       "      <td>0.0</td>\n",
       "      <td>captain-shrederator-2021</td>\n",
       "      <td>captain</td>\n",
       "      <td>2021</td>\n",
       "    </tr>\n",
       "    <tr>\n",
       "      <th>130</th>\n",
       "      <td>26.0</td>\n",
       "      <td>27.0</td>\n",
       "      <td>7.0</td>\n",
       "      <td>19.0</td>\n",
       "      <td>7.0</td>\n",
       "      <td>27.0</td>\n",
       "      <td>27.0</td>\n",
       "      <td>15</td>\n",
       "      <td>58%</td>\n",
       "      <td>0.0</td>\n",
       "      <td>captain-shrederator-2020</td>\n",
       "      <td>captain</td>\n",
       "      <td>2020</td>\n",
       "    </tr>\n",
       "    <tr>\n",
       "      <th>190</th>\n",
       "      <td>26.0</td>\n",
       "      <td>27.0</td>\n",
       "      <td>7.0</td>\n",
       "      <td>19.0</td>\n",
       "      <td>7.0</td>\n",
       "      <td>27.0</td>\n",
       "      <td>27.0</td>\n",
       "      <td>15</td>\n",
       "      <td>58%</td>\n",
       "      <td>0.0</td>\n",
       "      <td>captain-shrederator-2019</td>\n",
       "      <td>captain</td>\n",
       "      <td>2019</td>\n",
       "    </tr>\n",
       "    <tr>\n",
       "      <th>258</th>\n",
       "      <td>26.0</td>\n",
       "      <td>27.0</td>\n",
       "      <td>7.0</td>\n",
       "      <td>19.0</td>\n",
       "      <td>7.0</td>\n",
       "      <td>27.0</td>\n",
       "      <td>27.0</td>\n",
       "      <td>15</td>\n",
       "      <td>58%</td>\n",
       "      <td>0.0</td>\n",
       "      <td>captain-shrederator-3</td>\n",
       "      <td>captain</td>\n",
       "      <td>3</td>\n",
       "    </tr>\n",
       "    <tr>\n",
       "      <th>...</th>\n",
       "      <td>...</td>\n",
       "      <td>...</td>\n",
       "      <td>...</td>\n",
       "      <td>...</td>\n",
       "      <td>...</td>\n",
       "      <td>...</td>\n",
       "      <td>...</td>\n",
       "      <td>...</td>\n",
       "      <td>...</td>\n",
       "      <td>...</td>\n",
       "      <td>...</td>\n",
       "      <td>...</td>\n",
       "      <td>...</td>\n",
       "    </tr>\n",
       "    <tr>\n",
       "      <th>303</th>\n",
       "      <td>0.0</td>\n",
       "      <td>0.0</td>\n",
       "      <td>0.0</td>\n",
       "      <td>0.0</td>\n",
       "      <td>0.0</td>\n",
       "      <td>0.0</td>\n",
       "      <td>0.0</td>\n",
       "      <td>0</td>\n",
       "      <td>0%</td>\n",
       "      <td>0.0</td>\n",
       "      <td>ambush-s2</td>\n",
       "      <td>ambush</td>\n",
       "      <td>s2</td>\n",
       "    </tr>\n",
       "    <tr>\n",
       "      <th>321</th>\n",
       "      <td>0.0</td>\n",
       "      <td>0.0</td>\n",
       "      <td>0.0</td>\n",
       "      <td>0.0</td>\n",
       "      <td>0.0</td>\n",
       "      <td>0.0</td>\n",
       "      <td>0.0</td>\n",
       "      <td>0</td>\n",
       "      <td>0%</td>\n",
       "      <td>0.0</td>\n",
       "      <td>the-dentist</td>\n",
       "      <td>the</td>\n",
       "      <td>dentist</td>\n",
       "    </tr>\n",
       "    <tr>\n",
       "      <th>326</th>\n",
       "      <td>0.0</td>\n",
       "      <td>0.0</td>\n",
       "      <td>0.0</td>\n",
       "      <td>0.0</td>\n",
       "      <td>0.0</td>\n",
       "      <td>0.0</td>\n",
       "      <td>0.0</td>\n",
       "      <td>0</td>\n",
       "      <td>0%</td>\n",
       "      <td>0.0</td>\n",
       "      <td>hellachopper</td>\n",
       "      <td>hellachopper</td>\n",
       "      <td>hellachopper</td>\n",
       "    </tr>\n",
       "    <tr>\n",
       "      <th>343</th>\n",
       "      <td>0.0</td>\n",
       "      <td>0.0</td>\n",
       "      <td>0.0</td>\n",
       "      <td>0.0</td>\n",
       "      <td>0.0</td>\n",
       "      <td>0.0</td>\n",
       "      <td>0.0</td>\n",
       "      <td>0</td>\n",
       "      <td>0%</td>\n",
       "      <td>0.0</td>\n",
       "      <td>preying-mantis</td>\n",
       "      <td>preying</td>\n",
       "      <td>mantis</td>\n",
       "    </tr>\n",
       "    <tr>\n",
       "      <th>347</th>\n",
       "      <td>0.0</td>\n",
       "      <td>0.0</td>\n",
       "      <td>0.0</td>\n",
       "      <td>0.0</td>\n",
       "      <td>0.0</td>\n",
       "      <td>0.0</td>\n",
       "      <td>0.0</td>\n",
       "      <td>0</td>\n",
       "      <td>0%</td>\n",
       "      <td>0.0</td>\n",
       "      <td>road-rash</td>\n",
       "      <td>road</td>\n",
       "      <td>rash</td>\n",
       "    </tr>\n",
       "  </tbody>\n",
       "</table>\n",
       "<p>188 rows × 13 columns</p>\n",
       "</div>"
      ],
      "text/plain": [
       "     total_matches  win_percentage  total_wins  losses  knockouts  \\\n",
       "6             26.0            27.0         7.0    19.0        7.0   \n",
       "63            26.0            27.0         7.0    19.0        7.0   \n",
       "130           26.0            27.0         7.0    19.0        7.0   \n",
       "190           26.0            27.0         7.0    19.0        7.0   \n",
       "258           26.0            27.0         7.0    19.0        7.0   \n",
       "..             ...             ...         ...     ...        ...   \n",
       "303            0.0             0.0         0.0     0.0        0.0   \n",
       "321            0.0             0.0         0.0     0.0        0.0   \n",
       "326            0.0             0.0         0.0     0.0        0.0   \n",
       "343            0.0             0.0         0.0     0.0        0.0   \n",
       "347            0.0             0.0         0.0     0.0        0.0   \n",
       "\n",
       "     ko_percentage  average_knockout_time knockouts_against  \\\n",
       "6             27.0                   27.0                15   \n",
       "63            27.0                   27.0                15   \n",
       "130           27.0                   27.0                15   \n",
       "190           27.0                   27.0                15   \n",
       "258           27.0                   27.0                15   \n",
       "..             ...                    ...               ...   \n",
       "303            0.0                    0.0                 0   \n",
       "321            0.0                    0.0                 0   \n",
       "326            0.0                    0.0                 0   \n",
       "343            0.0                    0.0                 0   \n",
       "347            0.0                    0.0                 0   \n",
       "\n",
       "    ko_against_percentage  judges_decision_wins                       robot  \\\n",
       "6                     58%                   0.0  captain-shredderator-wcvii   \n",
       "63                    58%                   0.0    captain-shrederator-2021   \n",
       "130                   58%                   0.0    captain-shrederator-2020   \n",
       "190                   58%                   0.0    captain-shrederator-2019   \n",
       "258                   58%                   0.0       captain-shrederator-3   \n",
       "..                    ...                   ...                         ...   \n",
       "303                    0%                   0.0                   ambush-s2   \n",
       "321                    0%                   0.0                 the-dentist   \n",
       "326                    0%                   0.0                hellachopper   \n",
       "343                    0%                   0.0              preying-mantis   \n",
       "347                    0%                   0.0                   road-rash   \n",
       "\n",
       "           robots        season  \n",
       "6         captain         wcvii  \n",
       "63        captain          2021  \n",
       "130       captain          2020  \n",
       "190       captain          2019  \n",
       "258       captain             3  \n",
       "..            ...           ...  \n",
       "303        ambush            s2  \n",
       "321           the       dentist  \n",
       "326  hellachopper  hellachopper  \n",
       "343       preying        mantis  \n",
       "347          road          rash  \n",
       "\n",
       "[188 rows x 13 columns]"
      ]
     },
     "execution_count": 31,
     "metadata": {},
     "output_type": "execute_result"
    }
   ],
   "source": [
    "losers"
   ]
  },
  {
   "cell_type": "code",
   "execution_count": 32,
   "id": "e889fef2",
   "metadata": {},
   "outputs": [],
   "source": [
    "losers = losers.drop_duplicates(subset = 'robots')"
   ]
  },
  {
   "cell_type": "code",
   "execution_count": 33,
   "id": "47e2b575",
   "metadata": {},
   "outputs": [
    {
     "data": {
      "text/plain": [
       "<AxesSubplot:xlabel='total_matches', ylabel='robot'>"
      ]
     },
     "execution_count": 33,
     "metadata": {},
     "output_type": "execute_result"
    },
    {
     "data": {
      "image/png": "[encoded data removed]",
      "text/plain": [
       "<Figure size 640x480 with 1 Axes>"
      ]
     },
     "metadata": {},
     "output_type": "display_data"
    }
   ],
   "source": [
    "sns.barplot(y = 'robot', x = 'total_matches', data = losers.head(20), palette= 'Paired')"
   ]
  },
  {
   "cell_type": "code",
   "execution_count": 34,
   "id": "a13c35ed",
   "metadata": {},
   "outputs": [
    {
     "data": {
      "text/html": [
       "<div>\n",
       "<style scoped>\n",
       "    .dataframe tbody tr th:only-of-type {\n",
       "        vertical-align: middle;\n",
       "    }\n",
       "\n",
       "    .dataframe tbody tr th {\n",
       "        vertical-align: top;\n",
       "    }\n",
       "\n",
       "    .dataframe thead th {\n",
       "        text-align: right;\n",
       "    }\n",
       "</style>\n",
       "<table border=\"1\" class=\"dataframe\">\n",
       "  <thead>\n",
       "    <tr style=\"text-align: right;\">\n",
       "      <th></th>\n",
       "      <th>total_matches</th>\n",
       "      <th>win_percentage</th>\n",
       "      <th>total_wins</th>\n",
       "      <th>losses</th>\n",
       "      <th>knockouts</th>\n",
       "      <th>ko_percentage</th>\n",
       "      <th>average_knockout_time</th>\n",
       "      <th>knockouts_against</th>\n",
       "      <th>ko_against_percentage</th>\n",
       "      <th>judges_decision_wins</th>\n",
       "      <th>robot</th>\n",
       "      <th>robots</th>\n",
       "      <th>season</th>\n",
       "    </tr>\n",
       "  </thead>\n",
       "  <tbody>\n",
       "    <tr>\n",
       "      <th>6</th>\n",
       "      <td>26.0</td>\n",
       "      <td>27.0</td>\n",
       "      <td>7.0</td>\n",
       "      <td>19.0</td>\n",
       "      <td>7.0</td>\n",
       "      <td>27.0</td>\n",
       "      <td>27.0</td>\n",
       "      <td>15</td>\n",
       "      <td>58%</td>\n",
       "      <td>0.0</td>\n",
       "      <td>captain-shredderator-wcvii</td>\n",
       "      <td>captain</td>\n",
       "      <td>wcvii</td>\n",
       "    </tr>\n",
       "    <tr>\n",
       "      <th>28</th>\n",
       "      <td>23.0</td>\n",
       "      <td>22.0</td>\n",
       "      <td>5.0</td>\n",
       "      <td>18.0</td>\n",
       "      <td>0.0</td>\n",
       "      <td>0.0</td>\n",
       "      <td>0.0</td>\n",
       "      <td>7</td>\n",
       "      <td>30%</td>\n",
       "      <td>5.0</td>\n",
       "      <td>kraken-wcvii</td>\n",
       "      <td>kraken</td>\n",
       "      <td>wcvii</td>\n",
       "    </tr>\n",
       "    <tr>\n",
       "      <th>33</th>\n",
       "      <td>22.0</td>\n",
       "      <td>41.0</td>\n",
       "      <td>9.0</td>\n",
       "      <td>13.0</td>\n",
       "      <td>6.0</td>\n",
       "      <td>27.0</td>\n",
       "      <td>27.0</td>\n",
       "      <td>8</td>\n",
       "      <td>36%</td>\n",
       "      <td>2.0</td>\n",
       "      <td>mammoth-wcvii</td>\n",
       "      <td>mammoth</td>\n",
       "      <td>wcvii</td>\n",
       "    </tr>\n",
       "    <tr>\n",
       "      <th>59</th>\n",
       "      <td>20.0</td>\n",
       "      <td>40.0</td>\n",
       "      <td>8.0</td>\n",
       "      <td>12.0</td>\n",
       "      <td>3.0</td>\n",
       "      <td>15.0</td>\n",
       "      <td>15.0</td>\n",
       "      <td>2</td>\n",
       "      <td>10%</td>\n",
       "      <td>4.0</td>\n",
       "      <td>blacksmith-2021</td>\n",
       "      <td>blacksmith</td>\n",
       "      <td>2021</td>\n",
       "    </tr>\n",
       "    <tr>\n",
       "      <th>109</th>\n",
       "      <td>20.0</td>\n",
       "      <td>35.0</td>\n",
       "      <td>7.0</td>\n",
       "      <td>13.0</td>\n",
       "      <td>7.0</td>\n",
       "      <td>35.0</td>\n",
       "      <td>35.0</td>\n",
       "      <td>8</td>\n",
       "      <td>40%</td>\n",
       "      <td>0.0</td>\n",
       "      <td>subzero-2021</td>\n",
       "      <td>subzero</td>\n",
       "      <td>2021</td>\n",
       "    </tr>\n",
       "    <tr>\n",
       "      <th>...</th>\n",
       "      <td>...</td>\n",
       "      <td>...</td>\n",
       "      <td>...</td>\n",
       "      <td>...</td>\n",
       "      <td>...</td>\n",
       "      <td>...</td>\n",
       "      <td>...</td>\n",
       "      <td>...</td>\n",
       "      <td>...</td>\n",
       "      <td>...</td>\n",
       "      <td>...</td>\n",
       "      <td>...</td>\n",
       "      <td>...</td>\n",
       "    </tr>\n",
       "    <tr>\n",
       "      <th>383</th>\n",
       "      <td>1.0</td>\n",
       "      <td>0.0</td>\n",
       "      <td>0.0</td>\n",
       "      <td>1.0</td>\n",
       "      <td>0.0</td>\n",
       "      <td>0.0</td>\n",
       "      <td>0.0</td>\n",
       "      <td>0</td>\n",
       "      <td>0%</td>\n",
       "      <td>0.0</td>\n",
       "      <td>sweet-revenge</td>\n",
       "      <td>sweet</td>\n",
       "      <td>revenge</td>\n",
       "    </tr>\n",
       "    <tr>\n",
       "      <th>303</th>\n",
       "      <td>0.0</td>\n",
       "      <td>0.0</td>\n",
       "      <td>0.0</td>\n",
       "      <td>0.0</td>\n",
       "      <td>0.0</td>\n",
       "      <td>0.0</td>\n",
       "      <td>0.0</td>\n",
       "      <td>0</td>\n",
       "      <td>0%</td>\n",
       "      <td>0.0</td>\n",
       "      <td>ambush-s2</td>\n",
       "      <td>ambush</td>\n",
       "      <td>s2</td>\n",
       "    </tr>\n",
       "    <tr>\n",
       "      <th>326</th>\n",
       "      <td>0.0</td>\n",
       "      <td>0.0</td>\n",
       "      <td>0.0</td>\n",
       "      <td>0.0</td>\n",
       "      <td>0.0</td>\n",
       "      <td>0.0</td>\n",
       "      <td>0.0</td>\n",
       "      <td>0</td>\n",
       "      <td>0%</td>\n",
       "      <td>0.0</td>\n",
       "      <td>hellachopper</td>\n",
       "      <td>hellachopper</td>\n",
       "      <td>hellachopper</td>\n",
       "    </tr>\n",
       "    <tr>\n",
       "      <th>343</th>\n",
       "      <td>0.0</td>\n",
       "      <td>0.0</td>\n",
       "      <td>0.0</td>\n",
       "      <td>0.0</td>\n",
       "      <td>0.0</td>\n",
       "      <td>0.0</td>\n",
       "      <td>0.0</td>\n",
       "      <td>0</td>\n",
       "      <td>0%</td>\n",
       "      <td>0.0</td>\n",
       "      <td>preying-mantis</td>\n",
       "      <td>preying</td>\n",
       "      <td>mantis</td>\n",
       "    </tr>\n",
       "    <tr>\n",
       "      <th>347</th>\n",
       "      <td>0.0</td>\n",
       "      <td>0.0</td>\n",
       "      <td>0.0</td>\n",
       "      <td>0.0</td>\n",
       "      <td>0.0</td>\n",
       "      <td>0.0</td>\n",
       "      <td>0.0</td>\n",
       "      <td>0</td>\n",
       "      <td>0%</td>\n",
       "      <td>0.0</td>\n",
       "      <td>road-rash</td>\n",
       "      <td>road</td>\n",
       "      <td>rash</td>\n",
       "    </tr>\n",
       "  </tbody>\n",
       "</table>\n",
       "<p>105 rows × 13 columns</p>\n",
       "</div>"
      ],
      "text/plain": [
       "     total_matches  win_percentage  total_wins  losses  knockouts  \\\n",
       "6             26.0            27.0         7.0    19.0        7.0   \n",
       "28            23.0            22.0         5.0    18.0        0.0   \n",
       "33            22.0            41.0         9.0    13.0        6.0   \n",
       "59            20.0            40.0         8.0    12.0        3.0   \n",
       "109           20.0            35.0         7.0    13.0        7.0   \n",
       "..             ...             ...         ...     ...        ...   \n",
       "383            1.0             0.0         0.0     1.0        0.0   \n",
       "303            0.0             0.0         0.0     0.0        0.0   \n",
       "326            0.0             0.0         0.0     0.0        0.0   \n",
       "343            0.0             0.0         0.0     0.0        0.0   \n",
       "347            0.0             0.0         0.0     0.0        0.0   \n",
       "\n",
       "     ko_percentage  average_knockout_time knockouts_against  \\\n",
       "6             27.0                   27.0                15   \n",
       "28             0.0                    0.0                 7   \n",
       "33            27.0                   27.0                 8   \n",
       "59            15.0                   15.0                 2   \n",
       "109           35.0                   35.0                 8   \n",
       "..             ...                    ...               ...   \n",
       "383            0.0                    0.0                 0   \n",
       "303            0.0                    0.0                 0   \n",
       "326            0.0                    0.0                 0   \n",
       "343            0.0                    0.0                 0   \n",
       "347            0.0                    0.0                 0   \n",
       "\n",
       "    ko_against_percentage  judges_decision_wins                       robot  \\\n",
       "6                     58%                   0.0  captain-shredderator-wcvii   \n",
       "28                    30%                   5.0                kraken-wcvii   \n",
       "33                    36%                   2.0               mammoth-wcvii   \n",
       "59                    10%                   4.0             blacksmith-2021   \n",
       "109                   40%                   0.0                subzero-2021   \n",
       "..                    ...                   ...                         ...   \n",
       "383                    0%                   0.0               sweet-revenge   \n",
       "303                    0%                   0.0                   ambush-s2   \n",
       "326                    0%                   0.0                hellachopper   \n",
       "343                    0%                   0.0              preying-mantis   \n",
       "347                    0%                   0.0                   road-rash   \n",
       "\n",
       "           robots        season  \n",
       "6         captain         wcvii  \n",
       "28         kraken         wcvii  \n",
       "33        mammoth         wcvii  \n",
       "59     blacksmith          2021  \n",
       "109       subzero          2021  \n",
       "..            ...           ...  \n",
       "383         sweet       revenge  \n",
       "303        ambush            s2  \n",
       "326  hellachopper  hellachopper  \n",
       "343       preying        mantis  \n",
       "347          road          rash  \n",
       "\n",
       "[105 rows x 13 columns]"
      ]
     },
     "execution_count": 34,
     "metadata": {},
     "output_type": "execute_result"
    }
   ],
   "source": [
    "losers"
   ]
  },
  {
   "cell_type": "markdown",
   "id": "3e012e37",
   "metadata": {},
   "source": [
    "# match dataset"
   ]
  },
  {
   "cell_type": "code",
   "execution_count": null,
   "id": "5e779838",
   "metadata": {},
   "outputs": [],
   "source": []
  },
  {
   "cell_type": "code",
   "execution_count": 35,
   "id": "fa4a130f",
   "metadata": {},
   "outputs": [
    {
     "data": {
      "text/plain": [
       "'Switchback vs Banshee'"
      ]
     },
     "execution_count": 35,
     "metadata": {},
     "output_type": "execute_result"
    }
   ],
   "source": [
    "match.Matchup[0]"
   ]
  },
  {
   "cell_type": "code",
   "execution_count": 36,
   "id": "c884c717",
   "metadata": {},
   "outputs": [],
   "source": [
    "test = 'Switchback vs Banshee'"
   ]
  },
  {
   "cell_type": "code",
   "execution_count": 37,
   "id": "732122d2",
   "metadata": {},
   "outputs": [
    {
     "data": {
      "text/plain": [
       "'Switchback '"
      ]
     },
     "execution_count": 37,
     "metadata": {},
     "output_type": "execute_result"
    }
   ],
   "source": [
    "test.split('vs')[0]"
   ]
  },
  {
   "cell_type": "code",
   "execution_count": 38,
   "id": "43286894",
   "metadata": {},
   "outputs": [],
   "source": [
    "main = lambda x : x.split('vs')[0]\n",
    "opp = lambda x : x.split('vs')[1]"
   ]
  },
  {
   "cell_type": "code",
   "execution_count": 39,
   "id": "a8ee625e",
   "metadata": {},
   "outputs": [],
   "source": [
    "# Filter out non-string and missing values from 'Matchup' column\n",
    "match = match.loc[match['Matchup'].apply(lambda x: isinstance(x, str) and x != '')]\n",
    "\n",
    "# Apply lambda function to create new 'main' column\n",
    "match['main'] = match['Matchup'].apply(main)"
   ]
  },
  {
   "cell_type": "code",
   "execution_count": 40,
   "id": "fab3eb7b",
   "metadata": {},
   "outputs": [],
   "source": [
    "# Filter out non-string and missing values from 'Matchup' column\n",
    "match = match.loc[match['Matchup'].apply(lambda x: isinstance(x, str) and x != '')]\n",
    "\n",
    "# Apply lambda function to create new 'main' column\n",
    "match['opp'] = match['Matchup'].apply(opp)"
   ]
  },
  {
   "cell_type": "code",
   "execution_count": 41,
   "id": "bc77cdd4",
   "metadata": {},
   "outputs": [],
   "source": [
    "# I split this column into two. Main which is the main robot versus the opponent.\n",
    "match = match.drop(columns= 'Matchup')"
   ]
  },
  {
   "cell_type": "code",
   "execution_count": 42,
   "id": "f85c6d30",
   "metadata": {},
   "outputs": [
    {
     "data": {
      "text/plain": [
       "'Switchback by JD'"
      ]
     },
     "execution_count": 42,
     "metadata": {},
     "output_type": "execute_result"
    }
   ],
   "source": [
    "match.Results[0]"
   ]
  },
  {
   "cell_type": "code",
   "execution_count": 43,
   "id": "b9941c88",
   "metadata": {},
   "outputs": [],
   "source": [
    "test = 'Gigabyte by KO 2m53s'"
   ]
  },
  {
   "cell_type": "code",
   "execution_count": 44,
   "id": "5b523104",
   "metadata": {},
   "outputs": [
    {
     "data": {
      "text/plain": [
       "['Giga', 'te ', ' KO 2m53s']"
      ]
     },
     "execution_count": 44,
     "metadata": {},
     "output_type": "execute_result"
    }
   ],
   "source": [
    "test.split('by')"
   ]
  },
  {
   "cell_type": "code",
   "execution_count": 45,
   "id": "be52eb36",
   "metadata": {},
   "outputs": [],
   "source": [
    "winner = lambda x : x.rsplit('by',1)[0].strip() if isinstance(x, str) else None\n",
    "# finds the last by\n",
    "win_type = lambda x : x.rsplit('by', 1)[-1].strip() if isinstance(x, str) else None\n"
   ]
  },
  {
   "cell_type": "code",
   "execution_count": 46,
   "id": "23d73f0c",
   "metadata": {},
   "outputs": [],
   "source": [
    "# Filter out non-string and missing values from 'Results' column\n",
    "match = match.loc[match['Results'].apply(lambda x: isinstance(x, str) and x != '')]\n",
    "\n",
    "# Apply lambda function to create new 'winner' column\n",
    "match['winner'] = match['Results'].apply(winner)"
   ]
  },
  {
   "cell_type": "code",
   "execution_count": 47,
   "id": "43df56c4",
   "metadata": {},
   "outputs": [],
   "source": [
    "# Filter out non-string and missing values from 'Results' column\n",
    "match = match.loc[match['Results'].apply(lambda x: isinstance(x, str) and x != '')]\n",
    "\n",
    "# Apply lambda function to create new 'winner' column\n",
    "match['win_type'] = match['Results'].apply(win_type)"
   ]
  },
  {
   "cell_type": "code",
   "execution_count": 48,
   "id": "3ec1e0a5",
   "metadata": {},
   "outputs": [],
   "source": [
    "strip = lambda x : x.strip(' ') if isinstance(x, str) else None\n",
    "\n",
    "# Apply lambda function to create new 'winner' column\n",
    "match['win_type'] = match['win_type'].apply(strip)"
   ]
  },
  {
   "cell_type": "code",
   "execution_count": 55,
   "id": "da55d9b1",
   "metadata": {},
   "outputs": [],
   "source": [
    "match.drop(columns= [\"Results\",\"robot\",\"Opponent\"],inplace = True)"
   ]
  },
  {
   "cell_type": "code",
   "execution_count": 54,
   "id": "f567ab26",
   "metadata": {
    "scrolled": true
   },
   "outputs": [
    {
     "name": "stderr",
     "output_type": "stream",
     "text": [
      "/var/folders/d0/5dr5q0n145vcn3_m9dxy1xq80000gn/T/ipykernel_14605/3718011968.py:1: SettingWithCopyWarning: \n",
      "A value is trying to be set on a copy of a slice from a DataFrame.\n",
      "Try using .loc[row_indexer,col_indexer] = value instead\n",
      "\n",
      "See the caveats in the documentation: https://pandas.pydata.org/pandas-docs/stable/user_guide/indexing.html#returning-a-view-versus-a-copy\n",
      "  match[match.Results == \"Pain Train\"].win_type  = 'KO'\n"
     ]
    }
   ],
   "source": [
    "# fix these 4 indivdual errors\n",
    "match[match.Results == \"Pain Train\"].win_type  = 'KO'"
   ]
  },
  {
   "cell_type": "code",
   "execution_count": 66,
   "id": "6e294094",
   "metadata": {},
   "outputs": [],
   "source": [
    "test = 'KO 1m50s'"
   ]
  },
  {
   "cell_type": "code",
   "execution_count": 67,
   "id": "fc4f21bb",
   "metadata": {
    "scrolled": true
   },
   "outputs": [
    {
     "data": {
      "text/plain": [
       "['KO', '1m50s']"
      ]
     },
     "execution_count": 67,
     "metadata": {},
     "output_type": "execute_result"
    }
   ],
   "source": [
    "test.split(' ')"
   ]
  },
  {
   "cell_type": "code",
   "execution_count": 72,
   "id": "21de1f32",
   "metadata": {},
   "outputs": [],
   "source": [
    "time = lambda x : x.split(' ')[1] if isinstance(x, str) and ' ' in x else None\n",
    "\n",
    "\n",
    "# Apply lambda function to create new 'winner' column\n",
    "match['ko_time'] = match['win_type'].apply(time)"
   ]
  },
  {
   "cell_type": "code",
   "execution_count": 73,
   "id": "8237ef06",
   "metadata": {},
   "outputs": [
    {
     "data": {
      "text/html": [
       "<div>\n",
       "<style scoped>\n",
       "    .dataframe tbody tr th:only-of-type {\n",
       "        vertical-align: middle;\n",
       "    }\n",
       "\n",
       "    .dataframe tbody tr th {\n",
       "        vertical-align: top;\n",
       "    }\n",
       "\n",
       "    .dataframe thead th {\n",
       "        text-align: right;\n",
       "    }\n",
       "</style>\n",
       "<table border=\"1\" class=\"dataframe\">\n",
       "  <thead>\n",
       "    <tr style=\"text-align: right;\">\n",
       "      <th></th>\n",
       "      <th>Season</th>\n",
       "      <th>Round</th>\n",
       "      <th>main</th>\n",
       "      <th>opp</th>\n",
       "      <th>winner</th>\n",
       "      <th>win_type</th>\n",
       "      <th>ko_time</th>\n",
       "    </tr>\n",
       "  </thead>\n",
       "  <tbody>\n",
       "    <tr>\n",
       "      <th>0</th>\n",
       "      <td>WCVII</td>\n",
       "      <td>Episode 702</td>\n",
       "      <td>Switchback</td>\n",
       "      <td>Banshee</td>\n",
       "      <td>Switchback</td>\n",
       "      <td>JD</td>\n",
       "      <td>None</td>\n",
       "    </tr>\n",
       "    <tr>\n",
       "      <th>1</th>\n",
       "      <td>WCVII</td>\n",
       "      <td>Episode 706</td>\n",
       "      <td>Banshee</td>\n",
       "      <td>Valkyrie</td>\n",
       "      <td>Banshee</td>\n",
       "      <td>JD</td>\n",
       "      <td>None</td>\n",
       "    </tr>\n",
       "    <tr>\n",
       "      <th>2</th>\n",
       "      <td>WCVII</td>\n",
       "      <td>Episode 710</td>\n",
       "      <td>Emulsifier</td>\n",
       "      <td>Banshee</td>\n",
       "      <td>Emulsifier</td>\n",
       "      <td>KO 1m50s</td>\n",
       "      <td>1m50s</td>\n",
       "    </tr>\n",
       "    <tr>\n",
       "      <th>4</th>\n",
       "      <td>WCVII</td>\n",
       "      <td>Episode 704</td>\n",
       "      <td>Kraken</td>\n",
       "      <td>Beta</td>\n",
       "      <td>Beta</td>\n",
       "      <td>JD</td>\n",
       "      <td>None</td>\n",
       "    </tr>\n",
       "    <tr>\n",
       "      <th>5</th>\n",
       "      <td>WCVII</td>\n",
       "      <td>Episode 708</td>\n",
       "      <td>Beta</td>\n",
       "      <td>Shatter</td>\n",
       "      <td>Beta</td>\n",
       "      <td>JD</td>\n",
       "      <td>None</td>\n",
       "    </tr>\n",
       "    <tr>\n",
       "      <th>...</th>\n",
       "      <td>...</td>\n",
       "      <td>...</td>\n",
       "      <td>...</td>\n",
       "      <td>...</td>\n",
       "      <td>...</td>\n",
       "      <td>...</td>\n",
       "      <td>...</td>\n",
       "    </tr>\n",
       "    <tr>\n",
       "      <th>4950</th>\n",
       "      <td>2016</td>\n",
       "      <td>Qualifiers Session 1</td>\n",
       "      <td>Lock-Jaw</td>\n",
       "      <td>Yeti</td>\n",
       "      <td>Yeti</td>\n",
       "      <td>JD</td>\n",
       "      <td>None</td>\n",
       "    </tr>\n",
       "    <tr>\n",
       "      <th>4951</th>\n",
       "      <td>2016</td>\n",
       "      <td>Quarter Finals</td>\n",
       "      <td>Chomp</td>\n",
       "      <td>Yeti</td>\n",
       "      <td>Yeti</td>\n",
       "      <td>KO 2m24s</td>\n",
       "      <td>2m24s</td>\n",
       "    </tr>\n",
       "    <tr>\n",
       "      <th>4952</th>\n",
       "      <td>2016</td>\n",
       "      <td>Round of 32</td>\n",
       "      <td>Yeti</td>\n",
       "      <td>Lucky</td>\n",
       "      <td>Yeti</td>\n",
       "      <td>KO 2m44s</td>\n",
       "      <td>2m44s</td>\n",
       "    </tr>\n",
       "    <tr>\n",
       "      <th>4953</th>\n",
       "      <td>2016</td>\n",
       "      <td>Semi Finals</td>\n",
       "      <td>Tombstone</td>\n",
       "      <td>Yeti</td>\n",
       "      <td>Tombstone</td>\n",
       "      <td>JD</td>\n",
       "      <td>None</td>\n",
       "    </tr>\n",
       "    <tr>\n",
       "      <th>4954</th>\n",
       "      <td>2016</td>\n",
       "      <td>Sweet 16</td>\n",
       "      <td>Mega Tento</td>\n",
       "      <td>Yeti</td>\n",
       "      <td>Yeti</td>\n",
       "      <td>KO 44s</td>\n",
       "      <td>44s</td>\n",
       "    </tr>\n",
       "  </tbody>\n",
       "</table>\n",
       "<p>4842 rows × 7 columns</p>\n",
       "</div>"
      ],
      "text/plain": [
       "     Season                 Round         main        opp      winner  \\\n",
       "0     WCVII           Episode 702  Switchback     Banshee  Switchback   \n",
       "1     WCVII           Episode 706     Banshee    Valkyrie     Banshee   \n",
       "2     WCVII           Episode 710  Emulsifier     Banshee  Emulsifier   \n",
       "4     WCVII           Episode 704      Kraken        Beta        Beta   \n",
       "5     WCVII           Episode 708        Beta     Shatter        Beta   \n",
       "...     ...                   ...          ...        ...         ...   \n",
       "4950   2016  Qualifiers Session 1    Lock-Jaw        Yeti        Yeti   \n",
       "4951   2016        Quarter Finals       Chomp        Yeti        Yeti   \n",
       "4952   2016           Round of 32        Yeti       Lucky        Yeti   \n",
       "4953   2016           Semi Finals   Tombstone        Yeti   Tombstone   \n",
       "4954   2016              Sweet 16  Mega Tento        Yeti        Yeti   \n",
       "\n",
       "      win_type ko_time  \n",
       "0           JD    None  \n",
       "1           JD    None  \n",
       "2     KO 1m50s   1m50s  \n",
       "4           JD    None  \n",
       "5           JD    None  \n",
       "...        ...     ...  \n",
       "4950        JD    None  \n",
       "4951  KO 2m24s   2m24s  \n",
       "4952  KO 2m44s   2m44s  \n",
       "4953        JD    None  \n",
       "4954    KO 44s     44s  \n",
       "\n",
       "[4842 rows x 7 columns]"
      ]
     },
     "execution_count": 73,
     "metadata": {},
     "output_type": "execute_result"
    }
   ],
   "source": [
    "match"
   ]
  },
  {
   "cell_type": "code",
   "execution_count": null,
   "id": "496f19ea",
   "metadata": {},
   "outputs": [],
   "source": []
  }
 ],
 "metadata": {
  "kernelspec": {
   "display_name": "Python 3 (ipykernel)",
   "language": "python",
   "name": "python3"
  },
  "language_info": {
   "codemirror_mode": {
    "name": "ipython",
    "version": 3
   },
   "file_extension": ".py",
   "mimetype": "text/x-python",
   "name": "python",
   "nbconvert_exporter": "python",
   "pygments_lexer": "ipython3",
   "version": "3.9.13"
  }
 },
 "nbformat": 4,
 "nbformat_minor": 5
}
